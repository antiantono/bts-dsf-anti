{
  "nbformat": 4,
  "nbformat_minor": 0,
  "metadata": {
    "colab": {
      "name": "DSF_FINAL_PROJECT_AA.ipynb",
      "provenance": [],
      "collapsed_sections": [],
      "toc_visible": true
    },
    "kernelspec": {
      "name": "python3",
      "display_name": "Python 3"
    }
  },
  "cells": [
    {
      "cell_type": "markdown",
      "metadata": {
        "id": "tUNzu8pXC5jh"
      },
      "source": [
        "![BTS](https://github.com/vfp1/bts-dsf-2020/blob/main/Logo-BTS.jpg?raw=1)\n",
        "\n",
        "# FINAL PROJECT\n",
        "### Course : Data Science Foundations\n",
        "### Instructor : Victor F. Pajuelo Madrigal <victor.pajuelo@bts.tech> \n",
        "### Assignment submitted by : Anti Antono <anti.antono@bts.tech> \n",
        "\n",
        "### Open this notebook in Google Colaboratory: [![Open in Colab](https://colab.research.google.com/assets/colab-badge.svg)](https://github.com/antiantono/bts-dsf-anti/tree/main/assignments/DSF_FINAL_PROJECT_AA.ipynb)"
      ]
    },
    {
      "cell_type": "markdown",
      "metadata": {
        "id": "vM0SM4jCS1bS"
      },
      "source": [
        "# The Assignment\n",
        "\n",
        "The final project for the class will need to draw from everything you have covered in class, at least everything relevant for your final project. For that you will need to choose a topic. You will be using **the image and text** datasets that we have seen on our sessions. \n",
        "\n",
        "It doesn't need to be a super revolutionary idea, but at least have in mind the issue of reducing the time between information and action. And you will need to send it to me. \n",
        "\n",
        "The project will need to contain the following steps:\n",
        "\n",
        "1. Ingesting, exploring and cleaning data for your project\n",
        "2. Choosing/testing of algorithm approach\n",
        "3. Visualizing the results\n",
        "4. Packaging the project into a product\n",
        "\n",
        "You will be using code from class to support you on the second, third and forth parts of the project. \n",
        "\n",
        "I am not looking for excellence, and I do not mind that you copy/paste code, but always try to understand why. "
      ]
    },
    {
      "cell_type": "markdown",
      "metadata": {
        "id": "msIVhAby7w3e"
      },
      "source": [
        "# About This Project\n",
        "**The objective** : to help marketers of alcoholic beverage brands create better marketing messages, by understanding what product characteristics drive purchase.\n",
        "\n",
        "**The solution** : a tool that indicates whether a product description is likely to generate purchase or not.\n",
        "\n",
        "**Dataset** : [Beer, liquor and wine reviews](https://www.kaggle.com/datafiniti/wine-beer-and-liquor-reviews) on Kaggle, featuring product reviews given on various US retailer websites (e.g. Amazon, Walmart, Target). More info is available from the data provider [here.](https://developer.datafiniti.co/docs/product-data-schema)\n",
        "\n"
      ]
    },
    {
      "cell_type": "code",
      "metadata": {
        "colab": {
          "base_uri": "https://localhost:8080/"
        },
        "id": "rgsfszxrMWL0",
        "outputId": "ca1c7614-1b2c-4713-c037-a5ec3e968598"
      },
      "source": [
        "from google.colab import drive\n",
        "drive.mount('/content/drive', force_remount = True)"
      ],
      "execution_count": 1,
      "outputs": [
        {
          "output_type": "stream",
          "text": [
            "Mounted at /content/drive\n"
          ],
          "name": "stdout"
        }
      ]
    },
    {
      "cell_type": "code",
      "metadata": {
        "id": "P0CGPtIJAt0a"
      },
      "source": [
        "from IPython.core.interactiveshell import InteractiveShell\r\n",
        "InteractiveShell.ast_node_interactivity = \"all\""
      ],
      "execution_count": 2,
      "outputs": []
    },
    {
      "cell_type": "code",
      "metadata": {
        "id": "BTph7MoB5tqj"
      },
      "source": [
        "import numpy as np\r\n",
        "import pandas as pd\r\n",
        "import matplotlib.pyplot as plt\r\n",
        "%matplotlib inline\r\n",
        "import seaborn as sns\r\n",
        "sns.set_style('white')"
      ],
      "execution_count": 3,
      "outputs": []
    },
    {
      "cell_type": "markdown",
      "metadata": {
        "id": "XVg6wh-w45i9"
      },
      "source": [
        "#0 Data Cleaning\r\n",
        "*Note1 : despite its title \"Beer, liquor and wine reviews\", the data actually includes other product types. To avoid losing too much data, I decided to keep all food and beverage cases, under the hypothesis that they may share similar product attributes e.g. flavour mentions.* \r\n",
        "\r\n",
        "*Note2 : the category variable is so messy! I decided to manually add the product type variable manually to the csv file, which didn't take long as the sample data is fairly small and I have domain knowledge on the US market and beverage category.*\r\n",
        "\r\n",
        "\r\n",
        "**Tasks in this section: preprocessing and checks**\r\n",
        "* Load raw data in full \r\n",
        "* Remove cases in the wrong category (not food/bev) + tidy up\r\n",
        "* First checks on variables to use as target\r\n",
        "* Save clean, relevant data for modeling"
      ]
    },
    {
      "cell_type": "markdown",
      "metadata": {
        "id": "a-G6k4bGM-O1"
      },
      "source": [
        "## 0.1 Raw data"
      ]
    },
    {
      "cell_type": "code",
      "metadata": {
        "id": "uWMMHExRM3m7",
        "colab": {
          "base_uri": "https://localhost:8080/"
        },
        "outputId": "213edbba-d63c-4543-d8f2-1010f7f0c12d"
      },
      "source": [
        "# Load raw data in full \r\n",
        "raw = pd.read_csv('https://raw.githubusercontent.com/antiantono/bts-dsf-anti/main/data/reviews.csv')\r\n",
        "raw.columns"
      ],
      "execution_count": 7,
      "outputs": [
        {
          "output_type": "execute_result",
          "data": {
            "text/plain": [
              "Index(['id', 'asins', 'brand', 'categories', 'prod_type', 'dateAdded',\n",
              "       'dateUpdated', 'descriptions', 'dimension', 'ean', 'flavors', 'keys',\n",
              "       'manufacturer', 'manufacturerNumber', 'name', 'reviews.date',\n",
              "       'reviews.dateAdded', 'reviews.dateSeen', 'reviews.didPurchase',\n",
              "       'reviews.doRecommend', 'reviews.id', 'reviews.numHelpful',\n",
              "       'reviews.rating', 'reviews.sourceURLs', 'reviews.text', 'reviews.title',\n",
              "       'reviews.userCity', 'reviews.userProvince', 'reviews.username', 'sizes',\n",
              "       'sourceURLs', 'upc', 'weight'],\n",
              "      dtype='object')"
            ]
          },
          "metadata": {
            "tags": []
          },
          "execution_count": 7
        }
      ]
    },
    {
      "cell_type": "code",
      "metadata": {
        "colab": {
          "base_uri": "https://localhost:8080/"
        },
        "id": "KEFs4cgiNRtR",
        "outputId": "24b4fb35-a614-40e9-e079-1579ce428581"
      },
      "source": [
        "# Check categories --> we'll drop more than a third of the data ('Other' category i.e. not food or beverage)\r\n",
        "print(\"PRODUCT TYPE COUNTS (n)\\n\", \"All Categories       \", len(raw), \r\n",
        "      \"\\n\", raw.prod_type.value_counts())"
      ],
      "execution_count": null,
      "outputs": [
        {
          "output_type": "stream",
          "text": [
            "PRODUCT TYPE COUNTS (n)\n",
            " All Categories        2890 \n",
            " Other                 1052\n",
            "Mixer_Cocktail_FAB     547\n",
            "Wine                   521\n",
            "Spirits                344\n",
            "Food                   214\n",
            "Beer_Malt              136\n",
            "Non Alc Bev             76\n",
            "Name: prod_type, dtype: int64\n"
          ],
          "name": "stdout"
        }
      ]
    },
    {
      "cell_type": "markdown",
      "metadata": {
        "id": "OkhO8_-aB0aP"
      },
      "source": [
        "## 0.2 Data selection"
      ]
    },
    {
      "cell_type": "code",
      "metadata": {
        "id": "2r6g8n6_N2Uz"
      },
      "source": [
        "# Now we'll prepare a clean dataset for anaysis\r\n",
        "clean = raw.copy()"
      ],
      "execution_count": null,
      "outputs": []
    },
    {
      "cell_type": "code",
      "metadata": {
        "colab": {
          "base_uri": "https://localhost:8080/"
        },
        "id": "rzS7pRu0OPpy",
        "outputId": "07d404e1-2147-47db-a41a-4909c5b84714"
      },
      "source": [
        "# Remove 'Other' (not food or beverage)\r\n",
        "clean = clean[clean.prod_type != 'Other']\r\n",
        "clean.prod_type.value_counts()"
      ],
      "execution_count": null,
      "outputs": [
        {
          "output_type": "execute_result",
          "data": {
            "text/plain": [
              "Mixer_Cocktail_FAB    547\n",
              "Wine                  521\n",
              "Spirits               344\n",
              "Food                  214\n",
              "Beer_Malt             136\n",
              "Non Alc Bev            76\n",
              "Name: prod_type, dtype: int64"
            ]
          },
          "metadata": {
            "tags": []
          },
          "execution_count": 75
        }
      ]
    },
    {
      "cell_type": "code",
      "metadata": {
        "colab": {
          "base_uri": "https://localhost:8080/",
          "height": 257
        },
        "id": "0JOl1R4nVdRw",
        "outputId": "ec308851-0b89-4d5a-eff9-71707cd4e09f"
      },
      "source": [
        "# Create new variable for product category\r\n",
        "clean['prod_cat'] = clean['prod_type']\r\n",
        "clean.prod_cat = np.where(np.logical_or(clean.prod_type == 'Food', clean.prod_type == 'Non Alc Bev'), clean.prod_type, 'Alc Bev')\r\n",
        "pd.crosstab(clean.prod_type, clean.prod_cat)"
      ],
      "execution_count": null,
      "outputs": [
        {
          "output_type": "execute_result",
          "data": {
            "text/html": [
              "<div>\n",
              "<style scoped>\n",
              "    .dataframe tbody tr th:only-of-type {\n",
              "        vertical-align: middle;\n",
              "    }\n",
              "\n",
              "    .dataframe tbody tr th {\n",
              "        vertical-align: top;\n",
              "    }\n",
              "\n",
              "    .dataframe thead th {\n",
              "        text-align: right;\n",
              "    }\n",
              "</style>\n",
              "<table border=\"1\" class=\"dataframe\">\n",
              "  <thead>\n",
              "    <tr style=\"text-align: right;\">\n",
              "      <th>prod_cat</th>\n",
              "      <th>Alc Bev</th>\n",
              "      <th>Food</th>\n",
              "      <th>Non Alc Bev</th>\n",
              "    </tr>\n",
              "    <tr>\n",
              "      <th>prod_type</th>\n",
              "      <th></th>\n",
              "      <th></th>\n",
              "      <th></th>\n",
              "    </tr>\n",
              "  </thead>\n",
              "  <tbody>\n",
              "    <tr>\n",
              "      <th>Beer_Malt</th>\n",
              "      <td>136</td>\n",
              "      <td>0</td>\n",
              "      <td>0</td>\n",
              "    </tr>\n",
              "    <tr>\n",
              "      <th>Food</th>\n",
              "      <td>0</td>\n",
              "      <td>214</td>\n",
              "      <td>0</td>\n",
              "    </tr>\n",
              "    <tr>\n",
              "      <th>Mixer_Cocktail_FAB</th>\n",
              "      <td>547</td>\n",
              "      <td>0</td>\n",
              "      <td>0</td>\n",
              "    </tr>\n",
              "    <tr>\n",
              "      <th>Non Alc Bev</th>\n",
              "      <td>0</td>\n",
              "      <td>0</td>\n",
              "      <td>76</td>\n",
              "    </tr>\n",
              "    <tr>\n",
              "      <th>Spirits</th>\n",
              "      <td>344</td>\n",
              "      <td>0</td>\n",
              "      <td>0</td>\n",
              "    </tr>\n",
              "    <tr>\n",
              "      <th>Wine</th>\n",
              "      <td>521</td>\n",
              "      <td>0</td>\n",
              "      <td>0</td>\n",
              "    </tr>\n",
              "  </tbody>\n",
              "</table>\n",
              "</div>"
            ],
            "text/plain": [
              "prod_cat            Alc Bev  Food  Non Alc Bev\n",
              "prod_type                                     \n",
              "Beer_Malt               136     0            0\n",
              "Food                      0   214            0\n",
              "Mixer_Cocktail_FAB      547     0            0\n",
              "Non Alc Bev               0     0           76\n",
              "Spirits                 344     0            0\n",
              "Wine                    521     0            0"
            ]
          },
          "metadata": {
            "tags": []
          },
          "execution_count": 76
        }
      ]
    },
    {
      "cell_type": "code",
      "metadata": {
        "id": "PBTY-CrJQHVY"
      },
      "source": [
        "# Keep only relevant columns and reorder\r\n",
        "clean = clean[['name', 'brand', 'prod_type', 'prod_cat',  \r\n",
        "       'reviews.didPurchase', 'reviews.doRecommend', 'reviews.numHelpful', 'reviews.rating',\r\n",
        "       'reviews.text', 'reviews.title']]"
      ],
      "execution_count": null,
      "outputs": []
    },
    {
      "cell_type": "code",
      "metadata": {
        "id": "tCYfWj3WXx5M"
      },
      "source": [
        "# Rename columns\r\n",
        "clean.columns = ['name', 'brand', 'prod_type', 'prod_cat',  \r\n",
        "       'purchased', 'recommend', 'num_helpful', 'rating',\r\n",
        "       'reviews_text', 'reviews_title']"
      ],
      "execution_count": null,
      "outputs": []
    },
    {
      "cell_type": "markdown",
      "metadata": {
        "id": "q3rA3FTZN7rR"
      },
      "source": [
        "## 0.3 Data checks"
      ]
    },
    {
      "cell_type": "markdown",
      "metadata": {
        "id": "qrAbBhlBnwpQ"
      },
      "source": [
        "### Quick view of selected data"
      ]
    },
    {
      "cell_type": "code",
      "metadata": {
        "colab": {
          "base_uri": "https://localhost:8080/",
          "height": 745
        },
        "id": "qWfNIvv1Wc5U",
        "outputId": "1b1bbbd5-247a-494e-b0c3-4b0f4898b45d"
      },
      "source": [
        "# Check content of clean raw data\r\n",
        "clean.head(3).T\r\n",
        "print(\"\")\r\n",
        "clean.describe().T\r\n",
        "print(\"\")\r\n",
        "clean.describe(exclude= np.number).T"
      ],
      "execution_count": null,
      "outputs": [
        {
          "output_type": "execute_result",
          "data": {
            "text/html": [
              "<div>\n",
              "<style scoped>\n",
              "    .dataframe tbody tr th:only-of-type {\n",
              "        vertical-align: middle;\n",
              "    }\n",
              "\n",
              "    .dataframe tbody tr th {\n",
              "        vertical-align: top;\n",
              "    }\n",
              "\n",
              "    .dataframe thead th {\n",
              "        text-align: right;\n",
              "    }\n",
              "</style>\n",
              "<table border=\"1\" class=\"dataframe\">\n",
              "  <thead>\n",
              "    <tr style=\"text-align: right;\">\n",
              "      <th></th>\n",
              "      <th>0</th>\n",
              "      <th>1</th>\n",
              "      <th>2</th>\n",
              "    </tr>\n",
              "  </thead>\n",
              "  <tbody>\n",
              "    <tr>\n",
              "      <th>name</th>\n",
              "      <td>Ecco Domani174 Pinot Grigio - 750ml Bottle</td>\n",
              "      <td>Fresh Craft174 Mango Citrus - 4pk / 250ml Bottle</td>\n",
              "      <td>1000 Stories174 Zinfandel - 750ml Bottle</td>\n",
              "    </tr>\n",
              "    <tr>\n",
              "      <th>brand</th>\n",
              "      <td>Gallo</td>\n",
              "      <td>Fresh Craft Co.</td>\n",
              "      <td>1000 Stories</td>\n",
              "    </tr>\n",
              "    <tr>\n",
              "      <th>prod_type</th>\n",
              "      <td>Wine</td>\n",
              "      <td>Beer_Malt</td>\n",
              "      <td>Wine</td>\n",
              "    </tr>\n",
              "    <tr>\n",
              "      <th>prod_cat</th>\n",
              "      <td>Alc Bev</td>\n",
              "      <td>Alc Bev</td>\n",
              "      <td>Alc Bev</td>\n",
              "    </tr>\n",
              "    <tr>\n",
              "      <th>purchased</th>\n",
              "      <td>NaN</td>\n",
              "      <td>NaN</td>\n",
              "      <td>NaN</td>\n",
              "    </tr>\n",
              "    <tr>\n",
              "      <th>recommend</th>\n",
              "      <td>True</td>\n",
              "      <td>True</td>\n",
              "      <td>True</td>\n",
              "    </tr>\n",
              "    <tr>\n",
              "      <th>num_helpful</th>\n",
              "      <td>1</td>\n",
              "      <td>NaN</td>\n",
              "      <td>NaN</td>\n",
              "    </tr>\n",
              "    <tr>\n",
              "      <th>rating</th>\n",
              "      <td>5</td>\n",
              "      <td>5</td>\n",
              "      <td>5</td>\n",
              "    </tr>\n",
              "    <tr>\n",
              "      <th>reviews_text</th>\n",
              "      <td>This a fantastic white wine for any occasion!</td>\n",
              "      <td>Tart, not sweet...very refreshing and delicious!</td>\n",
              "      <td>I was given this wine so it was a delightful s...</td>\n",
              "    </tr>\n",
              "    <tr>\n",
              "      <th>reviews_title</th>\n",
              "      <td>My Favorite White Wine</td>\n",
              "      <td>Yum!!</td>\n",
              "      <td>A New Favorite!</td>\n",
              "    </tr>\n",
              "  </tbody>\n",
              "</table>\n",
              "</div>"
            ],
            "text/plain": [
              "                                                           0  ...                                                  2\n",
              "name              Ecco Domani174 Pinot Grigio - 750ml Bottle  ...           1000 Stories174 Zinfandel - 750ml Bottle\n",
              "brand                                                  Gallo  ...                                       1000 Stories\n",
              "prod_type                                               Wine  ...                                               Wine\n",
              "prod_cat                                             Alc Bev  ...                                            Alc Bev\n",
              "purchased                                                NaN  ...                                                NaN\n",
              "recommend                                               True  ...                                               True\n",
              "num_helpful                                                1  ...                                                NaN\n",
              "rating                                                     5  ...                                                  5\n",
              "reviews_text   This a fantastic white wine for any occasion!  ...  I was given this wine so it was a delightful s...\n",
              "reviews_title                         My Favorite White Wine  ...                                    A New Favorite!\n",
              "\n",
              "[10 rows x 3 columns]"
            ]
          },
          "metadata": {
            "tags": []
          },
          "execution_count": 11
        },
        {
          "output_type": "stream",
          "text": [
            "\n"
          ],
          "name": "stdout"
        },
        {
          "output_type": "execute_result",
          "data": {
            "text/html": [
              "<div>\n",
              "<style scoped>\n",
              "    .dataframe tbody tr th:only-of-type {\n",
              "        vertical-align: middle;\n",
              "    }\n",
              "\n",
              "    .dataframe tbody tr th {\n",
              "        vertical-align: top;\n",
              "    }\n",
              "\n",
              "    .dataframe thead th {\n",
              "        text-align: right;\n",
              "    }\n",
              "</style>\n",
              "<table border=\"1\" class=\"dataframe\">\n",
              "  <thead>\n",
              "    <tr style=\"text-align: right;\">\n",
              "      <th></th>\n",
              "      <th>count</th>\n",
              "      <th>mean</th>\n",
              "      <th>std</th>\n",
              "      <th>min</th>\n",
              "      <th>25%</th>\n",
              "      <th>50%</th>\n",
              "      <th>75%</th>\n",
              "      <th>max</th>\n",
              "    </tr>\n",
              "  </thead>\n",
              "  <tbody>\n",
              "    <tr>\n",
              "      <th>num_helpful</th>\n",
              "      <td>615.0</td>\n",
              "      <td>1.304065</td>\n",
              "      <td>2.927501</td>\n",
              "      <td>0.0</td>\n",
              "      <td>0.0</td>\n",
              "      <td>0.0</td>\n",
              "      <td>1.0</td>\n",
              "      <td>29.0</td>\n",
              "    </tr>\n",
              "    <tr>\n",
              "      <th>rating</th>\n",
              "      <td>1417.0</td>\n",
              "      <td>4.560339</td>\n",
              "      <td>1.003205</td>\n",
              "      <td>1.0</td>\n",
              "      <td>5.0</td>\n",
              "      <td>5.0</td>\n",
              "      <td>5.0</td>\n",
              "      <td>5.0</td>\n",
              "    </tr>\n",
              "  </tbody>\n",
              "</table>\n",
              "</div>"
            ],
            "text/plain": [
              "              count      mean       std  min  25%  50%  75%   max\n",
              "num_helpful   615.0  1.304065  2.927501  0.0  0.0  0.0  1.0  29.0\n",
              "rating       1417.0  4.560339  1.003205  1.0  5.0  5.0  5.0   5.0"
            ]
          },
          "metadata": {
            "tags": []
          },
          "execution_count": 11
        },
        {
          "output_type": "stream",
          "text": [
            "\n"
          ],
          "name": "stdout"
        },
        {
          "output_type": "execute_result",
          "data": {
            "text/html": [
              "<div>\n",
              "<style scoped>\n",
              "    .dataframe tbody tr th:only-of-type {\n",
              "        vertical-align: middle;\n",
              "    }\n",
              "\n",
              "    .dataframe tbody tr th {\n",
              "        vertical-align: top;\n",
              "    }\n",
              "\n",
              "    .dataframe thead th {\n",
              "        text-align: right;\n",
              "    }\n",
              "</style>\n",
              "<table border=\"1\" class=\"dataframe\">\n",
              "  <thead>\n",
              "    <tr style=\"text-align: right;\">\n",
              "      <th></th>\n",
              "      <th>count</th>\n",
              "      <th>unique</th>\n",
              "      <th>top</th>\n",
              "      <th>freq</th>\n",
              "    </tr>\n",
              "  </thead>\n",
              "  <tbody>\n",
              "    <tr>\n",
              "      <th>name</th>\n",
              "      <td>1838</td>\n",
              "      <td>328</td>\n",
              "      <td>Bittermens Xocolatl Mole Cocktail Bitters - 5 oz</td>\n",
              "      <td>128</td>\n",
              "    </tr>\n",
              "    <tr>\n",
              "      <th>brand</th>\n",
              "      <td>1773</td>\n",
              "      <td>189</td>\n",
              "      <td>Master of Mixes</td>\n",
              "      <td>138</td>\n",
              "    </tr>\n",
              "    <tr>\n",
              "      <th>prod_type</th>\n",
              "      <td>1838</td>\n",
              "      <td>6</td>\n",
              "      <td>Mixer_Cocktail_FAB</td>\n",
              "      <td>547</td>\n",
              "    </tr>\n",
              "    <tr>\n",
              "      <th>prod_cat</th>\n",
              "      <td>1838</td>\n",
              "      <td>3</td>\n",
              "      <td>Alc Bev</td>\n",
              "      <td>1548</td>\n",
              "    </tr>\n",
              "    <tr>\n",
              "      <th>purchased</th>\n",
              "      <td>1002</td>\n",
              "      <td>2</td>\n",
              "      <td>False</td>\n",
              "      <td>684</td>\n",
              "    </tr>\n",
              "    <tr>\n",
              "      <th>recommend</th>\n",
              "      <td>898</td>\n",
              "      <td>2</td>\n",
              "      <td>True</td>\n",
              "      <td>826</td>\n",
              "    </tr>\n",
              "    <tr>\n",
              "      <th>reviews_text</th>\n",
              "      <td>1837</td>\n",
              "      <td>1507</td>\n",
              "      <td>Best bourbon I have found...have toured distil...</td>\n",
              "      <td>7</td>\n",
              "    </tr>\n",
              "    <tr>\n",
              "      <th>reviews_title</th>\n",
              "      <td>1795</td>\n",
              "      <td>1269</td>\n",
              "      <td>Five Stars</td>\n",
              "      <td>66</td>\n",
              "    </tr>\n",
              "  </tbody>\n",
              "</table>\n",
              "</div>"
            ],
            "text/plain": [
              "              count  ...  freq\n",
              "name           1838  ...   128\n",
              "brand          1773  ...   138\n",
              "prod_type      1838  ...   547\n",
              "prod_cat       1838  ...  1548\n",
              "purchased      1002  ...   684\n",
              "recommend       898  ...   826\n",
              "reviews_text   1837  ...     7\n",
              "reviews_title  1795  ...    66\n",
              "\n",
              "[8 rows x 4 columns]"
            ]
          },
          "metadata": {
            "tags": []
          },
          "execution_count": 11
        }
      ]
    },
    {
      "cell_type": "markdown",
      "metadata": {
        "id": "STcGXEkcAX61"
      },
      "source": [
        "### Check target variables\r\n",
        "\"Outcome\" variables as candidates for machine learning targets: \r\n",
        "* product rating\r\n",
        "* whether consumers recommend the product \r\n",
        "* whether consumers purchase the product "
      ]
    },
    {
      "cell_type": "code",
      "metadata": {
        "colab": {
          "base_uri": "https://localhost:8080/",
          "height": 197
        },
        "id": "RqlI-AvblkKD",
        "outputId": "84278c39-097a-4684-842f-13ddd13dae58"
      },
      "source": [
        "# Candidates for target variables\r\n",
        "targets = clean[['prod_type', 'prod_cat', 'rating', 'recommend', 'purchased']]\r\n",
        "targets.head()"
      ],
      "execution_count": null,
      "outputs": [
        {
          "output_type": "execute_result",
          "data": {
            "text/html": [
              "<div>\n",
              "<style scoped>\n",
              "    .dataframe tbody tr th:only-of-type {\n",
              "        vertical-align: middle;\n",
              "    }\n",
              "\n",
              "    .dataframe tbody tr th {\n",
              "        vertical-align: top;\n",
              "    }\n",
              "\n",
              "    .dataframe thead th {\n",
              "        text-align: right;\n",
              "    }\n",
              "</style>\n",
              "<table border=\"1\" class=\"dataframe\">\n",
              "  <thead>\n",
              "    <tr style=\"text-align: right;\">\n",
              "      <th></th>\n",
              "      <th>prod_type</th>\n",
              "      <th>prod_cat</th>\n",
              "      <th>rating</th>\n",
              "      <th>recommend</th>\n",
              "      <th>purchased</th>\n",
              "    </tr>\n",
              "  </thead>\n",
              "  <tbody>\n",
              "    <tr>\n",
              "      <th>0</th>\n",
              "      <td>Wine</td>\n",
              "      <td>Alc Bev</td>\n",
              "      <td>5.0</td>\n",
              "      <td>True</td>\n",
              "      <td>NaN</td>\n",
              "    </tr>\n",
              "    <tr>\n",
              "      <th>1</th>\n",
              "      <td>Beer_Malt</td>\n",
              "      <td>Alc Bev</td>\n",
              "      <td>5.0</td>\n",
              "      <td>True</td>\n",
              "      <td>NaN</td>\n",
              "    </tr>\n",
              "    <tr>\n",
              "      <th>2</th>\n",
              "      <td>Wine</td>\n",
              "      <td>Alc Bev</td>\n",
              "      <td>5.0</td>\n",
              "      <td>True</td>\n",
              "      <td>NaN</td>\n",
              "    </tr>\n",
              "    <tr>\n",
              "      <th>3</th>\n",
              "      <td>Wine</td>\n",
              "      <td>Alc Bev</td>\n",
              "      <td>5.0</td>\n",
              "      <td>True</td>\n",
              "      <td>NaN</td>\n",
              "    </tr>\n",
              "    <tr>\n",
              "      <th>4</th>\n",
              "      <td>Wine</td>\n",
              "      <td>Alc Bev</td>\n",
              "      <td>5.0</td>\n",
              "      <td>True</td>\n",
              "      <td>NaN</td>\n",
              "    </tr>\n",
              "  </tbody>\n",
              "</table>\n",
              "</div>"
            ],
            "text/plain": [
              "   prod_type prod_cat  rating recommend purchased\n",
              "0       Wine  Alc Bev     5.0      True       NaN\n",
              "1  Beer_Malt  Alc Bev     5.0      True       NaN\n",
              "2       Wine  Alc Bev     5.0      True       NaN\n",
              "3       Wine  Alc Bev     5.0      True       NaN\n",
              "4       Wine  Alc Bev     5.0      True       NaN"
            ]
          },
          "metadata": {
            "tags": []
          },
          "execution_count": 80
        }
      ]
    },
    {
      "cell_type": "code",
      "metadata": {
        "colab": {
          "base_uri": "https://localhost:8080/"
        },
        "id": "aS4RLQnQm0Ae",
        "outputId": "5e93ecec-2fea-4022-d3f1-c1f0913d2b43"
      },
      "source": [
        "# Check number of available data points for modeling\r\n",
        "# Most promising : ratings, purchased (fewer NAs)\r\n",
        "print(\"NOT NA\")\r\n",
        "for column in targets.columns:\r\n",
        "  print(column, \": \", len(targets) - targets[column].isna().sum())"
      ],
      "execution_count": null,
      "outputs": [
        {
          "output_type": "stream",
          "text": [
            "NOT NA\n",
            "prod_type :  1838\n",
            "prod_cat :  1838\n",
            "rating :  1417\n",
            "recommend :  898\n",
            "purchased :  1002\n"
          ],
          "name": "stdout"
        }
      ]
    },
    {
      "cell_type": "code",
      "metadata": {
        "colab": {
          "base_uri": "https://localhost:8080/",
          "height": 351
        },
        "id": "7PLOu85Qn5YZ",
        "outputId": "8bb2e591-6bff-44c7-cc2f-8c73ec70d088"
      },
      "source": [
        "# Check class balance \r\n",
        "# Purchase is better balanced\r\n",
        "_= plt.subplots(1, 3, figsize=(18,5))\r\n",
        "\r\n",
        "_= plt.subplot(131)\r\n",
        "_= targets.rating.value_counts().plot.bar(title='Ratings')\r\n",
        "\r\n",
        "_= plt.subplot(132)\r\n",
        "_= targets.recommend.value_counts().plot.bar(title='Recommend or Not')\r\n",
        "\r\n",
        "_= plt.subplot(133)\r\n",
        "_= targets.purchased.value_counts().plot.bar(title='Purchased or Not')"
      ],
      "execution_count": null,
      "outputs": [
        {
          "output_type": "display_data",
          "data": {
            "image/png": "[encoded data removed]",
            "text/plain": [
              "<Figure size 1296x360 with 3 Axes>"
            ]
          },
          "metadata": {
            "tags": []
          }
        }
      ]
    },
    {
      "cell_type": "code",
      "metadata": {
        "colab": {
          "base_uri": "https://localhost:8080/",
          "height": 350
        },
        "id": "Hcb7M1jgPAzo",
        "outputId": "37cc7762-5fa9-4322-f5bd-0f659352a22e"
      },
      "source": [
        "# Sense check : relationship among ratings vs recommend vs. purchase \r\n",
        "# to see whether it's reasonable to use review data (asssumed to correspond with ratings) to predict recommendation or purchase\r\n",
        "\r\n",
        "_= plt.subplots(1, 3, figsize=(18,5))\r\n",
        "\r\n",
        "_= plt.subplot(131)\r\n",
        "_= plt.title('Recommend vs Rating')\r\n",
        "_= sns.countplot(x=targets.rating, hue=targets.recommend)\r\n",
        "_= plt.legend(loc='upper left')\r\n",
        "\r\n",
        "_= plt.subplot(132)\r\n",
        "_= plt.title('Purchase vs Rating')\r\n",
        "_= sns.countplot(x=targets.rating, hue=targets.purchased)\r\n",
        "\r\n",
        "_= plt.subplot(133)\r\n",
        "_= plt.title('Purchase vs Recommend')\r\n",
        "_= sns.countplot(x=targets.recommend, hue=targets.purchased)"
      ],
      "execution_count": null,
      "outputs": [
        {
          "output_type": "display_data",
          "data": {
            "image/png": "[encoded data removed]",
            "text/plain": [
              "<Figure size 1296x360 with 3 Axes>"
            ]
          },
          "metadata": {
            "tags": []
          }
        }
      ]
    },
    {
      "cell_type": "code",
      "metadata": {
        "colab": {
          "base_uri": "https://localhost:8080/",
          "height": 650
        },
        "id": "AZpszGw6RxDi",
        "outputId": "4ff7177c-b989-4ccf-8c11-f3fe08c2df02"
      },
      "source": [
        "# Check case distribution among those recommend vs. not and those purchased vs. not\r\n",
        "rat_rec = pd.crosstab(targets.rating, targets.recommend, margins=True)\r\n",
        "rat_rec['perc_True'] = round(rat_rec[True] / rat_rec['All'], 2)\r\n",
        "\r\n",
        "rat_pur = pd.crosstab(targets.rating, targets.purchased, margins=True)\r\n",
        "rat_pur['perc_True'] = round(rat_pur[True] / rat_pur['All'], 2)\r\n",
        "\r\n",
        "rec_pur = pd.crosstab(targets.recommend, targets.purchased, margins=True)\r\n",
        "rec_pur['perc_True'] = round(rec_pur[True] / rec_pur['All'], 2)\r\n",
        "\r\n",
        "rat_rec\r\n",
        "rat_pur\r\n",
        "rec_pur"
      ],
      "execution_count": null,
      "outputs": [
        {
          "output_type": "execute_result",
          "data": {
            "text/html": [
              "<div>\n",
              "<style scoped>\n",
              "    .dataframe tbody tr th:only-of-type {\n",
              "        vertical-align: middle;\n",
              "    }\n",
              "\n",
              "    .dataframe tbody tr th {\n",
              "        vertical-align: top;\n",
              "    }\n",
              "\n",
              "    .dataframe thead th {\n",
              "        text-align: right;\n",
              "    }\n",
              "</style>\n",
              "<table border=\"1\" class=\"dataframe\">\n",
              "  <thead>\n",
              "    <tr style=\"text-align: right;\">\n",
              "      <th>recommend</th>\n",
              "      <th>False</th>\n",
              "      <th>True</th>\n",
              "      <th>All</th>\n",
              "      <th>perc_True</th>\n",
              "    </tr>\n",
              "    <tr>\n",
              "      <th>rating</th>\n",
              "      <th></th>\n",
              "      <th></th>\n",
              "      <th></th>\n",
              "      <th></th>\n",
              "    </tr>\n",
              "  </thead>\n",
              "  <tbody>\n",
              "    <tr>\n",
              "      <th>1.0</th>\n",
              "      <td>28</td>\n",
              "      <td>0</td>\n",
              "      <td>28</td>\n",
              "      <td>0.00</td>\n",
              "    </tr>\n",
              "    <tr>\n",
              "      <th>2.0</th>\n",
              "      <td>18</td>\n",
              "      <td>0</td>\n",
              "      <td>18</td>\n",
              "      <td>0.00</td>\n",
              "    </tr>\n",
              "    <tr>\n",
              "      <th>3.0</th>\n",
              "      <td>10</td>\n",
              "      <td>11</td>\n",
              "      <td>21</td>\n",
              "      <td>0.52</td>\n",
              "    </tr>\n",
              "    <tr>\n",
              "      <th>4.0</th>\n",
              "      <td>1</td>\n",
              "      <td>94</td>\n",
              "      <td>95</td>\n",
              "      <td>0.99</td>\n",
              "    </tr>\n",
              "    <tr>\n",
              "      <th>5.0</th>\n",
              "      <td>5</td>\n",
              "      <td>587</td>\n",
              "      <td>592</td>\n",
              "      <td>0.99</td>\n",
              "    </tr>\n",
              "    <tr>\n",
              "      <th>All</th>\n",
              "      <td>62</td>\n",
              "      <td>692</td>\n",
              "      <td>754</td>\n",
              "      <td>0.92</td>\n",
              "    </tr>\n",
              "  </tbody>\n",
              "</table>\n",
              "</div>"
            ],
            "text/plain": [
              "recommend  False  True  All  perc_True\n",
              "rating                                \n",
              "1.0           28     0   28       0.00\n",
              "2.0           18     0   18       0.00\n",
              "3.0           10    11   21       0.52\n",
              "4.0            1    94   95       0.99\n",
              "5.0            5   587  592       0.99\n",
              "All           62   692  754       0.92"
            ]
          },
          "metadata": {
            "tags": []
          },
          "execution_count": 95
        },
        {
          "output_type": "execute_result",
          "data": {
            "text/html": [
              "<div>\n",
              "<style scoped>\n",
              "    .dataframe tbody tr th:only-of-type {\n",
              "        vertical-align: middle;\n",
              "    }\n",
              "\n",
              "    .dataframe tbody tr th {\n",
              "        vertical-align: top;\n",
              "    }\n",
              "\n",
              "    .dataframe thead th {\n",
              "        text-align: right;\n",
              "    }\n",
              "</style>\n",
              "<table border=\"1\" class=\"dataframe\">\n",
              "  <thead>\n",
              "    <tr style=\"text-align: right;\">\n",
              "      <th>purchased</th>\n",
              "      <th>False</th>\n",
              "      <th>True</th>\n",
              "      <th>All</th>\n",
              "      <th>perc_True</th>\n",
              "    </tr>\n",
              "    <tr>\n",
              "      <th>rating</th>\n",
              "      <th></th>\n",
              "      <th></th>\n",
              "      <th></th>\n",
              "      <th></th>\n",
              "    </tr>\n",
              "  </thead>\n",
              "  <tbody>\n",
              "    <tr>\n",
              "      <th>1.0</th>\n",
              "      <td>26</td>\n",
              "      <td>3</td>\n",
              "      <td>29</td>\n",
              "      <td>0.10</td>\n",
              "    </tr>\n",
              "    <tr>\n",
              "      <th>2.0</th>\n",
              "      <td>17</td>\n",
              "      <td>3</td>\n",
              "      <td>20</td>\n",
              "      <td>0.15</td>\n",
              "    </tr>\n",
              "    <tr>\n",
              "      <th>3.0</th>\n",
              "      <td>16</td>\n",
              "      <td>7</td>\n",
              "      <td>23</td>\n",
              "      <td>0.30</td>\n",
              "    </tr>\n",
              "    <tr>\n",
              "      <th>4.0</th>\n",
              "      <td>62</td>\n",
              "      <td>33</td>\n",
              "      <td>95</td>\n",
              "      <td>0.35</td>\n",
              "    </tr>\n",
              "    <tr>\n",
              "      <th>5.0</th>\n",
              "      <td>489</td>\n",
              "      <td>202</td>\n",
              "      <td>691</td>\n",
              "      <td>0.29</td>\n",
              "    </tr>\n",
              "    <tr>\n",
              "      <th>All</th>\n",
              "      <td>610</td>\n",
              "      <td>248</td>\n",
              "      <td>858</td>\n",
              "      <td>0.29</td>\n",
              "    </tr>\n",
              "  </tbody>\n",
              "</table>\n",
              "</div>"
            ],
            "text/plain": [
              "purchased  False  True  All  perc_True\n",
              "rating                                \n",
              "1.0           26     3   29       0.10\n",
              "2.0           17     3   20       0.15\n",
              "3.0           16     7   23       0.30\n",
              "4.0           62    33   95       0.35\n",
              "5.0          489   202  691       0.29\n",
              "All          610   248  858       0.29"
            ]
          },
          "metadata": {
            "tags": []
          },
          "execution_count": 95
        },
        {
          "output_type": "execute_result",
          "data": {
            "text/html": [
              "<div>\n",
              "<style scoped>\n",
              "    .dataframe tbody tr th:only-of-type {\n",
              "        vertical-align: middle;\n",
              "    }\n",
              "\n",
              "    .dataframe tbody tr th {\n",
              "        vertical-align: top;\n",
              "    }\n",
              "\n",
              "    .dataframe thead th {\n",
              "        text-align: right;\n",
              "    }\n",
              "</style>\n",
              "<table border=\"1\" class=\"dataframe\">\n",
              "  <thead>\n",
              "    <tr style=\"text-align: right;\">\n",
              "      <th>purchased</th>\n",
              "      <th>False</th>\n",
              "      <th>True</th>\n",
              "      <th>All</th>\n",
              "      <th>perc_True</th>\n",
              "    </tr>\n",
              "    <tr>\n",
              "      <th>recommend</th>\n",
              "      <th></th>\n",
              "      <th></th>\n",
              "      <th></th>\n",
              "      <th></th>\n",
              "    </tr>\n",
              "  </thead>\n",
              "  <tbody>\n",
              "    <tr>\n",
              "      <th>False</th>\n",
              "      <td>61</td>\n",
              "      <td>11</td>\n",
              "      <td>72</td>\n",
              "      <td>0.15</td>\n",
              "    </tr>\n",
              "    <tr>\n",
              "      <th>True</th>\n",
              "      <td>451</td>\n",
              "      <td>301</td>\n",
              "      <td>752</td>\n",
              "      <td>0.40</td>\n",
              "    </tr>\n",
              "    <tr>\n",
              "      <th>All</th>\n",
              "      <td>512</td>\n",
              "      <td>312</td>\n",
              "      <td>824</td>\n",
              "      <td>0.38</td>\n",
              "    </tr>\n",
              "  </tbody>\n",
              "</table>\n",
              "</div>"
            ],
            "text/plain": [
              "purchased  False  True  All  perc_True\n",
              "recommend                             \n",
              "False         61    11   72       0.15\n",
              "True         451   301  752       0.40\n",
              "All          512   312  824       0.38"
            ]
          },
          "metadata": {
            "tags": []
          },
          "execution_count": 95
        }
      ]
    },
    {
      "cell_type": "code",
      "metadata": {
        "colab": {
          "base_uri": "https://localhost:8080/"
        },
        "id": "Zv7bNgPQRU9M",
        "outputId": "c5cd7b2c-b3fe-45f6-f237-d6bbccfa700b"
      },
      "source": [
        "# Significance check with chi-square\r\n",
        "from scipy.stats import chi2_contingency\r\n",
        "\r\n",
        "chisq, p1, dof, expected = chi2_contingency(pd.crosstab(targets.rating, targets.recommend))\r\n",
        "chisq, p2, dof, expected = chi2_contingency(pd.crosstab(targets.rating, targets.purchased))\r\n",
        "chisq, p3, dof, expected = chi2_contingency(pd.crosstab(targets.recommend, targets.purchased))\r\n",
        "\r\n",
        "print(\"p-value rating x recommend:\", p1)\r\n",
        "print(\"p-value rating x purchased:\", p2)\r\n",
        "print(\"p-value recommend x purchased:\", p3)"
      ],
      "execution_count": null,
      "outputs": [
        {
          "output_type": "stream",
          "text": [
            "p-value rating x recommend: 8.676000122915464e-130\n",
            "p-value rating x purchased: 0.07868113999525839\n",
            "p-value recommend x purchased: 6.101841519377036e-05\n"
          ],
          "name": "stdout"
        }
      ]
    },
    {
      "cell_type": "markdown",
      "metadata": {
        "id": "VCT1sQyELWyH"
      },
      "source": [
        "#### *Comments on target variable*\r\n",
        "Sense check findings:\r\n",
        "* Strong association between ratings and recommendation (significant at 99% CL)\r\n",
        "* Some association between ratings and purchase (significant at 90% CL)\r\n",
        "\r\n",
        "Note: the majority of those who recommend the product (or give high rating scores) did not purchase product -- this may be because the site did not verify purchase. \r\n",
        "\r\n",
        "**Decision: use purchase as target variable**\r\n",
        "\r\n",
        "Rationale :\r\n",
        "* More data points vs. recommend\r\n",
        "* More balanced (purchase:not ~ 1:2)\r\n",
        "* Expected to correspond with reviews (90% sig association with ratings) "
      ]
    },
    {
      "cell_type": "markdown",
      "metadata": {
        "id": "zu-su0iJexBq"
      },
      "source": [
        "## 0.4 Tidy up for modeling"
      ]
    },
    {
      "cell_type": "code",
      "metadata": {
        "colab": {
          "base_uri": "https://localhost:8080/",
          "height": 197
        },
        "id": "vMU0Mui3Glnv",
        "outputId": "937e73e1-6d49-4520-ac9c-6d7f2f5b9895"
      },
      "source": [
        "# Isolate the raw text : \r\n",
        "reviews = clean[['reviews_title', 'reviews_text']]\r\n",
        "reviews.head()"
      ],
      "execution_count": null,
      "outputs": [
        {
          "output_type": "execute_result",
          "data": {
            "text/html": [
              "<div>\n",
              "<style scoped>\n",
              "    .dataframe tbody tr th:only-of-type {\n",
              "        vertical-align: middle;\n",
              "    }\n",
              "\n",
              "    .dataframe tbody tr th {\n",
              "        vertical-align: top;\n",
              "    }\n",
              "\n",
              "    .dataframe thead th {\n",
              "        text-align: right;\n",
              "    }\n",
              "</style>\n",
              "<table border=\"1\" class=\"dataframe\">\n",
              "  <thead>\n",
              "    <tr style=\"text-align: right;\">\n",
              "      <th></th>\n",
              "      <th>reviews_title</th>\n",
              "      <th>reviews_text</th>\n",
              "    </tr>\n",
              "  </thead>\n",
              "  <tbody>\n",
              "    <tr>\n",
              "      <th>0</th>\n",
              "      <td>My Favorite White Wine</td>\n",
              "      <td>This a fantastic white wine for any occasion!</td>\n",
              "    </tr>\n",
              "    <tr>\n",
              "      <th>1</th>\n",
              "      <td>Yum!!</td>\n",
              "      <td>Tart, not sweet...very refreshing and delicious!</td>\n",
              "    </tr>\n",
              "    <tr>\n",
              "      <th>2</th>\n",
              "      <td>A New Favorite!</td>\n",
              "      <td>I was given this wine so it was a delightful s...</td>\n",
              "    </tr>\n",
              "    <tr>\n",
              "      <th>3</th>\n",
              "      <td>Bold, Flavorful, Aromatic, Delicious</td>\n",
              "      <td>This is a phenomenal wine and my new favorite ...</td>\n",
              "    </tr>\n",
              "    <tr>\n",
              "      <th>4</th>\n",
              "      <td>Yum! Plus, Environmentally Friendly!</td>\n",
              "      <td>4 750ml bottles for the price of two With way ...</td>\n",
              "    </tr>\n",
              "  </tbody>\n",
              "</table>\n",
              "</div>"
            ],
            "text/plain": [
              "                          reviews_title                                       reviews_text\n",
              "0                My Favorite White Wine      This a fantastic white wine for any occasion!\n",
              "1                                 Yum!!   Tart, not sweet...very refreshing and delicious!\n",
              "2                       A New Favorite!  I was given this wine so it was a delightful s...\n",
              "3  Bold, Flavorful, Aromatic, Delicious  This is a phenomenal wine and my new favorite ...\n",
              "4  Yum! Plus, Environmentally Friendly!  4 750ml bottles for the price of two With way ..."
            ]
          },
          "metadata": {
            "tags": []
          },
          "execution_count": 302
        }
      ]
    },
    {
      "cell_type": "code",
      "metadata": {
        "colab": {
          "base_uri": "https://localhost:8080/",
          "height": 304
        },
        "id": "A0QaREMaHtLu",
        "outputId": "57c8c44a-39d6-4e41-b55e-10b5be9e3157"
      },
      "source": [
        "# Combine the review title and text \r\n",
        "reviews['reviews'] = reviews['reviews_title'] + str(\" : \") + reviews['reviews_text']\r\n",
        "reviews.head()"
      ],
      "execution_count": null,
      "outputs": [
        {
          "output_type": "stream",
          "text": [
            "/usr/local/lib/python3.6/dist-packages/ipykernel_launcher.py:2: SettingWithCopyWarning: \n",
            "A value is trying to be set on a copy of a slice from a DataFrame.\n",
            "Try using .loc[row_indexer,col_indexer] = value instead\n",
            "\n",
            "See the caveats in the documentation: https://pandas.pydata.org/pandas-docs/stable/user_guide/indexing.html#returning-a-view-versus-a-copy\n",
            "  \n"
          ],
          "name": "stderr"
        },
        {
          "output_type": "execute_result",
          "data": {
            "text/html": [
              "<div>\n",
              "<style scoped>\n",
              "    .dataframe tbody tr th:only-of-type {\n",
              "        vertical-align: middle;\n",
              "    }\n",
              "\n",
              "    .dataframe tbody tr th {\n",
              "        vertical-align: top;\n",
              "    }\n",
              "\n",
              "    .dataframe thead th {\n",
              "        text-align: right;\n",
              "    }\n",
              "</style>\n",
              "<table border=\"1\" class=\"dataframe\">\n",
              "  <thead>\n",
              "    <tr style=\"text-align: right;\">\n",
              "      <th></th>\n",
              "      <th>reviews_title</th>\n",
              "      <th>reviews_text</th>\n",
              "      <th>reviews</th>\n",
              "    </tr>\n",
              "  </thead>\n",
              "  <tbody>\n",
              "    <tr>\n",
              "      <th>0</th>\n",
              "      <td>My Favorite White Wine</td>\n",
              "      <td>This a fantastic white wine for any occasion!</td>\n",
              "      <td>My Favorite White Wine : This a fantastic whit...</td>\n",
              "    </tr>\n",
              "    <tr>\n",
              "      <th>1</th>\n",
              "      <td>Yum!!</td>\n",
              "      <td>Tart, not sweet...very refreshing and delicious!</td>\n",
              "      <td>Yum!! : Tart, not sweet...very refreshing and ...</td>\n",
              "    </tr>\n",
              "    <tr>\n",
              "      <th>2</th>\n",
              "      <td>A New Favorite!</td>\n",
              "      <td>I was given this wine so it was a delightful s...</td>\n",
              "      <td>A New Favorite! : I was given this wine so it ...</td>\n",
              "    </tr>\n",
              "    <tr>\n",
              "      <th>3</th>\n",
              "      <td>Bold, Flavorful, Aromatic, Delicious</td>\n",
              "      <td>This is a phenomenal wine and my new favorite ...</td>\n",
              "      <td>Bold, Flavorful, Aromatic, Delicious : This is...</td>\n",
              "    </tr>\n",
              "    <tr>\n",
              "      <th>4</th>\n",
              "      <td>Yum! Plus, Environmentally Friendly!</td>\n",
              "      <td>4 750ml bottles for the price of two With way ...</td>\n",
              "      <td>Yum! Plus, Environmentally Friendly! : 4 750ml...</td>\n",
              "    </tr>\n",
              "  </tbody>\n",
              "</table>\n",
              "</div>"
            ],
            "text/plain": [
              "                          reviews_title  ...                                            reviews\n",
              "0                My Favorite White Wine  ...  My Favorite White Wine : This a fantastic whit...\n",
              "1                                 Yum!!  ...  Yum!! : Tart, not sweet...very refreshing and ...\n",
              "2                       A New Favorite!  ...  A New Favorite! : I was given this wine so it ...\n",
              "3  Bold, Flavorful, Aromatic, Delicious  ...  Bold, Flavorful, Aromatic, Delicious : This is...\n",
              "4  Yum! Plus, Environmentally Friendly!  ...  Yum! Plus, Environmentally Friendly! : 4 750ml...\n",
              "\n",
              "[5 rows x 3 columns]"
            ]
          },
          "metadata": {
            "tags": []
          },
          "execution_count": 303
        }
      ]
    },
    {
      "cell_type": "code",
      "metadata": {
        "id": "0hY0h97ff2Jc"
      },
      "source": [
        "# Use the combined review columns for modeling\r\n",
        "mydata = reviews.copy()\r\n",
        "mydata = mydata.drop(axis=1, columns=['reviews_title', 'reviews_text'])"
      ],
      "execution_count": null,
      "outputs": []
    },
    {
      "cell_type": "code",
      "metadata": {
        "colab": {
          "base_uri": "https://localhost:8080/",
          "height": 197
        },
        "id": "oK0krKAAf-ts",
        "outputId": "96db9d07-5954-4bdb-c617-63dec12819bb"
      },
      "source": [
        "# Add target variable\r\n",
        "mydata['purchased'] = clean['purchased']\r\n",
        "mydata.head()"
      ],
      "execution_count": null,
      "outputs": [
        {
          "output_type": "execute_result",
          "data": {
            "text/html": [
              "<div>\n",
              "<style scoped>\n",
              "    .dataframe tbody tr th:only-of-type {\n",
              "        vertical-align: middle;\n",
              "    }\n",
              "\n",
              "    .dataframe tbody tr th {\n",
              "        vertical-align: top;\n",
              "    }\n",
              "\n",
              "    .dataframe thead th {\n",
              "        text-align: right;\n",
              "    }\n",
              "</style>\n",
              "<table border=\"1\" class=\"dataframe\">\n",
              "  <thead>\n",
              "    <tr style=\"text-align: right;\">\n",
              "      <th></th>\n",
              "      <th>reviews</th>\n",
              "      <th>purchased</th>\n",
              "    </tr>\n",
              "  </thead>\n",
              "  <tbody>\n",
              "    <tr>\n",
              "      <th>0</th>\n",
              "      <td>My Favorite White Wine : This a fantastic whit...</td>\n",
              "      <td>NaN</td>\n",
              "    </tr>\n",
              "    <tr>\n",
              "      <th>1</th>\n",
              "      <td>Yum!! : Tart, not sweet...very refreshing and ...</td>\n",
              "      <td>NaN</td>\n",
              "    </tr>\n",
              "    <tr>\n",
              "      <th>2</th>\n",
              "      <td>A New Favorite! : I was given this wine so it ...</td>\n",
              "      <td>NaN</td>\n",
              "    </tr>\n",
              "    <tr>\n",
              "      <th>3</th>\n",
              "      <td>Bold, Flavorful, Aromatic, Delicious : This is...</td>\n",
              "      <td>NaN</td>\n",
              "    </tr>\n",
              "    <tr>\n",
              "      <th>4</th>\n",
              "      <td>Yum! Plus, Environmentally Friendly! : 4 750ml...</td>\n",
              "      <td>NaN</td>\n",
              "    </tr>\n",
              "  </tbody>\n",
              "</table>\n",
              "</div>"
            ],
            "text/plain": [
              "                                             reviews purchased\n",
              "0  My Favorite White Wine : This a fantastic whit...       NaN\n",
              "1  Yum!! : Tart, not sweet...very refreshing and ...       NaN\n",
              "2  A New Favorite! : I was given this wine so it ...       NaN\n",
              "3  Bold, Flavorful, Aromatic, Delicious : This is...       NaN\n",
              "4  Yum! Plus, Environmentally Friendly! : 4 750ml...       NaN"
            ]
          },
          "metadata": {
            "tags": []
          },
          "execution_count": 322
        }
      ]
    },
    {
      "cell_type": "code",
      "metadata": {
        "colab": {
          "base_uri": "https://localhost:8080/"
        },
        "id": "SE5T9PJ8lnEU",
        "outputId": "9de566d2-bd0b-4b35-a91c-641609de130c"
      },
      "source": [
        "# Check NA\r\n",
        "mydata.isna().sum()"
      ],
      "execution_count": null,
      "outputs": [
        {
          "output_type": "execute_result",
          "data": {
            "text/plain": [
              "reviews       44\n",
              "purchased    836\n",
              "dtype: int64"
            ]
          },
          "metadata": {
            "tags": []
          },
          "execution_count": 323
        }
      ]
    },
    {
      "cell_type": "code",
      "metadata": {
        "colab": {
          "base_uri": "https://localhost:8080/"
        },
        "id": "koSQoWhIl5wQ",
        "outputId": "86b2fd52-c668-4c0b-ab02-46463113efef"
      },
      "source": [
        "# Drop records without reviews\r\n",
        "mydata = mydata[mydata.reviews.notna()]\r\n",
        "len(mydata)"
      ],
      "execution_count": null,
      "outputs": [
        {
          "output_type": "execute_result",
          "data": {
            "text/plain": [
              "1794"
            ]
          },
          "metadata": {
            "tags": []
          },
          "execution_count": 324
        }
      ]
    },
    {
      "cell_type": "code",
      "metadata": {
        "colab": {
          "base_uri": "https://localhost:8080/"
        },
        "id": "d3kUIY0bUIKY",
        "outputId": "916c3035-5824-4442-f5d4-ed0363d032a6"
      },
      "source": [
        "# Final check - note we still have NAs in 'purchased' but these can be used for prediction so they will be kept\r\n",
        "mydata.info()"
      ],
      "execution_count": null,
      "outputs": [
        {
          "output_type": "stream",
          "text": [
            "<class 'pandas.core.frame.DataFrame'>\n",
            "Int64Index: 1794 entries, 0 to 2889\n",
            "Data columns (total 2 columns):\n",
            " #   Column     Non-Null Count  Dtype \n",
            "---  ------     --------------  ----- \n",
            " 0   reviews    1794 non-null   object\n",
            " 1   purchased  995 non-null    object\n",
            "dtypes: object(2)\n",
            "memory usage: 42.0+ KB\n"
          ],
          "name": "stdout"
        }
      ]
    },
    {
      "cell_type": "code",
      "metadata": {
        "id": "Ms57nADfXHVi"
      },
      "source": [
        "# Save clean and tidy data for modeling\r\n",
        "mydata.to_csv('/content/drive/MyDrive/Data/mydata.csv')"
      ],
      "execution_count": null,
      "outputs": []
    },
    {
      "cell_type": "markdown",
      "metadata": {
        "id": "HzaHqIL-5jjU"
      },
      "source": [
        "#1 Data Preparation\r\n",
        "**Tasks in this section:**\r\n",
        "* Prepare training and test dataset \r\n",
        "* Address unbalanced classes in training dataset by resampling\r\n",
        "* Inspect review text and create custom tokenizer\r\n",
        "* Extract features with Scikit-Learn vectorizers"
      ]
    },
    {
      "cell_type": "markdown",
      "metadata": {
        "id": "VBZHkyMqHlKq"
      },
      "source": [
        "## 1.0 Get clean data"
      ]
    },
    {
      "cell_type": "code",
      "metadata": {
        "id": "D3CTD0B5RCSb",
        "colab": {
          "base_uri": "https://localhost:8080/",
          "height": 197
        },
        "outputId": "e6ca3c77-9811-4f0f-92ac-92a010a3686a"
      },
      "source": [
        "# Load clean data (already uploaded to Github)\r\n",
        "import pandas as pd\r\n",
        "mydata = pd.read_csv('https://raw.githubusercontent.com/antiantono/bts-dsf-anti/main/data/mydata.csv', index_col= 0)\r\n",
        "mydata.head()"
      ],
      "execution_count": 4,
      "outputs": [
        {
          "output_type": "execute_result",
          "data": {
            "text/html": [
              "<div>\n",
              "<style scoped>\n",
              "    .dataframe tbody tr th:only-of-type {\n",
              "        vertical-align: middle;\n",
              "    }\n",
              "\n",
              "    .dataframe tbody tr th {\n",
              "        vertical-align: top;\n",
              "    }\n",
              "\n",
              "    .dataframe thead th {\n",
              "        text-align: right;\n",
              "    }\n",
              "</style>\n",
              "<table border=\"1\" class=\"dataframe\">\n",
              "  <thead>\n",
              "    <tr style=\"text-align: right;\">\n",
              "      <th></th>\n",
              "      <th>reviews</th>\n",
              "      <th>purchased</th>\n",
              "    </tr>\n",
              "  </thead>\n",
              "  <tbody>\n",
              "    <tr>\n",
              "      <th>0</th>\n",
              "      <td>My Favorite White Wine : This a fantastic whit...</td>\n",
              "      <td>NaN</td>\n",
              "    </tr>\n",
              "    <tr>\n",
              "      <th>1</th>\n",
              "      <td>Yum!! : Tart, not sweet...very refreshing and ...</td>\n",
              "      <td>NaN</td>\n",
              "    </tr>\n",
              "    <tr>\n",
              "      <th>2</th>\n",
              "      <td>A New Favorite! : I was given this wine so it ...</td>\n",
              "      <td>NaN</td>\n",
              "    </tr>\n",
              "    <tr>\n",
              "      <th>3</th>\n",
              "      <td>Bold, Flavorful, Aromatic, Delicious : This is...</td>\n",
              "      <td>NaN</td>\n",
              "    </tr>\n",
              "    <tr>\n",
              "      <th>4</th>\n",
              "      <td>Yum! Plus, Environmentally Friendly! : 4 750ml...</td>\n",
              "      <td>NaN</td>\n",
              "    </tr>\n",
              "  </tbody>\n",
              "</table>\n",
              "</div>"
            ],
            "text/plain": [
              "                                             reviews purchased\n",
              "0  My Favorite White Wine : This a fantastic whit...       NaN\n",
              "1  Yum!! : Tart, not sweet...very refreshing and ...       NaN\n",
              "2  A New Favorite! : I was given this wine so it ...       NaN\n",
              "3  Bold, Flavorful, Aromatic, Delicious : This is...       NaN\n",
              "4  Yum! Plus, Environmentally Friendly! : 4 750ml...       NaN"
            ]
          },
          "metadata": {
            "tags": []
          },
          "execution_count": 4
        }
      ]
    },
    {
      "cell_type": "markdown",
      "metadata": {
        "id": "Rncxlwq7LZvq"
      },
      "source": [
        "## 1.1 Variables for modeling"
      ]
    },
    {
      "cell_type": "code",
      "metadata": {
        "colab": {
          "base_uri": "https://localhost:8080/"
        },
        "id": "shJVeq0VcSM0",
        "outputId": "6967a397-e397-4084-8d16-6aebfbfe1f1a"
      },
      "source": [
        "# Check split NA vs not NA \r\n",
        "print(\"Not NA :\", mydata.purchased.notna().sum())\r\n",
        "print(\"NA :\", mydata.purchased.isna().sum())"
      ],
      "execution_count": null,
      "outputs": [
        {
          "output_type": "stream",
          "text": [
            "Not NA : 995\n",
            "NA : 799\n"
          ],
          "name": "stdout"
        }
      ]
    },
    {
      "cell_type": "code",
      "metadata": {
        "colab": {
          "base_uri": "https://localhost:8080/"
        },
        "id": "P-bfxsLoPuCt",
        "outputId": "5cf311df-12a1-4018-b843-1e1d062dd144"
      },
      "source": [
        "# Split data for modeling (has target, will be split to train vs test) vs for prediction only (no target)\r\n",
        "to_model = mydata[mydata.purchased.notna()]\r\n",
        "\r\n",
        "to_predict = mydata[mydata.purchased.isna()]\r\n",
        "to_predict.drop(columns = 'purchased', inplace=True)\r\n",
        "\r\n",
        "to_model.info() \r\n",
        "to_predict.info()"
      ],
      "execution_count": 5,
      "outputs": [
        {
          "output_type": "stream",
          "text": [
            "<class 'pandas.core.frame.DataFrame'>\n",
            "Int64Index: 995 entries, 67 to 2815\n",
            "Data columns (total 2 columns):\n",
            " #   Column     Non-Null Count  Dtype \n",
            "---  ------     --------------  ----- \n",
            " 0   reviews    995 non-null    object\n",
            " 1   purchased  995 non-null    object\n",
            "dtypes: object(2)\n",
            "memory usage: 23.3+ KB\n",
            "<class 'pandas.core.frame.DataFrame'>\n",
            "Int64Index: 799 entries, 0 to 2889\n",
            "Data columns (total 1 columns):\n",
            " #   Column   Non-Null Count  Dtype \n",
            "---  ------   --------------  ----- \n",
            " 0   reviews  799 non-null    object\n",
            "dtypes: object(1)\n",
            "memory usage: 12.5+ KB\n"
          ],
          "name": "stdout"
        },
        {
          "output_type": "stream",
          "text": [
            "/usr/local/lib/python3.6/dist-packages/pandas/core/frame.py:4174: SettingWithCopyWarning: \n",
            "A value is trying to be set on a copy of a slice from a DataFrame\n",
            "\n",
            "See the caveats in the documentation: https://pandas.pydata.org/pandas-docs/stable/user_guide/indexing.html#returning-a-view-versus-a-copy\n",
            "  errors=errors,\n"
          ],
          "name": "stderr"
        }
      ]
    },
    {
      "cell_type": "code",
      "metadata": {
        "id": "dIkjV9y1TmZe"
      },
      "source": [
        "# Variables for modeling\r\n",
        "X = to_model.reviews\r\n",
        "y = to_model.purchased.astype(int)\r\n",
        "\r\n",
        "# Variables for new prediction\r\n",
        "X_new = to_predict.reviews"
      ],
      "execution_count": 6,
      "outputs": []
    },
    {
      "cell_type": "markdown",
      "metadata": {
        "id": "f2krk89hznlx"
      },
      "source": [
        "## 1.2 Split and balance training set "
      ]
    },
    {
      "cell_type": "code",
      "metadata": {
        "colab": {
          "base_uri": "https://localhost:8080/"
        },
        "id": "BWmhlq3AajDw",
        "outputId": "3837be85-3473-4977-8bb7-548e2ab23184"
      },
      "source": [
        "# Check for class imbalance : we have more non-purchase (n=681) than purchase (n=314)\r\n",
        "y.value_counts()"
      ],
      "execution_count": null,
      "outputs": [
        {
          "output_type": "execute_result",
          "data": {
            "text/plain": [
              "0    681\n",
              "1    314\n",
              "Name: purchased, dtype: int64"
            ]
          },
          "metadata": {
            "tags": []
          },
          "execution_count": 53
        }
      ]
    },
    {
      "cell_type": "code",
      "metadata": {
        "id": "kSbfKUtrzsS7"
      },
      "source": [
        "# Split into train vs test before balancing\r\n",
        "# To avoid the possibility of the same data point appearing in both train and test \r\n",
        "\r\n",
        "from sklearn.model_selection import train_test_split\r\n",
        "X_train, X_test, y_train, y_test = train_test_split(X, y, test_size=0.2, random_state=20)"
      ],
      "execution_count": 7,
      "outputs": []
    },
    {
      "cell_type": "code",
      "metadata": {
        "colab": {
          "base_uri": "https://localhost:8080/"
        },
        "id": "9t2P_2xt17M3",
        "outputId": "762959cb-19c6-453e-c8e1-c2d818ebfba9"
      },
      "source": [
        "# Reconstruct training data \r\n",
        "to_train = pd.concat([X_train, y_train], axis=1)\r\n",
        "\r\n",
        "# Split the classes\r\n",
        "pur = to_train[to_train.purchased == True]\r\n",
        "nopur = to_train[to_train.purchased == False]\r\n",
        "\r\n",
        "# Check class sizes\r\n",
        "to_train.purchased.value_counts()"
      ],
      "execution_count": 8,
      "outputs": [
        {
          "output_type": "execute_result",
          "data": {
            "text/plain": [
              "0    549\n",
              "1    247\n",
              "Name: purchased, dtype: int64"
            ]
          },
          "metadata": {
            "tags": []
          },
          "execution_count": 8
        }
      ]
    },
    {
      "cell_type": "code",
      "metadata": {
        "colab": {
          "base_uri": "https://localhost:8080/"
        },
        "id": "-VNhwmGC0fSC",
        "outputId": "e4000b5e-6dd2-4da3-ecc1-8870c627a768"
      },
      "source": [
        "# Boost/ upsample minority class (purchased) to match the majority class size (not purchased)\r\n",
        "from sklearn.utils import resample\r\n",
        "pur_boost = resample(pur, replace=True, n_samples=len(nopur), random_state=20)\r\n",
        "\r\n",
        "print(\"No purchase, n=\", len(nopur),\r\n",
        "      \"\\nPurchased initial, n=\", len(pur),\r\n",
        "      \"\\nPurchased boosted, n=\", len(pur_boost))"
      ],
      "execution_count": 9,
      "outputs": [
        {
          "output_type": "stream",
          "text": [
            "No purchase, n= 549 \n",
            "Purchased initial, n= 247 \n",
            "Purchased boosted, n= 549\n"
          ],
          "name": "stdout"
        }
      ]
    },
    {
      "cell_type": "code",
      "metadata": {
        "colab": {
          "base_uri": "https://localhost:8080/",
          "height": 276
        },
        "id": "S61jwyuo6Sm7",
        "outputId": "9189951a-c7e8-4147-997d-20fd2d0071bd"
      },
      "source": [
        "# Reconstruct training data with boosted sample\r\n",
        "to_train_boost = pd.concat([pur_boost, nopur])\r\n",
        "to_train_boost.head(3)\r\n",
        "to_train_boost.tail(3)\r\n",
        "print(\"Boosted training set: n=\", len(to_train_boost))"
      ],
      "execution_count": 10,
      "outputs": [
        {
          "output_type": "execute_result",
          "data": {
            "text/html": [
              "<div>\n",
              "<style scoped>\n",
              "    .dataframe tbody tr th:only-of-type {\n",
              "        vertical-align: middle;\n",
              "    }\n",
              "\n",
              "    .dataframe tbody tr th {\n",
              "        vertical-align: top;\n",
              "    }\n",
              "\n",
              "    .dataframe thead th {\n",
              "        text-align: right;\n",
              "    }\n",
              "</style>\n",
              "<table border=\"1\" class=\"dataframe\">\n",
              "  <thead>\n",
              "    <tr style=\"text-align: right;\">\n",
              "      <th></th>\n",
              "      <th>reviews</th>\n",
              "      <th>purchased</th>\n",
              "    </tr>\n",
              "  </thead>\n",
              "  <tbody>\n",
              "    <tr>\n",
              "      <th>469</th>\n",
              "      <td>Excellent : Not only is this item great for Bl...</td>\n",
              "      <td>1</td>\n",
              "    </tr>\n",
              "    <tr>\n",
              "      <th>1368</th>\n",
              "      <td>A very good flavor!! : Very good product! A li...</td>\n",
              "      <td>1</td>\n",
              "    </tr>\n",
              "    <tr>\n",
              "      <th>528</th>\n",
              "      <td>Clamato : I bought this for my 20 year old gra...</td>\n",
              "      <td>1</td>\n",
              "    </tr>\n",
              "  </tbody>\n",
              "</table>\n",
              "</div>"
            ],
            "text/plain": [
              "                                                reviews  purchased\n",
              "469   Excellent : Not only is this item great for Bl...          1\n",
              "1368  A very good flavor!! : Very good product! A li...          1\n",
              "528   Clamato : I bought this for my 20 year old gra...          1"
            ]
          },
          "metadata": {
            "tags": []
          },
          "execution_count": 10
        },
        {
          "output_type": "execute_result",
          "data": {
            "text/html": [
              "<div>\n",
              "<style scoped>\n",
              "    .dataframe tbody tr th:only-of-type {\n",
              "        vertical-align: middle;\n",
              "    }\n",
              "\n",
              "    .dataframe tbody tr th {\n",
              "        vertical-align: top;\n",
              "    }\n",
              "\n",
              "    .dataframe thead th {\n",
              "        text-align: right;\n",
              "    }\n",
              "</style>\n",
              "<table border=\"1\" class=\"dataframe\">\n",
              "  <thead>\n",
              "    <tr style=\"text-align: right;\">\n",
              "      <th></th>\n",
              "      <th>reviews</th>\n",
              "      <th>purchased</th>\n",
              "    </tr>\n",
              "  </thead>\n",
              "  <tbody>\n",
              "    <tr>\n",
              "      <th>456</th>\n",
              "      <td>Best bourbon under 50 : This is the best bourb...</td>\n",
              "      <td>0</td>\n",
              "    </tr>\n",
              "    <tr>\n",
              "      <th>713</th>\n",
              "      <td>Refreshing : I have had Stage 4 Kidney Cancer ...</td>\n",
              "      <td>0</td>\n",
              "    </tr>\n",
              "    <tr>\n",
              "      <th>543</th>\n",
              "      <td>Clamato : The Clamato Cocktail is the best jui...</td>\n",
              "      <td>0</td>\n",
              "    </tr>\n",
              "  </tbody>\n",
              "</table>\n",
              "</div>"
            ],
            "text/plain": [
              "                                               reviews  purchased\n",
              "456  Best bourbon under 50 : This is the best bourb...          0\n",
              "713  Refreshing : I have had Stage 4 Kidney Cancer ...          0\n",
              "543  Clamato : The Clamato Cocktail is the best jui...          0"
            ]
          },
          "metadata": {
            "tags": []
          },
          "execution_count": 10
        },
        {
          "output_type": "stream",
          "text": [
            "Boosted training set: n= 1098\n"
          ],
          "name": "stdout"
        }
      ]
    },
    {
      "cell_type": "code",
      "metadata": {
        "id": "a7Ehkt2msoCx"
      },
      "source": [
        "# Updated variables for modeling, based on boosted (balanced) training set\r\n",
        "X_train_boost = to_train_boost.reviews\r\n",
        "y_train_boost = to_train_boost.purchased"
      ],
      "execution_count": 11,
      "outputs": []
    },
    {
      "cell_type": "markdown",
      "metadata": {
        "id": "nkf0AcxkjCNb"
      },
      "source": [
        "## 1.3 Text pre-processing"
      ]
    },
    {
      "cell_type": "code",
      "metadata": {
        "id": "B_96TGHJY8kF"
      },
      "source": [
        "# Get spaCy \r\n",
        "import spacy\r\n",
        "nlp = spacy.load('en')"
      ],
      "execution_count": 12,
      "outputs": []
    },
    {
      "cell_type": "markdown",
      "metadata": {
        "id": "DRMMaoAUppf-"
      },
      "source": [
        "### Inspect review text"
      ]
    },
    {
      "cell_type": "code",
      "metadata": {
        "id": "dBCUDL3gvWmX"
      },
      "source": [
        "# Tokenize text data\r\n",
        "train_text = to_train_boost.reviews.tolist()\r\n",
        "train_doc = nlp(str(train_text))"
      ],
      "execution_count": 13,
      "outputs": []
    },
    {
      "cell_type": "code",
      "metadata": {
        "colab": {
          "base_uri": "https://localhost:8080/"
        },
        "id": "0FbCRKr47yVl",
        "outputId": "1004d948-4c02-4436-c7ce-c8c7b602f853"
      },
      "source": [
        "len(train_doc)"
      ],
      "execution_count": null,
      "outputs": [
        {
          "output_type": "execute_result",
          "data": {
            "text/plain": [
              "39573"
            ]
          },
          "metadata": {
            "tags": []
          },
          "execution_count": 228
        }
      ]
    },
    {
      "cell_type": "code",
      "metadata": {
        "colab": {
          "base_uri": "https://localhost:8080/",
          "height": 197
        },
        "id": "7gge94LBvnv8",
        "outputId": "4c3d42ba-c214-404c-a663-9c9d3111c931"
      },
      "source": [
        "# Collect tags\r\n",
        "train_tags = []\r\n",
        "for token in train_doc:\r\n",
        "    train_tags.append({'LOWER_': token.lower_, 'LEMMA_': token.lemma_, 'POS_': token.pos_, \r\n",
        "              'IS_ALPHA': token.is_alpha, 'IS_STOP': token.is_stop, 'IS_PUNCT': token.is_punct})\r\n",
        "\r\n",
        "# Convert tags into df\r\n",
        "train_tags_df = pd.DataFrame(train_tags)\r\n",
        "train_tags_df.head()"
      ],
      "execution_count": null,
      "outputs": [
        {
          "output_type": "execute_result",
          "data": {
            "text/html": [
              "<div>\n",
              "<style scoped>\n",
              "    .dataframe tbody tr th:only-of-type {\n",
              "        vertical-align: middle;\n",
              "    }\n",
              "\n",
              "    .dataframe tbody tr th {\n",
              "        vertical-align: top;\n",
              "    }\n",
              "\n",
              "    .dataframe thead th {\n",
              "        text-align: right;\n",
              "    }\n",
              "</style>\n",
              "<table border=\"1\" class=\"dataframe\">\n",
              "  <thead>\n",
              "    <tr style=\"text-align: right;\">\n",
              "      <th></th>\n",
              "      <th>LOWER_</th>\n",
              "      <th>LEMMA_</th>\n",
              "      <th>POS_</th>\n",
              "      <th>IS_ALPHA</th>\n",
              "      <th>IS_STOP</th>\n",
              "      <th>IS_PUNCT</th>\n",
              "    </tr>\n",
              "  </thead>\n",
              "  <tbody>\n",
              "    <tr>\n",
              "      <th>0</th>\n",
              "      <td>[</td>\n",
              "      <td>[</td>\n",
              "      <td>PUNCT</td>\n",
              "      <td>False</td>\n",
              "      <td>False</td>\n",
              "      <td>True</td>\n",
              "    </tr>\n",
              "    <tr>\n",
              "      <th>1</th>\n",
              "      <td>\"</td>\n",
              "      <td>\"</td>\n",
              "      <td>PUNCT</td>\n",
              "      <td>False</td>\n",
              "      <td>False</td>\n",
              "      <td>True</td>\n",
              "    </tr>\n",
              "    <tr>\n",
              "      <th>2</th>\n",
              "      <td>excellent</td>\n",
              "      <td>excellent</td>\n",
              "      <td>NOUN</td>\n",
              "      <td>True</td>\n",
              "      <td>False</td>\n",
              "      <td>False</td>\n",
              "    </tr>\n",
              "    <tr>\n",
              "      <th>3</th>\n",
              "      <td>:</td>\n",
              "      <td>:</td>\n",
              "      <td>PUNCT</td>\n",
              "      <td>False</td>\n",
              "      <td>False</td>\n",
              "      <td>True</td>\n",
              "    </tr>\n",
              "    <tr>\n",
              "      <th>4</th>\n",
              "      <td>not</td>\n",
              "      <td>not</td>\n",
              "      <td>PART</td>\n",
              "      <td>True</td>\n",
              "      <td>True</td>\n",
              "      <td>False</td>\n",
              "    </tr>\n",
              "  </tbody>\n",
              "</table>\n",
              "</div>"
            ],
            "text/plain": [
              "      LOWER_     LEMMA_   POS_  IS_ALPHA  IS_STOP  IS_PUNCT\n",
              "0          [          [  PUNCT     False    False      True\n",
              "1          \"          \"  PUNCT     False    False      True\n",
              "2  excellent  excellent   NOUN      True    False     False\n",
              "3          :          :  PUNCT     False    False      True\n",
              "4        not        not   PART      True     True     False"
            ]
          },
          "metadata": {
            "tags": []
          },
          "execution_count": 229
        }
      ]
    },
    {
      "cell_type": "code",
      "metadata": {
        "colab": {
          "base_uri": "https://localhost:8080/",
          "height": 1000
        },
        "id": "_B6XU1efJfeN",
        "outputId": "34b4801c-0954-4e80-9e8d-ab263aea9a57"
      },
      "source": [
        "# Get examples of text for each POS \r\n",
        "for POS in train_tags_df.POS_.unique():\r\n",
        "  train_tags_df.loc[train_tags_df.POS_ == POS,['LOWER_', 'LEMMA_', 'POS_']].head()\r\n",
        "  print(\"\")"
      ],
      "execution_count": null,
      "outputs": [
        {
          "output_type": "execute_result",
          "data": {
            "text/html": [
              "<div>\n",
              "<style scoped>\n",
              "    .dataframe tbody tr th:only-of-type {\n",
              "        vertical-align: middle;\n",
              "    }\n",
              "\n",
              "    .dataframe tbody tr th {\n",
              "        vertical-align: top;\n",
              "    }\n",
              "\n",
              "    .dataframe thead th {\n",
              "        text-align: right;\n",
              "    }\n",
              "</style>\n",
              "<table border=\"1\" class=\"dataframe\">\n",
              "  <thead>\n",
              "    <tr style=\"text-align: right;\">\n",
              "      <th></th>\n",
              "      <th>LOWER_</th>\n",
              "      <th>LEMMA_</th>\n",
              "      <th>POS_</th>\n",
              "    </tr>\n",
              "  </thead>\n",
              "  <tbody>\n",
              "    <tr>\n",
              "      <th>0</th>\n",
              "      <td>[</td>\n",
              "      <td>[</td>\n",
              "      <td>PUNCT</td>\n",
              "    </tr>\n",
              "    <tr>\n",
              "      <th>1</th>\n",
              "      <td>\"</td>\n",
              "      <td>\"</td>\n",
              "      <td>PUNCT</td>\n",
              "    </tr>\n",
              "    <tr>\n",
              "      <th>3</th>\n",
              "      <td>:</td>\n",
              "      <td>:</td>\n",
              "      <td>PUNCT</td>\n",
              "    </tr>\n",
              "    <tr>\n",
              "      <th>14</th>\n",
              "      <td>,</td>\n",
              "      <td>,</td>\n",
              "      <td>PUNCT</td>\n",
              "    </tr>\n",
              "    <tr>\n",
              "      <th>21</th>\n",
              "      <td>!</td>\n",
              "      <td>!</td>\n",
              "      <td>PUNCT</td>\n",
              "    </tr>\n",
              "  </tbody>\n",
              "</table>\n",
              "</div>"
            ],
            "text/plain": [
              "   LOWER_ LEMMA_   POS_\n",
              "0       [      [  PUNCT\n",
              "1       \"      \"  PUNCT\n",
              "3       :      :  PUNCT\n",
              "14      ,      ,  PUNCT\n",
              "21      !      !  PUNCT"
            ]
          },
          "metadata": {
            "tags": []
          },
          "execution_count": 235
        },
        {
          "output_type": "stream",
          "text": [
            "\n"
          ],
          "name": "stdout"
        },
        {
          "output_type": "execute_result",
          "data": {
            "text/html": [
              "<div>\n",
              "<style scoped>\n",
              "    .dataframe tbody tr th:only-of-type {\n",
              "        vertical-align: middle;\n",
              "    }\n",
              "\n",
              "    .dataframe tbody tr th {\n",
              "        vertical-align: top;\n",
              "    }\n",
              "\n",
              "    .dataframe thead th {\n",
              "        text-align: right;\n",
              "    }\n",
              "</style>\n",
              "<table border=\"1\" class=\"dataframe\">\n",
              "  <thead>\n",
              "    <tr style=\"text-align: right;\">\n",
              "      <th></th>\n",
              "      <th>LOWER_</th>\n",
              "      <th>LEMMA_</th>\n",
              "      <th>POS_</th>\n",
              "    </tr>\n",
              "  </thead>\n",
              "  <tbody>\n",
              "    <tr>\n",
              "      <th>2</th>\n",
              "      <td>excellent</td>\n",
              "      <td>excellent</td>\n",
              "      <td>NOUN</td>\n",
              "    </tr>\n",
              "    <tr>\n",
              "      <th>8</th>\n",
              "      <td>item</td>\n",
              "      <td>item</td>\n",
              "      <td>NOUN</td>\n",
              "    </tr>\n",
              "    <tr>\n",
              "      <th>28</th>\n",
              "      <td>flavor</td>\n",
              "      <td>flavor</td>\n",
              "      <td>NOUN</td>\n",
              "    </tr>\n",
              "    <tr>\n",
              "      <th>34</th>\n",
              "      <td>product</td>\n",
              "      <td>product</td>\n",
              "      <td>NOUN</td>\n",
              "    </tr>\n",
              "    <tr>\n",
              "      <th>41</th>\n",
              "      <td>price</td>\n",
              "      <td>price</td>\n",
              "      <td>NOUN</td>\n",
              "    </tr>\n",
              "  </tbody>\n",
              "</table>\n",
              "</div>"
            ],
            "text/plain": [
              "       LOWER_     LEMMA_  POS_\n",
              "2   excellent  excellent  NOUN\n",
              "8        item       item  NOUN\n",
              "28     flavor     flavor  NOUN\n",
              "34    product    product  NOUN\n",
              "41      price      price  NOUN"
            ]
          },
          "metadata": {
            "tags": []
          },
          "execution_count": 235
        },
        {
          "output_type": "stream",
          "text": [
            "\n"
          ],
          "name": "stdout"
        },
        {
          "output_type": "execute_result",
          "data": {
            "text/html": [
              "<div>\n",
              "<style scoped>\n",
              "    .dataframe tbody tr th:only-of-type {\n",
              "        vertical-align: middle;\n",
              "    }\n",
              "\n",
              "    .dataframe tbody tr th {\n",
              "        vertical-align: top;\n",
              "    }\n",
              "\n",
              "    .dataframe thead th {\n",
              "        text-align: right;\n",
              "    }\n",
              "</style>\n",
              "<table border=\"1\" class=\"dataframe\">\n",
              "  <thead>\n",
              "    <tr style=\"text-align: right;\">\n",
              "      <th></th>\n",
              "      <th>LOWER_</th>\n",
              "      <th>LEMMA_</th>\n",
              "      <th>POS_</th>\n",
              "    </tr>\n",
              "  </thead>\n",
              "  <tbody>\n",
              "    <tr>\n",
              "      <th>4</th>\n",
              "      <td>not</td>\n",
              "      <td>not</td>\n",
              "      <td>PART</td>\n",
              "    </tr>\n",
              "    <tr>\n",
              "      <th>13</th>\n",
              "      <td>'s</td>\n",
              "      <td>'s</td>\n",
              "      <td>PART</td>\n",
              "    </tr>\n",
              "    <tr>\n",
              "      <th>116</th>\n",
              "      <td>n't</td>\n",
              "      <td>not</td>\n",
              "      <td>PART</td>\n",
              "    </tr>\n",
              "    <tr>\n",
              "      <th>148</th>\n",
              "      <td>n't</td>\n",
              "      <td>not</td>\n",
              "      <td>PART</td>\n",
              "    </tr>\n",
              "    <tr>\n",
              "      <th>154</th>\n",
              "      <td>nt</td>\n",
              "      <td>not</td>\n",
              "      <td>PART</td>\n",
              "    </tr>\n",
              "  </tbody>\n",
              "</table>\n",
              "</div>"
            ],
            "text/plain": [
              "    LOWER_ LEMMA_  POS_\n",
              "4      not    not  PART\n",
              "13      's     's  PART\n",
              "116    n't    not  PART\n",
              "148    n't    not  PART\n",
              "154     nt    not  PART"
            ]
          },
          "metadata": {
            "tags": []
          },
          "execution_count": 235
        },
        {
          "output_type": "stream",
          "text": [
            "\n"
          ],
          "name": "stdout"
        },
        {
          "output_type": "execute_result",
          "data": {
            "text/html": [
              "<div>\n",
              "<style scoped>\n",
              "    .dataframe tbody tr th:only-of-type {\n",
              "        vertical-align: middle;\n",
              "    }\n",
              "\n",
              "    .dataframe tbody tr th {\n",
              "        vertical-align: top;\n",
              "    }\n",
              "\n",
              "    .dataframe thead th {\n",
              "        text-align: right;\n",
              "    }\n",
              "</style>\n",
              "<table border=\"1\" class=\"dataframe\">\n",
              "  <thead>\n",
              "    <tr style=\"text-align: right;\">\n",
              "      <th></th>\n",
              "      <th>LOWER_</th>\n",
              "      <th>LEMMA_</th>\n",
              "      <th>POS_</th>\n",
              "    </tr>\n",
              "  </thead>\n",
              "  <tbody>\n",
              "    <tr>\n",
              "      <th>5</th>\n",
              "      <td>only</td>\n",
              "      <td>only</td>\n",
              "      <td>ADV</td>\n",
              "    </tr>\n",
              "    <tr>\n",
              "      <th>26</th>\n",
              "      <td>very</td>\n",
              "      <td>very</td>\n",
              "      <td>ADV</td>\n",
              "    </tr>\n",
              "    <tr>\n",
              "      <th>32</th>\n",
              "      <td>very</td>\n",
              "      <td>very</td>\n",
              "      <td>ADV</td>\n",
              "    </tr>\n",
              "    <tr>\n",
              "      <th>37</th>\n",
              "      <td>little</td>\n",
              "      <td>little</td>\n",
              "      <td>ADV</td>\n",
              "    </tr>\n",
              "    <tr>\n",
              "      <th>43</th>\n",
              "      <td>much</td>\n",
              "      <td>much</td>\n",
              "      <td>ADV</td>\n",
              "    </tr>\n",
              "  </tbody>\n",
              "</table>\n",
              "</div>"
            ],
            "text/plain": [
              "    LOWER_  LEMMA_ POS_\n",
              "5     only    only  ADV\n",
              "26    very    very  ADV\n",
              "32    very    very  ADV\n",
              "37  little  little  ADV\n",
              "43    much    much  ADV"
            ]
          },
          "metadata": {
            "tags": []
          },
          "execution_count": 235
        },
        {
          "output_type": "stream",
          "text": [
            "\n"
          ],
          "name": "stdout"
        },
        {
          "output_type": "execute_result",
          "data": {
            "text/html": [
              "<div>\n",
              "<style scoped>\n",
              "    .dataframe tbody tr th:only-of-type {\n",
              "        vertical-align: middle;\n",
              "    }\n",
              "\n",
              "    .dataframe tbody tr th {\n",
              "        vertical-align: top;\n",
              "    }\n",
              "\n",
              "    .dataframe thead th {\n",
              "        text-align: right;\n",
              "    }\n",
              "</style>\n",
              "<table border=\"1\" class=\"dataframe\">\n",
              "  <thead>\n",
              "    <tr style=\"text-align: right;\">\n",
              "      <th></th>\n",
              "      <th>LOWER_</th>\n",
              "      <th>LEMMA_</th>\n",
              "      <th>POS_</th>\n",
              "    </tr>\n",
              "  </thead>\n",
              "  <tbody>\n",
              "    <tr>\n",
              "      <th>6</th>\n",
              "      <td>is</td>\n",
              "      <td>be</td>\n",
              "      <td>AUX</td>\n",
              "    </tr>\n",
              "    <tr>\n",
              "      <th>17</th>\n",
              "      <td>'s</td>\n",
              "      <td>be</td>\n",
              "      <td>AUX</td>\n",
              "    </tr>\n",
              "    <tr>\n",
              "      <th>89</th>\n",
              "      <td>is</td>\n",
              "      <td>be</td>\n",
              "      <td>AUX</td>\n",
              "    </tr>\n",
              "    <tr>\n",
              "      <th>98</th>\n",
              "      <td>is</td>\n",
              "      <td>be</td>\n",
              "      <td>AUX</td>\n",
              "    </tr>\n",
              "    <tr>\n",
              "      <th>125</th>\n",
              "      <td>has</td>\n",
              "      <td>have</td>\n",
              "      <td>AUX</td>\n",
              "    </tr>\n",
              "  </tbody>\n",
              "</table>\n",
              "</div>"
            ],
            "text/plain": [
              "    LOWER_ LEMMA_ POS_\n",
              "6       is     be  AUX\n",
              "17      's     be  AUX\n",
              "89      is     be  AUX\n",
              "98      is     be  AUX\n",
              "125    has   have  AUX"
            ]
          },
          "metadata": {
            "tags": []
          },
          "execution_count": 235
        },
        {
          "output_type": "stream",
          "text": [
            "\n"
          ],
          "name": "stdout"
        },
        {
          "output_type": "execute_result",
          "data": {
            "text/html": [
              "<div>\n",
              "<style scoped>\n",
              "    .dataframe tbody tr th:only-of-type {\n",
              "        vertical-align: middle;\n",
              "    }\n",
              "\n",
              "    .dataframe tbody tr th {\n",
              "        vertical-align: top;\n",
              "    }\n",
              "\n",
              "    .dataframe thead th {\n",
              "        text-align: right;\n",
              "    }\n",
              "</style>\n",
              "<table border=\"1\" class=\"dataframe\">\n",
              "  <thead>\n",
              "    <tr style=\"text-align: right;\">\n",
              "      <th></th>\n",
              "      <th>LOWER_</th>\n",
              "      <th>LEMMA_</th>\n",
              "      <th>POS_</th>\n",
              "    </tr>\n",
              "  </thead>\n",
              "  <tbody>\n",
              "    <tr>\n",
              "      <th>7</th>\n",
              "      <td>this</td>\n",
              "      <td>this</td>\n",
              "      <td>DET</td>\n",
              "    </tr>\n",
              "    <tr>\n",
              "      <th>25</th>\n",
              "      <td>a</td>\n",
              "      <td>a</td>\n",
              "      <td>DET</td>\n",
              "    </tr>\n",
              "    <tr>\n",
              "      <th>36</th>\n",
              "      <td>a</td>\n",
              "      <td>a</td>\n",
              "      <td>DET</td>\n",
              "    </tr>\n",
              "    <tr>\n",
              "      <th>40</th>\n",
              "      <td>the</td>\n",
              "      <td>the</td>\n",
              "      <td>DET</td>\n",
              "    </tr>\n",
              "    <tr>\n",
              "      <th>47</th>\n",
              "      <td>the</td>\n",
              "      <td>the</td>\n",
              "      <td>DET</td>\n",
              "    </tr>\n",
              "  </tbody>\n",
              "</table>\n",
              "</div>"
            ],
            "text/plain": [
              "   LOWER_ LEMMA_ POS_\n",
              "7    this   this  DET\n",
              "25      a      a  DET\n",
              "36      a      a  DET\n",
              "40    the    the  DET\n",
              "47    the    the  DET"
            ]
          },
          "metadata": {
            "tags": []
          },
          "execution_count": 235
        },
        {
          "output_type": "stream",
          "text": [
            "\n"
          ],
          "name": "stdout"
        },
        {
          "output_type": "execute_result",
          "data": {
            "text/html": [
              "<div>\n",
              "<style scoped>\n",
              "    .dataframe tbody tr th:only-of-type {\n",
              "        vertical-align: middle;\n",
              "    }\n",
              "\n",
              "    .dataframe tbody tr th {\n",
              "        vertical-align: top;\n",
              "    }\n",
              "\n",
              "    .dataframe thead th {\n",
              "        text-align: right;\n",
              "    }\n",
              "</style>\n",
              "<table border=\"1\" class=\"dataframe\">\n",
              "  <thead>\n",
              "    <tr style=\"text-align: right;\">\n",
              "      <th></th>\n",
              "      <th>LOWER_</th>\n",
              "      <th>LEMMA_</th>\n",
              "      <th>POS_</th>\n",
              "    </tr>\n",
              "  </thead>\n",
              "  <tbody>\n",
              "    <tr>\n",
              "      <th>9</th>\n",
              "      <td>great</td>\n",
              "      <td>great</td>\n",
              "      <td>ADJ</td>\n",
              "    </tr>\n",
              "    <tr>\n",
              "      <th>18</th>\n",
              "      <td>super</td>\n",
              "      <td>super</td>\n",
              "      <td>ADJ</td>\n",
              "    </tr>\n",
              "    <tr>\n",
              "      <th>27</th>\n",
              "      <td>good</td>\n",
              "      <td>good</td>\n",
              "      <td>ADJ</td>\n",
              "    </tr>\n",
              "    <tr>\n",
              "      <th>33</th>\n",
              "      <td>good</td>\n",
              "      <td>good</td>\n",
              "      <td>ADJ</td>\n",
              "    </tr>\n",
              "    <tr>\n",
              "      <th>38</th>\n",
              "      <td>disappointed</td>\n",
              "      <td>disappointed</td>\n",
              "      <td>ADJ</td>\n",
              "    </tr>\n",
              "  </tbody>\n",
              "</table>\n",
              "</div>"
            ],
            "text/plain": [
              "          LOWER_        LEMMA_ POS_\n",
              "9          great         great  ADJ\n",
              "18         super         super  ADJ\n",
              "27          good          good  ADJ\n",
              "33          good          good  ADJ\n",
              "38  disappointed  disappointed  ADJ"
            ]
          },
          "metadata": {
            "tags": []
          },
          "execution_count": 235
        },
        {
          "output_type": "stream",
          "text": [
            "\n"
          ],
          "name": "stdout"
        },
        {
          "output_type": "execute_result",
          "data": {
            "text/html": [
              "<div>\n",
              "<style scoped>\n",
              "    .dataframe tbody tr th:only-of-type {\n",
              "        vertical-align: middle;\n",
              "    }\n",
              "\n",
              "    .dataframe tbody tr th {\n",
              "        vertical-align: top;\n",
              "    }\n",
              "\n",
              "    .dataframe thead th {\n",
              "        text-align: right;\n",
              "    }\n",
              "</style>\n",
              "<table border=\"1\" class=\"dataframe\">\n",
              "  <thead>\n",
              "    <tr style=\"text-align: right;\">\n",
              "      <th></th>\n",
              "      <th>LOWER_</th>\n",
              "      <th>LEMMA_</th>\n",
              "      <th>POS_</th>\n",
              "    </tr>\n",
              "  </thead>\n",
              "  <tbody>\n",
              "    <tr>\n",
              "      <th>10</th>\n",
              "      <td>for</td>\n",
              "      <td>for</td>\n",
              "      <td>ADP</td>\n",
              "    </tr>\n",
              "    <tr>\n",
              "      <th>19</th>\n",
              "      <td>for</td>\n",
              "      <td>for</td>\n",
              "      <td>ADP</td>\n",
              "    </tr>\n",
              "    <tr>\n",
              "      <th>39</th>\n",
              "      <td>in</td>\n",
              "      <td>in</td>\n",
              "      <td>ADP</td>\n",
              "    </tr>\n",
              "    <tr>\n",
              "      <th>46</th>\n",
              "      <td>in</td>\n",
              "      <td>in</td>\n",
              "      <td>ADP</td>\n",
              "    </tr>\n",
              "    <tr>\n",
              "      <th>58</th>\n",
              "      <td>for</td>\n",
              "      <td>for</td>\n",
              "      <td>ADP</td>\n",
              "    </tr>\n",
              "  </tbody>\n",
              "</table>\n",
              "</div>"
            ],
            "text/plain": [
              "   LOWER_ LEMMA_ POS_\n",
              "10    for    for  ADP\n",
              "19    for    for  ADP\n",
              "39     in     in  ADP\n",
              "46     in     in  ADP\n",
              "58    for    for  ADP"
            ]
          },
          "metadata": {
            "tags": []
          },
          "execution_count": 235
        },
        {
          "output_type": "stream",
          "text": [
            "\n"
          ],
          "name": "stdout"
        },
        {
          "output_type": "execute_result",
          "data": {
            "text/html": [
              "<div>\n",
              "<style scoped>\n",
              "    .dataframe tbody tr th:only-of-type {\n",
              "        vertical-align: middle;\n",
              "    }\n",
              "\n",
              "    .dataframe tbody tr th {\n",
              "        vertical-align: top;\n",
              "    }\n",
              "\n",
              "    .dataframe thead th {\n",
              "        text-align: right;\n",
              "    }\n",
              "</style>\n",
              "<table border=\"1\" class=\"dataframe\">\n",
              "  <thead>\n",
              "    <tr style=\"text-align: right;\">\n",
              "      <th></th>\n",
              "      <th>LOWER_</th>\n",
              "      <th>LEMMA_</th>\n",
              "      <th>POS_</th>\n",
              "    </tr>\n",
              "  </thead>\n",
              "  <tbody>\n",
              "    <tr>\n",
              "      <th>11</th>\n",
              "      <td>bloody</td>\n",
              "      <td>Bloody</td>\n",
              "      <td>PROPN</td>\n",
              "    </tr>\n",
              "    <tr>\n",
              "      <th>12</th>\n",
              "      <td>mary</td>\n",
              "      <td>Mary</td>\n",
              "      <td>PROPN</td>\n",
              "    </tr>\n",
              "    <tr>\n",
              "      <th>20</th>\n",
              "      <td>chili</td>\n",
              "      <td>chili</td>\n",
              "      <td>PROPN</td>\n",
              "    </tr>\n",
              "    <tr>\n",
              "      <th>53</th>\n",
              "      <td>clamato</td>\n",
              "      <td>Clamato</td>\n",
              "      <td>PROPN</td>\n",
              "    </tr>\n",
              "    <tr>\n",
              "      <th>119</th>\n",
              "      <td>orange</td>\n",
              "      <td>orange</td>\n",
              "      <td>PROPN</td>\n",
              "    </tr>\n",
              "  </tbody>\n",
              "</table>\n",
              "</div>"
            ],
            "text/plain": [
              "      LOWER_   LEMMA_   POS_\n",
              "11    bloody   Bloody  PROPN\n",
              "12      mary     Mary  PROPN\n",
              "20     chili    chili  PROPN\n",
              "53   clamato  Clamato  PROPN\n",
              "119   orange   orange  PROPN"
            ]
          },
          "metadata": {
            "tags": []
          },
          "execution_count": 235
        },
        {
          "output_type": "stream",
          "text": [
            "\n"
          ],
          "name": "stdout"
        },
        {
          "output_type": "execute_result",
          "data": {
            "text/html": [
              "<div>\n",
              "<style scoped>\n",
              "    .dataframe tbody tr th:only-of-type {\n",
              "        vertical-align: middle;\n",
              "    }\n",
              "\n",
              "    .dataframe tbody tr th {\n",
              "        vertical-align: top;\n",
              "    }\n",
              "\n",
              "    .dataframe thead th {\n",
              "        text-align: right;\n",
              "    }\n",
              "</style>\n",
              "<table border=\"1\" class=\"dataframe\">\n",
              "  <thead>\n",
              "    <tr style=\"text-align: right;\">\n",
              "      <th></th>\n",
              "      <th>LOWER_</th>\n",
              "      <th>LEMMA_</th>\n",
              "      <th>POS_</th>\n",
              "    </tr>\n",
              "  </thead>\n",
              "  <tbody>\n",
              "    <tr>\n",
              "      <th>15</th>\n",
              "      <td>but</td>\n",
              "      <td>but</td>\n",
              "      <td>CCONJ</td>\n",
              "    </tr>\n",
              "    <tr>\n",
              "      <th>68</th>\n",
              "      <td>and</td>\n",
              "      <td>and</td>\n",
              "      <td>CCONJ</td>\n",
              "    </tr>\n",
              "    <tr>\n",
              "      <th>79</th>\n",
              "      <td>and</td>\n",
              "      <td>and</td>\n",
              "      <td>CCONJ</td>\n",
              "    </tr>\n",
              "    <tr>\n",
              "      <th>96</th>\n",
              "      <td>and</td>\n",
              "      <td>and</td>\n",
              "      <td>CCONJ</td>\n",
              "    </tr>\n",
              "    <tr>\n",
              "      <th>129</th>\n",
              "      <td>and</td>\n",
              "      <td>and</td>\n",
              "      <td>CCONJ</td>\n",
              "    </tr>\n",
              "  </tbody>\n",
              "</table>\n",
              "</div>"
            ],
            "text/plain": [
              "    LOWER_ LEMMA_   POS_\n",
              "15     but    but  CCONJ\n",
              "68     and    and  CCONJ\n",
              "79     and    and  CCONJ\n",
              "96     and    and  CCONJ\n",
              "129    and    and  CCONJ"
            ]
          },
          "metadata": {
            "tags": []
          },
          "execution_count": 235
        },
        {
          "output_type": "stream",
          "text": [
            "\n"
          ],
          "name": "stdout"
        },
        {
          "output_type": "execute_result",
          "data": {
            "text/html": [
              "<div>\n",
              "<style scoped>\n",
              "    .dataframe tbody tr th:only-of-type {\n",
              "        vertical-align: middle;\n",
              "    }\n",
              "\n",
              "    .dataframe tbody tr th {\n",
              "        vertical-align: top;\n",
              "    }\n",
              "\n",
              "    .dataframe thead th {\n",
              "        text-align: right;\n",
              "    }\n",
              "</style>\n",
              "<table border=\"1\" class=\"dataframe\">\n",
              "  <thead>\n",
              "    <tr style=\"text-align: right;\">\n",
              "      <th></th>\n",
              "      <th>LOWER_</th>\n",
              "      <th>LEMMA_</th>\n",
              "      <th>POS_</th>\n",
              "    </tr>\n",
              "  </thead>\n",
              "  <tbody>\n",
              "    <tr>\n",
              "      <th>16</th>\n",
              "      <td>it</td>\n",
              "      <td>-PRON-</td>\n",
              "      <td>PRON</td>\n",
              "    </tr>\n",
              "    <tr>\n",
              "      <th>55</th>\n",
              "      <td>i</td>\n",
              "      <td>-PRON-</td>\n",
              "      <td>PRON</td>\n",
              "    </tr>\n",
              "    <tr>\n",
              "      <th>65</th>\n",
              "      <td>he</td>\n",
              "      <td>-PRON-</td>\n",
              "      <td>PRON</td>\n",
              "    </tr>\n",
              "    <tr>\n",
              "      <th>67</th>\n",
              "      <td>it</td>\n",
              "      <td>-PRON-</td>\n",
              "      <td>PRON</td>\n",
              "    </tr>\n",
              "    <tr>\n",
              "      <th>70</th>\n",
              "      <td>it</td>\n",
              "      <td>-PRON-</td>\n",
              "      <td>PRON</td>\n",
              "    </tr>\n",
              "  </tbody>\n",
              "</table>\n",
              "</div>"
            ],
            "text/plain": [
              "   LOWER_  LEMMA_  POS_\n",
              "16     it  -PRON-  PRON\n",
              "55      i  -PRON-  PRON\n",
              "65     he  -PRON-  PRON\n",
              "67     it  -PRON-  PRON\n",
              "70     it  -PRON-  PRON"
            ]
          },
          "metadata": {
            "tags": []
          },
          "execution_count": 235
        },
        {
          "output_type": "stream",
          "text": [
            "\n"
          ],
          "name": "stdout"
        },
        {
          "output_type": "execute_result",
          "data": {
            "text/html": [
              "<div>\n",
              "<style scoped>\n",
              "    .dataframe tbody tr th:only-of-type {\n",
              "        vertical-align: middle;\n",
              "    }\n",
              "\n",
              "    .dataframe tbody tr th {\n",
              "        vertical-align: top;\n",
              "    }\n",
              "\n",
              "    .dataframe thead th {\n",
              "        text-align: right;\n",
              "    }\n",
              "</style>\n",
              "<table border=\"1\" class=\"dataframe\">\n",
              "  <thead>\n",
              "    <tr style=\"text-align: right;\">\n",
              "      <th></th>\n",
              "      <th>LOWER_</th>\n",
              "      <th>LEMMA_</th>\n",
              "      <th>POS_</th>\n",
              "    </tr>\n",
              "  </thead>\n",
              "  <tbody>\n",
              "    <tr>\n",
              "      <th>45</th>\n",
              "      <td>than</td>\n",
              "      <td>than</td>\n",
              "      <td>SCONJ</td>\n",
              "    </tr>\n",
              "    <tr>\n",
              "      <th>157</th>\n",
              "      <td>as</td>\n",
              "      <td>as</td>\n",
              "      <td>SCONJ</td>\n",
              "    </tr>\n",
              "    <tr>\n",
              "      <th>174</th>\n",
              "      <td>as</td>\n",
              "      <td>as</td>\n",
              "      <td>SCONJ</td>\n",
              "    </tr>\n",
              "    <tr>\n",
              "      <th>199</th>\n",
              "      <td>that</td>\n",
              "      <td>that</td>\n",
              "      <td>SCONJ</td>\n",
              "    </tr>\n",
              "    <tr>\n",
              "      <th>236</th>\n",
              "      <td>than</td>\n",
              "      <td>than</td>\n",
              "      <td>SCONJ</td>\n",
              "    </tr>\n",
              "  </tbody>\n",
              "</table>\n",
              "</div>"
            ],
            "text/plain": [
              "    LOWER_ LEMMA_   POS_\n",
              "45    than   than  SCONJ\n",
              "157     as     as  SCONJ\n",
              "174     as     as  SCONJ\n",
              "199   that   that  SCONJ\n",
              "236   than   than  SCONJ"
            ]
          },
          "metadata": {
            "tags": []
          },
          "execution_count": 235
        },
        {
          "output_type": "stream",
          "text": [
            "\n"
          ],
          "name": "stdout"
        },
        {
          "output_type": "execute_result",
          "data": {
            "text/html": [
              "<div>\n",
              "<style scoped>\n",
              "    .dataframe tbody tr th:only-of-type {\n",
              "        vertical-align: middle;\n",
              "    }\n",
              "\n",
              "    .dataframe tbody tr th {\n",
              "        vertical-align: top;\n",
              "    }\n",
              "\n",
              "    .dataframe thead th {\n",
              "        text-align: right;\n",
              "    }\n",
              "</style>\n",
              "<table border=\"1\" class=\"dataframe\">\n",
              "  <thead>\n",
              "    <tr style=\"text-align: right;\">\n",
              "      <th></th>\n",
              "      <th>LOWER_</th>\n",
              "      <th>LEMMA_</th>\n",
              "      <th>POS_</th>\n",
              "    </tr>\n",
              "  </thead>\n",
              "  <tbody>\n",
              "    <tr>\n",
              "      <th>56</th>\n",
              "      <td>bought</td>\n",
              "      <td>buy</td>\n",
              "      <td>VERB</td>\n",
              "    </tr>\n",
              "    <tr>\n",
              "      <th>66</th>\n",
              "      <td>loves</td>\n",
              "      <td>love</td>\n",
              "      <td>VERB</td>\n",
              "    </tr>\n",
              "    <tr>\n",
              "      <th>69</th>\n",
              "      <td>says</td>\n",
              "      <td>say</td>\n",
              "      <td>VERB</td>\n",
              "    </tr>\n",
              "    <tr>\n",
              "      <th>71</th>\n",
              "      <td>taste</td>\n",
              "      <td>taste</td>\n",
              "      <td>VERB</td>\n",
              "    </tr>\n",
              "    <tr>\n",
              "      <th>80</th>\n",
              "      <td>tastes</td>\n",
              "      <td>taste</td>\n",
              "      <td>VERB</td>\n",
              "    </tr>\n",
              "  </tbody>\n",
              "</table>\n",
              "</div>"
            ],
            "text/plain": [
              "    LOWER_ LEMMA_  POS_\n",
              "56  bought    buy  VERB\n",
              "66   loves   love  VERB\n",
              "69    says    say  VERB\n",
              "71   taste  taste  VERB\n",
              "80  tastes  taste  VERB"
            ]
          },
          "metadata": {
            "tags": []
          },
          "execution_count": 235
        },
        {
          "output_type": "stream",
          "text": [
            "\n"
          ],
          "name": "stdout"
        },
        {
          "output_type": "execute_result",
          "data": {
            "text/html": [
              "<div>\n",
              "<style scoped>\n",
              "    .dataframe tbody tr th:only-of-type {\n",
              "        vertical-align: middle;\n",
              "    }\n",
              "\n",
              "    .dataframe tbody tr th {\n",
              "        vertical-align: top;\n",
              "    }\n",
              "\n",
              "    .dataframe thead th {\n",
              "        text-align: right;\n",
              "    }\n",
              "</style>\n",
              "<table border=\"1\" class=\"dataframe\">\n",
              "  <thead>\n",
              "    <tr style=\"text-align: right;\">\n",
              "      <th></th>\n",
              "      <th>LOWER_</th>\n",
              "      <th>LEMMA_</th>\n",
              "      <th>POS_</th>\n",
              "    </tr>\n",
              "  </thead>\n",
              "  <tbody>\n",
              "    <tr>\n",
              "      <th>60</th>\n",
              "      <td>20</td>\n",
              "      <td>20</td>\n",
              "      <td>NUM</td>\n",
              "    </tr>\n",
              "    <tr>\n",
              "      <th>102</th>\n",
              "      <td>two</td>\n",
              "      <td>two</td>\n",
              "      <td>NUM</td>\n",
              "    </tr>\n",
              "    <tr>\n",
              "      <th>204</th>\n",
              "      <td>10</td>\n",
              "      <td>10</td>\n",
              "      <td>NUM</td>\n",
              "    </tr>\n",
              "    <tr>\n",
              "      <th>306</th>\n",
              "      <td>one</td>\n",
              "      <td>one</td>\n",
              "      <td>NUM</td>\n",
              "    </tr>\n",
              "    <tr>\n",
              "      <th>469</th>\n",
              "      <td>two</td>\n",
              "      <td>two</td>\n",
              "      <td>NUM</td>\n",
              "    </tr>\n",
              "  </tbody>\n",
              "</table>\n",
              "</div>"
            ],
            "text/plain": [
              "    LOWER_ LEMMA_ POS_\n",
              "60      20     20  NUM\n",
              "102    two    two  NUM\n",
              "204     10     10  NUM\n",
              "306    one    one  NUM\n",
              "469    two    two  NUM"
            ]
          },
          "metadata": {
            "tags": []
          },
          "execution_count": 235
        },
        {
          "output_type": "stream",
          "text": [
            "\n"
          ],
          "name": "stdout"
        },
        {
          "output_type": "execute_result",
          "data": {
            "text/html": [
              "<div>\n",
              "<style scoped>\n",
              "    .dataframe tbody tr th:only-of-type {\n",
              "        vertical-align: middle;\n",
              "    }\n",
              "\n",
              "    .dataframe tbody tr th {\n",
              "        vertical-align: top;\n",
              "    }\n",
              "\n",
              "    .dataframe thead th {\n",
              "        text-align: right;\n",
              "    }\n",
              "</style>\n",
              "<table border=\"1\" class=\"dataframe\">\n",
              "  <thead>\n",
              "    <tr style=\"text-align: right;\">\n",
              "      <th></th>\n",
              "      <th>LOWER_</th>\n",
              "      <th>LEMMA_</th>\n",
              "      <th>POS_</th>\n",
              "    </tr>\n",
              "  </thead>\n",
              "  <tbody>\n",
              "    <tr>\n",
              "      <th>351</th>\n",
              "      <td>/</td>\n",
              "      <td>/</td>\n",
              "      <td>SYM</td>\n",
              "    </tr>\n",
              "    <tr>\n",
              "      <th>1802</th>\n",
              "      <td>/</td>\n",
              "      <td>/</td>\n",
              "      <td>SYM</td>\n",
              "    </tr>\n",
              "    <tr>\n",
              "      <th>2443</th>\n",
              "      <td>/</td>\n",
              "      <td>/</td>\n",
              "      <td>SYM</td>\n",
              "    </tr>\n",
              "    <tr>\n",
              "      <th>3248</th>\n",
              "      <td>/</td>\n",
              "      <td>/</td>\n",
              "      <td>SYM</td>\n",
              "    </tr>\n",
              "    <tr>\n",
              "      <th>7188</th>\n",
              "      <td>/</td>\n",
              "      <td>/</td>\n",
              "      <td>SYM</td>\n",
              "    </tr>\n",
              "  </tbody>\n",
              "</table>\n",
              "</div>"
            ],
            "text/plain": [
              "     LOWER_ LEMMA_ POS_\n",
              "351       /      /  SYM\n",
              "1802      /      /  SYM\n",
              "2443      /      /  SYM\n",
              "3248      /      /  SYM\n",
              "7188      /      /  SYM"
            ]
          },
          "metadata": {
            "tags": []
          },
          "execution_count": 235
        },
        {
          "output_type": "stream",
          "text": [
            "\n"
          ],
          "name": "stdout"
        },
        {
          "output_type": "execute_result",
          "data": {
            "text/html": [
              "<div>\n",
              "<style scoped>\n",
              "    .dataframe tbody tr th:only-of-type {\n",
              "        vertical-align: middle;\n",
              "    }\n",
              "\n",
              "    .dataframe tbody tr th {\n",
              "        vertical-align: top;\n",
              "    }\n",
              "\n",
              "    .dataframe thead th {\n",
              "        text-align: right;\n",
              "    }\n",
              "</style>\n",
              "<table border=\"1\" class=\"dataframe\">\n",
              "  <thead>\n",
              "    <tr style=\"text-align: right;\">\n",
              "      <th></th>\n",
              "      <th>LOWER_</th>\n",
              "      <th>LEMMA_</th>\n",
              "      <th>POS_</th>\n",
              "    </tr>\n",
              "  </thead>\n",
              "  <tbody>\n",
              "    <tr>\n",
              "      <th>2205</th>\n",
              "      <td>etc</td>\n",
              "      <td>etc</td>\n",
              "      <td>X</td>\n",
              "    </tr>\n",
              "    <tr>\n",
              "      <th>12003</th>\n",
              "      <td>etc</td>\n",
              "      <td>etc</td>\n",
              "      <td>X</td>\n",
              "    </tr>\n",
              "    <tr>\n",
              "      <th>23039</th>\n",
              "      <td>hog</td>\n",
              "      <td>hog</td>\n",
              "      <td>X</td>\n",
              "    </tr>\n",
              "    <tr>\n",
              "      <th>30044</th>\n",
              "      <td>i.e.</td>\n",
              "      <td>i.e.</td>\n",
              "      <td>X</td>\n",
              "    </tr>\n",
              "    <tr>\n",
              "      <th>34760</th>\n",
              "      <td>i.e.</td>\n",
              "      <td>i.e.</td>\n",
              "      <td>X</td>\n",
              "    </tr>\n",
              "  </tbody>\n",
              "</table>\n",
              "</div>"
            ],
            "text/plain": [
              "      LOWER_ LEMMA_ POS_\n",
              "2205     etc    etc    X\n",
              "12003    etc    etc    X\n",
              "23039    hog    hog    X\n",
              "30044   i.e.   i.e.    X\n",
              "34760   i.e.   i.e.    X"
            ]
          },
          "metadata": {
            "tags": []
          },
          "execution_count": 235
        },
        {
          "output_type": "stream",
          "text": [
            "\n"
          ],
          "name": "stdout"
        },
        {
          "output_type": "execute_result",
          "data": {
            "text/html": [
              "<div>\n",
              "<style scoped>\n",
              "    .dataframe tbody tr th:only-of-type {\n",
              "        vertical-align: middle;\n",
              "    }\n",
              "\n",
              "    .dataframe tbody tr th {\n",
              "        vertical-align: top;\n",
              "    }\n",
              "\n",
              "    .dataframe thead th {\n",
              "        text-align: right;\n",
              "    }\n",
              "</style>\n",
              "<table border=\"1\" class=\"dataframe\">\n",
              "  <thead>\n",
              "    <tr style=\"text-align: right;\">\n",
              "      <th></th>\n",
              "      <th>LOWER_</th>\n",
              "      <th>LEMMA_</th>\n",
              "      <th>POS_</th>\n",
              "    </tr>\n",
              "  </thead>\n",
              "  <tbody>\n",
              "    <tr>\n",
              "      <th>2924</th>\n",
              "      <td>yum</td>\n",
              "      <td>yum</td>\n",
              "      <td>INTJ</td>\n",
              "    </tr>\n",
              "    <tr>\n",
              "      <th>3570</th>\n",
              "      <td>omg</td>\n",
              "      <td>omg</td>\n",
              "      <td>INTJ</td>\n",
              "    </tr>\n",
              "    <tr>\n",
              "      <th>3622</th>\n",
              "      <td>hmm</td>\n",
              "      <td>hmm</td>\n",
              "      <td>INTJ</td>\n",
              "    </tr>\n",
              "    <tr>\n",
              "      <th>4273</th>\n",
              "      <td>please</td>\n",
              "      <td>please</td>\n",
              "      <td>INTJ</td>\n",
              "    </tr>\n",
              "    <tr>\n",
              "      <th>4785</th>\n",
              "      <td>yeah</td>\n",
              "      <td>yeah</td>\n",
              "      <td>INTJ</td>\n",
              "    </tr>\n",
              "  </tbody>\n",
              "</table>\n",
              "</div>"
            ],
            "text/plain": [
              "      LOWER_  LEMMA_  POS_\n",
              "2924     yum     yum  INTJ\n",
              "3570     omg     omg  INTJ\n",
              "3622     hmm     hmm  INTJ\n",
              "4273  please  please  INTJ\n",
              "4785    yeah    yeah  INTJ"
            ]
          },
          "metadata": {
            "tags": []
          },
          "execution_count": 235
        },
        {
          "output_type": "stream",
          "text": [
            "\n"
          ],
          "name": "stdout"
        }
      ]
    },
    {
      "cell_type": "code",
      "metadata": {
        "colab": {
          "base_uri": "https://localhost:8080/"
        },
        "id": "IZuKC7UOONQS",
        "outputId": "989cc5ea-328d-425c-b3af-bdab0dcd67a8"
      },
      "source": [
        "for POS in train_tags_df.POS_.unique():\r\n",
        "  print(POS,\"=\",spacy.explain(POS))"
      ],
      "execution_count": null,
      "outputs": [
        {
          "output_type": "stream",
          "text": [
            "PUNCT = punctuation\n",
            "NOUN = noun\n",
            "PART = particle\n",
            "ADV = adverb\n",
            "AUX = auxiliary\n",
            "DET = determiner\n",
            "ADJ = adjective\n",
            "ADP = adposition\n",
            "PROPN = proper noun\n",
            "CCONJ = coordinating conjunction\n",
            "PRON = pronoun\n",
            "SCONJ = subordinating conjunction\n",
            "VERB = verb\n",
            "NUM = numeral\n",
            "SYM = symbol\n",
            "X = other\n",
            "INTJ = interjection\n"
          ],
          "name": "stdout"
        }
      ]
    },
    {
      "cell_type": "markdown",
      "metadata": {
        "id": "plQ7lg_VMHtU"
      },
      "source": [
        "#### *Comments on text inspection*\r\n",
        "Not all POS are meaningful for product description. Desirable POS to keep as features:\r\n",
        "* Nouns : NOUN, PROPN\r\n",
        "* Verbs : VERB\r\n",
        "* Descriptives : ADJ, ADV\r\n",
        "\r\n",
        "To be excluded from features:\r\n",
        "* Non-words : PUNCT, NUM, SYM\r\n",
        "* Non-descriptive POS : PART, AUX, DET, ADP, CCONJ, SCONJ, X, INTJ"
      ]
    },
    {
      "cell_type": "markdown",
      "metadata": {
        "id": "uX6c3N9MVwcI"
      },
      "source": [
        "### Custom tokenizer\r\n",
        "*Tokenize, remove punctuations and stopwords, and return key parts of speech in lowercase lemmas*"
      ]
    },
    {
      "cell_type": "code",
      "metadata": {
        "id": "-s60Sq-7WHcs"
      },
      "source": [
        "# Function to tokenize and retain only desirable tokens\r\n",
        "\r\n",
        "def my_tokenizer(text):\r\n",
        "  '''Custom function to convert text into tokens and remove unwanted tokens.\r\n",
        "  Requires spaCy model to be uploaded before executing function. \r\n",
        "  This tokenizer removes stop words and punctuations, and return lowercase lemmas for key POS only.\r\n",
        "  Key POS help define product descriptions, such as nouns, verbs, adjectives and adverbs. '''\r\n",
        "\r\n",
        "  my_tokens = []\r\n",
        "\r\n",
        "  for token in nlp(text):\r\n",
        "    if token.is_stop == False and token.is_punct == False:\r\n",
        "      if token.pos_ == 'NOUN' or token.pos_ == 'PROPN' or token.pos_ == 'VERB' or token.pos_ == 'ADJ' or token.pos_ == 'ADV':\r\n",
        "        my_tokens.append(token.lemma_.lower())\r\n",
        "\r\n",
        "  return my_tokens"
      ],
      "execution_count": 14,
      "outputs": []
    },
    {
      "cell_type": "code",
      "metadata": {
        "colab": {
          "base_uri": "https://localhost:8080/",
          "height": 406
        },
        "id": "KiZ5qgx9TK0s",
        "outputId": "88a4b39b-7899-4399-c3b2-0e699276d445"
      },
      "source": [
        "# Check custom tokenizer result   -- WARNING : takes some time\r\n",
        "to_train_boost['all_tokens'] = to_train_boost.apply(lambda row: nlp(row['reviews']), axis=1)\r\n",
        "to_train_boost['my_tokens'] = to_train_boost.apply(lambda row: my_tokenizer(row['reviews']), axis=1)\r\n",
        "to_train_boost.drop(columns='purchased', axis=1)"
      ],
      "execution_count": null,
      "outputs": [
        {
          "output_type": "execute_result",
          "data": {
            "text/html": [
              "<div>\n",
              "<style scoped>\n",
              "    .dataframe tbody tr th:only-of-type {\n",
              "        vertical-align: middle;\n",
              "    }\n",
              "\n",
              "    .dataframe tbody tr th {\n",
              "        vertical-align: top;\n",
              "    }\n",
              "\n",
              "    .dataframe thead th {\n",
              "        text-align: right;\n",
              "    }\n",
              "</style>\n",
              "<table border=\"1\" class=\"dataframe\">\n",
              "  <thead>\n",
              "    <tr style=\"text-align: right;\">\n",
              "      <th></th>\n",
              "      <th>reviews</th>\n",
              "      <th>all_tokens</th>\n",
              "      <th>my_tokens</th>\n",
              "    </tr>\n",
              "  </thead>\n",
              "  <tbody>\n",
              "    <tr>\n",
              "      <th>469</th>\n",
              "      <td>Excellent : Not only is this item great for Bl...</td>\n",
              "      <td>(Excellent, :, Not, only, is, this, item, grea...</td>\n",
              "      <td>[excellent, item, great, bloody, mary, super, ...</td>\n",
              "    </tr>\n",
              "    <tr>\n",
              "      <th>1368</th>\n",
              "      <td>A very good flavor!! : Very good product! A li...</td>\n",
              "      <td>(A, very, good, flavor, !, !, :, Very, good, p...</td>\n",
              "      <td>[good, flavor, good, product, little, disappoi...</td>\n",
              "    </tr>\n",
              "    <tr>\n",
              "      <th>528</th>\n",
              "      <td>Clamato : I bought this for my 20 year old gra...</td>\n",
              "      <td>(Clamato, :, I, bought, this, for, my, 20, yea...</td>\n",
              "      <td>[clamato, buy, year, old, grandson, love, say,...</td>\n",
              "    </tr>\n",
              "    <tr>\n",
              "      <th>1528</th>\n",
              "      <td>Convenient and tastes just fine : This source ...</td>\n",
              "      <td>(Convenient, and, tastes, just, fine, :, This,...</td>\n",
              "      <td>[convenient, taste, fine, source, chewable, fi...</td>\n",
              "    </tr>\n",
              "    <tr>\n",
              "      <th>1524</th>\n",
              "      <td>Works for the Wife : I'm the computer person, ...</td>\n",
              "      <td>(Works, for, the, Wife, :, I, 'm, the, compute...</td>\n",
              "      <td>[work, wife, computer, person, good, wife, say...</td>\n",
              "    </tr>\n",
              "    <tr>\n",
              "      <th>...</th>\n",
              "      <td>...</td>\n",
              "      <td>...</td>\n",
              "      <td>...</td>\n",
              "    </tr>\n",
              "    <tr>\n",
              "      <th>403</th>\n",
              "      <td>Very tasty mix : The</td>\n",
              "      <td>(Very, tasty, mix, :, The)</td>\n",
              "      <td>[tasty, mix]</td>\n",
              "    </tr>\n",
              "    <tr>\n",
              "      <th>1492</th>\n",
              "      <td>yummy : I use this item in my smoothies, I lik...</td>\n",
              "      <td>(yummy, :, I, use, this, item, in, my, smoothi...</td>\n",
              "      <td>[yummy, use, item, smoothie, like, better, hav...</td>\n",
              "    </tr>\n",
              "    <tr>\n",
              "      <th>456</th>\n",
              "      <td>Best bourbon under 50 : This is the best bourb...</td>\n",
              "      <td>(Best, bourbon, under, 50, :, This, is, the, b...</td>\n",
              "      <td>[good, bourbon, good, bourbon, buy, smooth, bo...</td>\n",
              "    </tr>\n",
              "    <tr>\n",
              "      <th>713</th>\n",
              "      <td>Refreshing : I have had Stage 4 Kidney Cancer ...</td>\n",
              "      <td>(Refreshing, :, I, have, had, Stage, 4, Kidney...</td>\n",
              "      <td>[refresh, stage, kidney, cancer, year, discove...</td>\n",
              "    </tr>\n",
              "    <tr>\n",
              "      <th>543</th>\n",
              "      <td>Clamato : The Clamato Cocktail is the best jui...</td>\n",
              "      <td>(Clamato, :, The, Clamato, Cocktail, is, the, ...</td>\n",
              "      <td>[clamato, clamato, cocktail, good, juice, tast...</td>\n",
              "    </tr>\n",
              "  </tbody>\n",
              "</table>\n",
              "<p>1098 rows × 3 columns</p>\n",
              "</div>"
            ],
            "text/plain": [
              "                                                reviews  ...                                          my_tokens\n",
              "469   Excellent : Not only is this item great for Bl...  ...  [excellent, item, great, bloody, mary, super, ...\n",
              "1368  A very good flavor!! : Very good product! A li...  ...  [good, flavor, good, product, little, disappoi...\n",
              "528   Clamato : I bought this for my 20 year old gra...  ...  [clamato, buy, year, old, grandson, love, say,...\n",
              "1528  Convenient and tastes just fine : This source ...  ...  [convenient, taste, fine, source, chewable, fi...\n",
              "1524  Works for the Wife : I'm the computer person, ...  ...  [work, wife, computer, person, good, wife, say...\n",
              "...                                                 ...  ...                                                ...\n",
              "403                                Very tasty mix : The  ...                                       [tasty, mix]\n",
              "1492  yummy : I use this item in my smoothies, I lik...  ...  [yummy, use, item, smoothie, like, better, hav...\n",
              "456   Best bourbon under 50 : This is the best bourb...  ...  [good, bourbon, good, bourbon, buy, smooth, bo...\n",
              "713   Refreshing : I have had Stage 4 Kidney Cancer ...  ...  [refresh, stage, kidney, cancer, year, discove...\n",
              "543   Clamato : The Clamato Cocktail is the best jui...  ...  [clamato, clamato, cocktail, good, juice, tast...\n",
              "\n",
              "[1098 rows x 3 columns]"
            ]
          },
          "metadata": {
            "tags": []
          },
          "execution_count": 31
        }
      ]
    },
    {
      "cell_type": "markdown",
      "metadata": {
        "id": "HGCQNzIajGB_"
      },
      "source": [
        "## 1.4 Feature Extraction"
      ]
    },
    {
      "cell_type": "markdown",
      "metadata": {
        "id": "ahxJzONZc82_"
      },
      "source": [
        "### Count Vectorizer"
      ]
    },
    {
      "cell_type": "code",
      "metadata": {
        "id": "PqlRWdPnTfe6"
      },
      "source": [
        "# Initiate Count vectorizer\r\n",
        "from sklearn.feature_extraction.text import CountVectorizer\r\n",
        "ctv = CountVectorizer(tokenizer = my_tokenizer)"
      ],
      "execution_count": 15,
      "outputs": []
    },
    {
      "cell_type": "code",
      "metadata": {
        "id": "krUcvgcT1zq_"
      },
      "source": [
        "# Transform text to count vectors                     WARNING : takes some time\r\n",
        "train_boost_ctv = ctv.fit_transform(X_train_boost)    # Reviews in training set (including minority class boost)\r\n",
        "train_ctv = ctv.transform(X_train)                    # Reviews in training set (original without boost)\r\n",
        "test_ctv = ctv.transform(X_test)                      # Reviews in test set (for model evaluation)\r\n",
        "new_ctv = ctv.transform(X_new)                        # Reviews in new data set (for prediction only - these reviews don't have target labels)"
      ],
      "execution_count": 17,
      "outputs": []
    },
    {
      "cell_type": "markdown",
      "metadata": {
        "id": "CS3dN7R1dJtN"
      },
      "source": [
        "### TfIdf Vectorizer"
      ]
    },
    {
      "cell_type": "code",
      "metadata": {
        "id": "adY--xlVwdTg"
      },
      "source": [
        "# Initiate TfIdf vectorizer\r\n",
        "from sklearn.feature_extraction.text import TfidfVectorizer\r\n",
        "tfv = TfidfVectorizer(tokenizer = my_tokenizer)"
      ],
      "execution_count": 16,
      "outputs": []
    },
    {
      "cell_type": "code",
      "metadata": {
        "id": "7zYWwPXRcvQe"
      },
      "source": [
        "# Transform text to Tfidf vectors                     WARNING : takes some time\r\n",
        "train_boost_tfv = tfv.fit_transform(X_train_boost)    # Reviews in training set (including minority class boost)\r\n",
        "train_tfv = tfv.transform(X_train)                    # Reviews in training set (original without boost)\r\n",
        "test_tfv = tfv.transform(X_test)                      # Reviews in test set (for model evaluation)\r\n",
        "new_tfv = tfv.transform(X_new)                        # Reviews in new data set (for prediction only - these reviews don't have target labels)"
      ],
      "execution_count": 18,
      "outputs": []
    },
    {
      "cell_type": "markdown",
      "metadata": {
        "id": "RyHJWpyRZvS7"
      },
      "source": [
        "### Vector Summary "
      ]
    },
    {
      "cell_type": "code",
      "metadata": {
        "colab": {
          "base_uri": "https://localhost:8080/",
          "height": 347
        },
        "id": "1XRUIlNZcodl",
        "outputId": "34d93484-c721-4c2c-c39a-a7e0defeb8ae"
      },
      "source": [
        "# Get key indicators for all sets of vectors\r\n",
        "vectors_summary = {'COUNT VECTORS': '',\r\n",
        "                   'train_boost_ctv': {'Shape': train_boost_ctv.shape, 'Non-zeros': train_boost_ctv.count_nonzero(), 'Sum': train_boost_ctv.sum()}, \r\n",
        "                   'train_ctv': {'Shape': train_ctv.shape, 'Non-zeros': train_ctv.count_nonzero(), 'Sum': train_ctv.sum()}, \r\n",
        "                   'test_ctv': {'Shape': test_ctv.shape, 'Non-zeros': test_ctv.count_nonzero(), 'Sum': test_ctv.sum()}, \r\n",
        "                   'new_ctv': {'Shape': new_ctv.shape, 'Non-zeros': new_ctv.count_nonzero(), 'Sum': new_ctv.sum()},\r\n",
        "                   'TFIDF VECTORS': '',\r\n",
        "                   'train_boost_tfv': {'Shape': train_boost_tfv.shape, 'Non-zeros': train_boost_tfv.count_nonzero(), 'Sum': train_boost_tfv.sum()},\r\n",
        "                   'train_tfv': {'Shape': train_tfv.shape, 'Non-zeros': train_tfv.count_nonzero(), 'Sum': train_tfv.sum()}, \r\n",
        "                   'test_tfv': {'Shape': test_tfv.shape, 'Non-zeros': test_tfv.count_nonzero(), 'Sum': test_tfv.sum()},\r\n",
        "                   'new_tfv': {'Shape': new_tfv.shape, 'Non-zeros': new_tfv.count_nonzero(), 'Sum': new_tfv.sum()}\r\n",
        "                   }\r\n",
        "\r\n",
        "# Pass into dataframe\r\n",
        "vectors_summary = pd.DataFrame(vectors_summary).transpose()\r\n",
        "vectors_summary"
      ],
      "execution_count": 30,
      "outputs": [
        {
          "output_type": "execute_result",
          "data": {
            "text/html": [
              "<div>\n",
              "<style scoped>\n",
              "    .dataframe tbody tr th:only-of-type {\n",
              "        vertical-align: middle;\n",
              "    }\n",
              "\n",
              "    .dataframe tbody tr th {\n",
              "        vertical-align: top;\n",
              "    }\n",
              "\n",
              "    .dataframe thead th {\n",
              "        text-align: right;\n",
              "    }\n",
              "</style>\n",
              "<table border=\"1\" class=\"dataframe\">\n",
              "  <thead>\n",
              "    <tr style=\"text-align: right;\">\n",
              "      <th></th>\n",
              "      <th>Shape</th>\n",
              "      <th>Non-zeros</th>\n",
              "      <th>Sum</th>\n",
              "    </tr>\n",
              "  </thead>\n",
              "  <tbody>\n",
              "    <tr>\n",
              "      <th>COUNT VECTORS</th>\n",
              "      <td></td>\n",
              "      <td></td>\n",
              "      <td></td>\n",
              "    </tr>\n",
              "    <tr>\n",
              "      <th>train_boost_ctv</th>\n",
              "      <td>(1098, 1881)</td>\n",
              "      <td>12460</td>\n",
              "      <td>14472</td>\n",
              "    </tr>\n",
              "    <tr>\n",
              "      <th>train_ctv</th>\n",
              "      <td>(796, 1881)</td>\n",
              "      <td>9145</td>\n",
              "      <td>10464</td>\n",
              "    </tr>\n",
              "    <tr>\n",
              "      <th>test_ctv</th>\n",
              "      <td>(199, 1881)</td>\n",
              "      <td>2023</td>\n",
              "      <td>2385</td>\n",
              "    </tr>\n",
              "    <tr>\n",
              "      <th>new_ctv</th>\n",
              "      <td>(799, 1881)</td>\n",
              "      <td>11404</td>\n",
              "      <td>14159</td>\n",
              "    </tr>\n",
              "    <tr>\n",
              "      <th>TFIDF VECTORS</th>\n",
              "      <td></td>\n",
              "      <td></td>\n",
              "      <td></td>\n",
              "    </tr>\n",
              "    <tr>\n",
              "      <th>train_boost_tfv</th>\n",
              "      <td>(1098, 1881)</td>\n",
              "      <td>12460</td>\n",
              "      <td>3229.97</td>\n",
              "    </tr>\n",
              "    <tr>\n",
              "      <th>train_tfv</th>\n",
              "      <td>(796, 1881)</td>\n",
              "      <td>9145</td>\n",
              "      <td>2362</td>\n",
              "    </tr>\n",
              "    <tr>\n",
              "      <th>test_tfv</th>\n",
              "      <td>(199, 1881)</td>\n",
              "      <td>2023</td>\n",
              "      <td>555.535</td>\n",
              "    </tr>\n",
              "    <tr>\n",
              "      <th>new_tfv</th>\n",
              "      <td>(799, 1881)</td>\n",
              "      <td>11404</td>\n",
              "      <td>2564.19</td>\n",
              "    </tr>\n",
              "  </tbody>\n",
              "</table>\n",
              "</div>"
            ],
            "text/plain": [
              "                        Shape Non-zeros      Sum\n",
              "COUNT VECTORS                                   \n",
              "train_boost_ctv  (1098, 1881)     12460    14472\n",
              "train_ctv         (796, 1881)      9145    10464\n",
              "test_ctv          (199, 1881)      2023     2385\n",
              "new_ctv           (799, 1881)     11404    14159\n",
              "TFIDF VECTORS                                   \n",
              "train_boost_tfv  (1098, 1881)     12460  3229.97\n",
              "train_tfv         (796, 1881)      9145     2362\n",
              "test_tfv          (199, 1881)      2023  555.535\n",
              "new_tfv           (799, 1881)     11404  2564.19"
            ]
          },
          "metadata": {
            "tags": []
          },
          "execution_count": 30
        }
      ]
    },
    {
      "cell_type": "markdown",
      "metadata": {
        "id": "lePIlJM4hLkg"
      },
      "source": [
        "#2 Model Training"
      ]
    },
    {
      "cell_type": "markdown",
      "metadata": {
        "id": "jzSUDzwqiJ7p"
      },
      "source": [
        "##2.0 Approach"
      ]
    },
    {
      "cell_type": "markdown",
      "metadata": {
        "id": "mLE_vaejiNcM"
      },
      "source": [
        "### Models\r\n",
        "Three types of machine learning algorithms were tried in the effort to predict purchase: Multinomial Naive Bayes, Logistic Regression, and Support Vector Machines (subsequently abbreviated as MNB, LR, SVM).\r\n",
        "\r\n",
        "Ideas / inspirations were taken from the following articles:\r\n",
        "\r\n",
        "https://monkeylearn.com/text-classification/\r\n",
        "\r\n",
        "https://kavita-ganesan.com/news-classifier-with-logistic-regression-in-python/#.X-sep9j7S70 "
      ]
    },
    {
      "cell_type": "code",
      "metadata": {
        "id": "YWT3xyAaAOPH"
      },
      "source": [
        "# Import models for training \r\n",
        "from sklearn.naive_bayes import MultinomialNB  \r\n",
        "from sklearn.linear_model import LogisticRegression\r\n",
        "from sklearn.svm import SVC"
      ],
      "execution_count": 27,
      "outputs": []
    },
    {
      "cell_type": "markdown",
      "metadata": {
        "id": "TQ1AWrkmiaN6"
      },
      "source": [
        "### Evaluation Metrics\r\n",
        "Consider findings from an earlier stage, 0.3 Data checks : \r\n",
        "* Confirmed purchase (True) has moderate association with higher ratings and recommendation -- positive, but not very strong\r\n",
        "* We hypothesize that this is because some of the \"non purchase\" (False) cases were unconfirmed purchase. If the hypothesis was true, False cases may have included purchases that weren't identified in the data.\r\n",
        "\r\n",
        "In light of this situation, we will focus on the [recall score](https://scikit-learn.org/stable/modules/generated/sklearn.metrics.recall_score.html#sklearn.metrics.recall_score)  a metric to evaluate the model i.e. the model's ability to correctly identify all confirmed purchases. We will also show the [confusion matrix](https://scikit-learn.org/stable/modules/generated/sklearn.metrics.confusion_matrix.html?highlight=confusion#sklearn.metrics.confusion_matrix) and two other metrics: \r\n",
        "* [Precision score](https://scikit-learn.org/stable/modules/generated/sklearn.metrics.precision_score.html#sklearn.metrics.precision_score)\r\n",
        "* [fbeta score](https://scikit-learn.org/stable/modules/generated/sklearn.metrics.fbeta_score.html#sklearn.metrics.fbeta_score) (mean of precision and recall, given equal weights in this exercise)"
      ]
    },
    {
      "cell_type": "code",
      "metadata": {
        "id": "PcYzxoFMon5Z"
      },
      "source": [
        "# Import modeling tools\r\n",
        "from sklearn import metrics\r\n",
        "from sklearn.model_selection import GridSearchCV"
      ],
      "execution_count": 19,
      "outputs": []
    },
    {
      "cell_type": "markdown",
      "metadata": {
        "id": "TIDyou7mtQ0u"
      },
      "source": [
        "### Showing Results"
      ]
    },
    {
      "cell_type": "code",
      "metadata": {
        "id": "-zI2EWLcvGKT"
      },
      "source": [
        "# Initiate summary\r\n",
        "model_summary = pd.DataFrame(columns = ['Model Description', 'Vector Type', 'Recall', 'Precision', 'fbeta'])"
      ],
      "execution_count": 20,
      "outputs": []
    },
    {
      "cell_type": "code",
      "metadata": {
        "id": "xoQLQT9-uS3j"
      },
      "source": [
        "# Function to show results\r\n",
        "def results(y_test, y_pred):\r\n",
        "  ''' Function to show model evaluation results'''\r\n",
        "\r\n",
        "  precision, recall, fbeta, class_count = metrics.precision_recall_fscore_support(y_test, y_pred, labels=[0, 1])\r\n",
        "\r\n",
        "  print(\"\\n\\nTotals [NoPurchase Purchase]:\", class_count,\r\n",
        "        \"\\nConfusion Matrix:\\n\", metrics.confusion_matrix(y_test, y_pred, labels=[0, 1]))\r\n",
        "  \r\n",
        "  print(\"\\nRecall:\\t\\t\", recall, \"\\nPrecision:\\t\", precision, \"\\nfbeta:\\t\\t\", fbeta)"
      ],
      "execution_count": 21,
      "outputs": []
    },
    {
      "cell_type": "code",
      "metadata": {
        "id": "Pa043lCOyHrI"
      },
      "source": [
        "# Function to update result summary \r\n",
        "def update_summary(y_test, y_pred, vector='Count or TfIdf', model='describe model'):\r\n",
        "  ''' Function to update model performance summary'''\r\n",
        "\r\n",
        "  precision, recall, fbeta, class_count = metrics.precision_recall_fscore_support(y_test, y_pred, labels=[0, 1])\r\n",
        "\r\n",
        "  global model_summary\r\n",
        "  model_summary = model_summary.append({'Model Description': model, \r\n",
        "                                        'Vector Type': vector,\r\n",
        "                                        'Recall': round(recall[1],3),\r\n",
        "                                        'Precision': round(precision[1],3),\r\n",
        "                                        'fbeta': round(fbeta[1],3)\r\n",
        "                                        },\r\n",
        "                                       ignore_index=True)\r\n",
        "  return model_summary"
      ],
      "execution_count": 22,
      "outputs": []
    },
    {
      "cell_type": "code",
      "metadata": {
        "id": "rT55aziPssAa"
      },
      "source": [
        "# Function to delete n rows of result summary \r\n",
        "def delete_lastrows_summary(n_rows):\r\n",
        "  ''' Function to delete last x rows in the model performance summary'''\r\n",
        "\r\n",
        "  global model_summary\r\n",
        "  model_summary.drop(model_summary.tail(n_rows).index,inplace=True)\r\n",
        "  return model_summary"
      ],
      "execution_count": 23,
      "outputs": []
    },
    {
      "cell_type": "code",
      "metadata": {
        "id": "6bFNp-NErXOe"
      },
      "source": [
        "# Function to create or reset result summary \r\n",
        "def new_summary():\r\n",
        "  global model_summary\r\n",
        "  \r\n",
        "  if len(model_summary) > 0:\r\n",
        "    delete_lastrows_summary(len(model_summary))\r\n",
        "\r\n",
        "  return model_summary"
      ],
      "execution_count": 24,
      "outputs": []
    },
    {
      "cell_type": "code",
      "metadata": {
        "colab": {
          "base_uri": "https://localhost:8080/",
          "height": 65
        },
        "id": "Y4YQeFa_r4e-",
        "outputId": "7a58a347-9ba9-41ce-f35b-c470f85f7668"
      },
      "source": [
        "new_summary()\r\n",
        "len(model_summary)"
      ],
      "execution_count": 25,
      "outputs": [
        {
          "output_type": "execute_result",
          "data": {
            "text/html": [
              "<div>\n",
              "<style scoped>\n",
              "    .dataframe tbody tr th:only-of-type {\n",
              "        vertical-align: middle;\n",
              "    }\n",
              "\n",
              "    .dataframe tbody tr th {\n",
              "        vertical-align: top;\n",
              "    }\n",
              "\n",
              "    .dataframe thead th {\n",
              "        text-align: right;\n",
              "    }\n",
              "</style>\n",
              "<table border=\"1\" class=\"dataframe\">\n",
              "  <thead>\n",
              "    <tr style=\"text-align: right;\">\n",
              "      <th></th>\n",
              "      <th>Model Description</th>\n",
              "      <th>Vector Type</th>\n",
              "      <th>Recall</th>\n",
              "      <th>Precision</th>\n",
              "      <th>fbeta</th>\n",
              "    </tr>\n",
              "  </thead>\n",
              "  <tbody>\n",
              "  </tbody>\n",
              "</table>\n",
              "</div>"
            ],
            "text/plain": [
              "Empty DataFrame\n",
              "Columns: [Model Description, Vector Type, Recall, Precision, fbeta]\n",
              "Index: []"
            ]
          },
          "metadata": {
            "tags": []
          },
          "execution_count": 25
        },
        {
          "output_type": "execute_result",
          "data": {
            "text/plain": [
              "0"
            ]
          },
          "metadata": {
            "tags": []
          },
          "execution_count": 25
        }
      ]
    },
    {
      "cell_type": "markdown",
      "metadata": {
        "id": "dfC5nVi2rwH3"
      },
      "source": [
        "##2.1 Multinomial Naive Bayes\r\n",
        "*An approach commonly used for text classification. See documentation for [Multinomial NB](https://scikit-learn.org/stable/modules/generated/sklearn.naive_bayes.MultinomialNB.html#sklearn.naive_bayes.MultinomialNB)*"
      ]
    },
    {
      "cell_type": "code",
      "metadata": {
        "id": "k-e6Bl2EKJEu"
      },
      "source": [
        "# APPROACH 1 : Multinomial Naive Bayes with class priors specified, fit with original training set\r\n",
        "\r\n",
        "# Specify prior probabilities for each class (0 = non-purchase, 1= purchase)\r\n",
        "priors = np.array([y_train.value_counts()[0] / len(y_train), y_train.value_counts()[1] / len(y_train)])\r\n",
        "\r\n",
        "# Instantiate the model\r\n",
        "mnb_cp = MultinomialNB(class_prior= priors)"
      ],
      "execution_count": 31,
      "outputs": []
    },
    {
      "cell_type": "code",
      "metadata": {
        "colab": {
          "base_uri": "https://localhost:8080/",
          "height": 291
        },
        "id": "7yh8pWtUrsX4",
        "outputId": "6d619686-8142-4d43-a40c-8b00a41a41d2"
      },
      "source": [
        "# APPROACH 1A : Multinomial Naive Bayes with class priors specified, fit using Count vectors\r\n",
        "\r\n",
        "# Fit and predict with Count vectors \r\n",
        "mnb_cp.fit(train_ctv, y_train)\r\n",
        "mnb_cp_ctv_pred = mnb_cp.predict(test_ctv)\r\n",
        "\r\n",
        "# Evaluate and show results\r\n",
        "results(y_test, mnb_cp_ctv_pred)\r\n",
        "\r\n",
        "# Update model summary\r\n",
        "print(\"\")\r\n",
        "update_summary(y_test, mnb_cp_ctv_pred, 'Count', 'MNB with class priors')"
      ],
      "execution_count": 135,
      "outputs": [
        {
          "output_type": "execute_result",
          "data": {
            "text/plain": [
              "MultinomialNB(alpha=1.0, class_prior=array([0.68969849, 0.31030151]),\n",
              "              fit_prior=True)"
            ]
          },
          "metadata": {
            "tags": []
          },
          "execution_count": 135
        },
        {
          "output_type": "stream",
          "text": [
            "\n",
            "\n",
            "Totals [NoPurchase Purchase]: [132  67] \n",
            "Confusion Matrix:\n",
            " [[119  13]\n",
            " [ 31  36]]\n",
            "\n",
            "Recall:\t\t [0.90151515 0.53731343] \n",
            "Precision:\t [0.79333333 0.73469388] \n",
            "fbeta:\t\t [0.84397163 0.62068966]\n",
            "\n"
          ],
          "name": "stdout"
        },
        {
          "output_type": "execute_result",
          "data": {
            "text/html": [
              "<div>\n",
              "<style scoped>\n",
              "    .dataframe tbody tr th:only-of-type {\n",
              "        vertical-align: middle;\n",
              "    }\n",
              "\n",
              "    .dataframe tbody tr th {\n",
              "        vertical-align: top;\n",
              "    }\n",
              "\n",
              "    .dataframe thead th {\n",
              "        text-align: right;\n",
              "    }\n",
              "</style>\n",
              "<table border=\"1\" class=\"dataframe\">\n",
              "  <thead>\n",
              "    <tr style=\"text-align: right;\">\n",
              "      <th></th>\n",
              "      <th>Model Description</th>\n",
              "      <th>Vector Type</th>\n",
              "      <th>Recall</th>\n",
              "      <th>Precision</th>\n",
              "      <th>fbeta</th>\n",
              "    </tr>\n",
              "  </thead>\n",
              "  <tbody>\n",
              "    <tr>\n",
              "      <th>0</th>\n",
              "      <td>MNB with class priors</td>\n",
              "      <td>Count</td>\n",
              "      <td>0.537</td>\n",
              "      <td>0.735</td>\n",
              "      <td>0.621</td>\n",
              "    </tr>\n",
              "  </tbody>\n",
              "</table>\n",
              "</div>"
            ],
            "text/plain": [
              "       Model Description Vector Type  Recall  Precision  fbeta\n",
              "0  MNB with class priors       Count   0.537      0.735  0.621"
            ]
          },
          "metadata": {
            "tags": []
          },
          "execution_count": 135
        }
      ]
    },
    {
      "cell_type": "code",
      "metadata": {
        "colab": {
          "base_uri": "https://localhost:8080/",
          "height": 321
        },
        "id": "pRcDrGdxjjKO",
        "outputId": "19589926-81cd-4301-a92e-32b2ff04dfa2"
      },
      "source": [
        "# APPROACH 1B : Multinomial Naive Bayes with class priors specified, fit using TfIdf vectors\r\n",
        "\r\n",
        "# Fit and predict with TfIdf vectors\r\n",
        "mnb_cp.fit(train_tfv, y_train)\r\n",
        "mnb_cp_tfv_pred = mnb_cp.predict(test_tfv)\r\n",
        "\r\n",
        "# Evaluate and show results\r\n",
        "results(y_test, mnb_cp_tfv_pred)\r\n",
        "\r\n",
        "# Update model summary\r\n",
        "print(\"\")\r\n",
        "update_summary(y_test, mnb_cp_tfv_pred, 'TfIdf', 'MNB with class priors')"
      ],
      "execution_count": 136,
      "outputs": [
        {
          "output_type": "execute_result",
          "data": {
            "text/plain": [
              "MultinomialNB(alpha=1.0, class_prior=array([0.68969849, 0.31030151]),\n",
              "              fit_prior=True)"
            ]
          },
          "metadata": {
            "tags": []
          },
          "execution_count": 136
        },
        {
          "output_type": "stream",
          "text": [
            "\n",
            "\n",
            "Totals [NoPurchase Purchase]: [132  67] \n",
            "Confusion Matrix:\n",
            " [[130   2]\n",
            " [ 51  16]]\n",
            "\n",
            "Recall:\t\t [0.98484848 0.23880597] \n",
            "Precision:\t [0.71823204 0.88888889] \n",
            "fbeta:\t\t [0.83067093 0.37647059]\n",
            "\n"
          ],
          "name": "stdout"
        },
        {
          "output_type": "execute_result",
          "data": {
            "text/html": [
              "<div>\n",
              "<style scoped>\n",
              "    .dataframe tbody tr th:only-of-type {\n",
              "        vertical-align: middle;\n",
              "    }\n",
              "\n",
              "    .dataframe tbody tr th {\n",
              "        vertical-align: top;\n",
              "    }\n",
              "\n",
              "    .dataframe thead th {\n",
              "        text-align: right;\n",
              "    }\n",
              "</style>\n",
              "<table border=\"1\" class=\"dataframe\">\n",
              "  <thead>\n",
              "    <tr style=\"text-align: right;\">\n",
              "      <th></th>\n",
              "      <th>Model Description</th>\n",
              "      <th>Vector Type</th>\n",
              "      <th>Recall</th>\n",
              "      <th>Precision</th>\n",
              "      <th>fbeta</th>\n",
              "    </tr>\n",
              "  </thead>\n",
              "  <tbody>\n",
              "    <tr>\n",
              "      <th>0</th>\n",
              "      <td>MNB with class priors</td>\n",
              "      <td>Count</td>\n",
              "      <td>0.537</td>\n",
              "      <td>0.735</td>\n",
              "      <td>0.621</td>\n",
              "    </tr>\n",
              "    <tr>\n",
              "      <th>1</th>\n",
              "      <td>MNB with class priors</td>\n",
              "      <td>TfIdf</td>\n",
              "      <td>0.239</td>\n",
              "      <td>0.889</td>\n",
              "      <td>0.376</td>\n",
              "    </tr>\n",
              "  </tbody>\n",
              "</table>\n",
              "</div>"
            ],
            "text/plain": [
              "       Model Description Vector Type  Recall  Precision  fbeta\n",
              "0  MNB with class priors       Count   0.537      0.735  0.621\n",
              "1  MNB with class priors       TfIdf   0.239      0.889  0.376"
            ]
          },
          "metadata": {
            "tags": []
          },
          "execution_count": 136
        }
      ]
    },
    {
      "cell_type": "code",
      "metadata": {
        "id": "NFh4KL2lKhc1"
      },
      "source": [
        "# APPROACH 2A : Multinomial Naive Bayes without class priors, fit with boosted training set\r\n",
        "\r\n",
        "# Instantiate the model   -- NOTE : THIS IS THE CHOSEN MODEL\r\n",
        "mnb = MultinomialNB(class_prior= None)"
      ],
      "execution_count": 28,
      "outputs": []
    },
    {
      "cell_type": "code",
      "metadata": {
        "colab": {
          "base_uri": "https://localhost:8080/",
          "height": 333
        },
        "id": "MJoRTx1xkEY8",
        "outputId": "8f7a8644-c8ce-46c6-85c9-fdd000cce13d"
      },
      "source": [
        "# APPROACH 2A : Multinomial Naive Bayes without class priors, fit using Count vectors\r\n",
        "\r\n",
        "# Fit and predict with Count vectors \r\n",
        "mnb.fit(train_boost_ctv, y_train_boost)\r\n",
        "mnb_ctv_pred = mnb.predict(test_ctv)\r\n",
        "\r\n",
        "# Evaluate and show results\r\n",
        "results(y_test, mnb_ctv_pred)\r\n",
        "\r\n",
        "# Update model summary\r\n",
        "print(\"\")\r\n",
        "update_summary(y_test, mnb_ctv_pred, 'Count', 'MNB with boost train set')"
      ],
      "execution_count": 138,
      "outputs": [
        {
          "output_type": "execute_result",
          "data": {
            "text/plain": [
              "MultinomialNB(alpha=1.0, class_prior=None, fit_prior=True)"
            ]
          },
          "metadata": {
            "tags": []
          },
          "execution_count": 138
        },
        {
          "output_type": "stream",
          "text": [
            "\n",
            "\n",
            "Totals [NoPurchase Purchase]: [132  67] \n",
            "Confusion Matrix:\n",
            " [[105  27]\n",
            " [ 14  53]]\n",
            "\n",
            "Recall:\t\t [0.79545455 0.79104478] \n",
            "Precision:\t [0.88235294 0.6625    ] \n",
            "fbeta:\t\t [0.83665339 0.72108844]\n",
            "\n"
          ],
          "name": "stdout"
        },
        {
          "output_type": "execute_result",
          "data": {
            "text/html": [
              "<div>\n",
              "<style scoped>\n",
              "    .dataframe tbody tr th:only-of-type {\n",
              "        vertical-align: middle;\n",
              "    }\n",
              "\n",
              "    .dataframe tbody tr th {\n",
              "        vertical-align: top;\n",
              "    }\n",
              "\n",
              "    .dataframe thead th {\n",
              "        text-align: right;\n",
              "    }\n",
              "</style>\n",
              "<table border=\"1\" class=\"dataframe\">\n",
              "  <thead>\n",
              "    <tr style=\"text-align: right;\">\n",
              "      <th></th>\n",
              "      <th>Model Description</th>\n",
              "      <th>Vector Type</th>\n",
              "      <th>Recall</th>\n",
              "      <th>Precision</th>\n",
              "      <th>fbeta</th>\n",
              "    </tr>\n",
              "  </thead>\n",
              "  <tbody>\n",
              "    <tr>\n",
              "      <th>0</th>\n",
              "      <td>MNB with class priors</td>\n",
              "      <td>Count</td>\n",
              "      <td>0.537</td>\n",
              "      <td>0.735</td>\n",
              "      <td>0.621</td>\n",
              "    </tr>\n",
              "    <tr>\n",
              "      <th>1</th>\n",
              "      <td>MNB with class priors</td>\n",
              "      <td>TfIdf</td>\n",
              "      <td>0.239</td>\n",
              "      <td>0.889</td>\n",
              "      <td>0.376</td>\n",
              "    </tr>\n",
              "    <tr>\n",
              "      <th>2</th>\n",
              "      <td>MNB with boost train set</td>\n",
              "      <td>Count</td>\n",
              "      <td>0.791</td>\n",
              "      <td>0.662</td>\n",
              "      <td>0.721</td>\n",
              "    </tr>\n",
              "  </tbody>\n",
              "</table>\n",
              "</div>"
            ],
            "text/plain": [
              "          Model Description Vector Type  Recall  Precision  fbeta\n",
              "0     MNB with class priors       Count   0.537      0.735  0.621\n",
              "1     MNB with class priors       TfIdf   0.239      0.889  0.376\n",
              "2  MNB with boost train set       Count   0.791      0.662  0.721"
            ]
          },
          "metadata": {
            "tags": []
          },
          "execution_count": 138
        }
      ]
    },
    {
      "cell_type": "code",
      "metadata": {
        "colab": {
          "base_uri": "https://localhost:8080/",
          "height": 363
        },
        "id": "wtUrD8Mckjr7",
        "outputId": "bf5a939f-65b7-4350-c0c9-11e6d4bd46a2"
      },
      "source": [
        "# APPROACH 2B : Multinomial Naive Bayes without class priors, fit using TfIdf vectors\r\n",
        "\r\n",
        "# Fit and predict with TfIdf vectors \r\n",
        "mnb.fit(train_boost_tfv, y_train_boost)\r\n",
        "mnb_tfv_pred = mnb.predict(test_tfv)\r\n",
        "\r\n",
        "# Evaluate and show results\r\n",
        "results(y_test, mnb_tfv_pred)\r\n",
        "\r\n",
        "# Update model summary\r\n",
        "print(\"\")\r\n",
        "update_summary(y_test, mnb_tfv_pred, 'TfIdf', 'MNB with boost train set')"
      ],
      "execution_count": 146,
      "outputs": [
        {
          "output_type": "execute_result",
          "data": {
            "text/plain": [
              "MultinomialNB(alpha=1.0, class_prior=None, fit_prior=True)"
            ]
          },
          "metadata": {
            "tags": []
          },
          "execution_count": 146
        },
        {
          "output_type": "stream",
          "text": [
            "\n",
            "\n",
            "Totals [NoPurchase Purchase]: [132  67] \n",
            "Confusion Matrix:\n",
            " [[103  29]\n",
            " [ 14  53]]\n",
            "\n",
            "Recall:\t\t [0.78030303 0.79104478] \n",
            "Precision:\t [0.88034188 0.64634146] \n",
            "fbeta:\t\t [0.82730924 0.7114094 ]\n",
            "\n"
          ],
          "name": "stdout"
        },
        {
          "output_type": "execute_result",
          "data": {
            "text/html": [
              "<div>\n",
              "<style scoped>\n",
              "    .dataframe tbody tr th:only-of-type {\n",
              "        vertical-align: middle;\n",
              "    }\n",
              "\n",
              "    .dataframe tbody tr th {\n",
              "        vertical-align: top;\n",
              "    }\n",
              "\n",
              "    .dataframe thead th {\n",
              "        text-align: right;\n",
              "    }\n",
              "</style>\n",
              "<table border=\"1\" class=\"dataframe\">\n",
              "  <thead>\n",
              "    <tr style=\"text-align: right;\">\n",
              "      <th></th>\n",
              "      <th>Model Description</th>\n",
              "      <th>Vector Type</th>\n",
              "      <th>Recall</th>\n",
              "      <th>Precision</th>\n",
              "      <th>fbeta</th>\n",
              "    </tr>\n",
              "  </thead>\n",
              "  <tbody>\n",
              "    <tr>\n",
              "      <th>0</th>\n",
              "      <td>MNB with class priors</td>\n",
              "      <td>Count</td>\n",
              "      <td>0.537</td>\n",
              "      <td>0.735</td>\n",
              "      <td>0.621</td>\n",
              "    </tr>\n",
              "    <tr>\n",
              "      <th>1</th>\n",
              "      <td>MNB with class priors</td>\n",
              "      <td>TfIdf</td>\n",
              "      <td>0.239</td>\n",
              "      <td>0.889</td>\n",
              "      <td>0.376</td>\n",
              "    </tr>\n",
              "    <tr>\n",
              "      <th>2</th>\n",
              "      <td>MNB with boost train set</td>\n",
              "      <td>Count</td>\n",
              "      <td>0.791</td>\n",
              "      <td>0.662</td>\n",
              "      <td>0.721</td>\n",
              "    </tr>\n",
              "    <tr>\n",
              "      <th>3</th>\n",
              "      <td>MNB with boost train set</td>\n",
              "      <td>TfIdf</td>\n",
              "      <td>0.791</td>\n",
              "      <td>0.646</td>\n",
              "      <td>0.711</td>\n",
              "    </tr>\n",
              "  </tbody>\n",
              "</table>\n",
              "</div>"
            ],
            "text/plain": [
              "          Model Description Vector Type  Recall  Precision  fbeta\n",
              "0     MNB with class priors       Count   0.537      0.735  0.621\n",
              "1     MNB with class priors       TfIdf   0.239      0.889  0.376\n",
              "2  MNB with boost train set       Count   0.791      0.662  0.721\n",
              "3  MNB with boost train set       TfIdf   0.791      0.646  0.711"
            ]
          },
          "metadata": {
            "tags": []
          },
          "execution_count": 146
        }
      ]
    },
    {
      "cell_type": "markdown",
      "metadata": {
        "id": "INyUUIxJRozm"
      },
      "source": [
        "#### *Comments on MNB*\r\n",
        "\r\n",
        "Approach 1 : Applying class priors on unbalanced training set resulted in uneven prediction. The estimated model is much better at recalling non-purchase (over 90% sensitivity) but poor at predicting purchase, resulting in low fbeta scores in both cases of using Count and TfIdf vectors to fit the model. \r\n",
        "\r\n",
        "Approach 2 : Using balanced training set resulted in more even predictions of both classes, purchase and non-purchase. Model performance are similar between using Count vs TfIdf vectors. \r\n",
        "\r\n",
        "Best recall for purchase so far : **79.1%** with approach 2."
      ]
    },
    {
      "cell_type": "markdown",
      "metadata": {
        "id": "gi_J64_JedtI"
      },
      "source": [
        "## 2.2 Logistic Regression\r\n",
        "*See documentation for [Logistic Regression](https://scikit-learn.org/stable/modules/generated/sklearn.linear_model.LogisticRegression.html).* \r\n",
        "\r\n",
        "*Hyperparameter tuning is done using [GridSearchCV](https://scikit-learn.org/stable/modules/generated/sklearn.model_selection.GridSearchCV.html?highlight=gridsearchcv#sklearn.model_selection.GridSearchCV) to try out different solvers and penalties.* "
      ]
    },
    {
      "cell_type": "code",
      "metadata": {
        "id": "7ojpo0zOBCja"
      },
      "source": [
        "# APPROACH 3 : Logistic Regression, with hyperparameter tuning as first step\r\n",
        "\r\n",
        "# Instantiate model, define hyperparameters\r\n",
        "lr = LogisticRegression(tol = 0.001, max_iter=1000)\r\n",
        "solvers = ['newton-cg', 'lbfgs', 'sag', 'saga']\r\n",
        "penalties = ['l2', 'none']\r\n",
        "\r\n",
        "# Define grid search - criteria : f1 score \r\n",
        "grid_lr = dict(solver=solvers, penalty=penalties)\r\n",
        "grid_lr_search = GridSearchCV(estimator=lr, param_grid=grid_lr, \r\n",
        "                              scoring= 'recall', error_score=0, verbose=1)"
      ],
      "execution_count": 143,
      "outputs": []
    },
    {
      "cell_type": "code",
      "metadata": {
        "colab": {
          "base_uri": "https://localhost:8080/"
        },
        "id": "MULUpTgqIBaK",
        "outputId": "a80900a0-a85e-4377-c70c-dafb34b18e96"
      },
      "source": [
        "# APPROACH 3A : Logistic Regression, fit using Count vectors\r\n",
        "\r\n",
        "# Fit model with grid search\r\n",
        "grid_lr_ctv = grid_lr_search.fit(train_boost_ctv, y_train_boost)\r\n",
        "\r\n",
        "# Show best result\r\n",
        "print(f\"Best Recall: {grid_lr_ctv.best_score_} using {grid_lr_ctv.best_params_}\")"
      ],
      "execution_count": 144,
      "outputs": [
        {
          "output_type": "stream",
          "text": [
            "Fitting 5 folds for each of 8 candidates, totalling 40 fits\n"
          ],
          "name": "stdout"
        },
        {
          "output_type": "stream",
          "text": [
            "[Parallel(n_jobs=1)]: Using backend SequentialBackend with 1 concurrent workers.\n"
          ],
          "name": "stderr"
        },
        {
          "output_type": "stream",
          "text": [
            "Best Recall: 0.9472560467055879 using {'penalty': 'none', 'solver': 'lbfgs'}\n"
          ],
          "name": "stdout"
        },
        {
          "output_type": "stream",
          "text": [
            "[Parallel(n_jobs=1)]: Done  40 out of  40 | elapsed:    2.8s finished\n"
          ],
          "name": "stderr"
        }
      ]
    },
    {
      "cell_type": "code",
      "metadata": {
        "colab": {
          "base_uri": "https://localhost:8080/",
          "height": 464
        },
        "id": "TSEsZZahMJBW",
        "outputId": "166c57e6-253a-4eee-be9f-3e60e71c4fde"
      },
      "source": [
        "# Evaluate the model with best parameters\r\n",
        "best_lr_ctv = LogisticRegression(tol = 0.001, max_iter=1000, \r\n",
        "                                 solver='lbfgs', penalty='none')\r\n",
        "\r\n",
        "# Fit and predict with Count vectors \r\n",
        "best_lr_ctv.fit(train_boost_ctv, y_train_boost)\r\n",
        "lr_ctv_pred = best_lr_ctv.predict(test_ctv)\r\n",
        "\r\n",
        "# Show results with test set\r\n",
        "results(y_test, lr_ctv_pred)\r\n",
        "\r\n",
        "# Update model summary\r\n",
        "print(\"\")\r\n",
        "update_summary(y_test, lr_ctv_pred, 'Count', 'Logistic Regression')"
      ],
      "execution_count": 149,
      "outputs": [
        {
          "output_type": "execute_result",
          "data": {
            "text/plain": [
              "LogisticRegression(C=1.0, class_weight=None, dual=False, fit_intercept=True,\n",
              "                   intercept_scaling=1, l1_ratio=None, max_iter=1000,\n",
              "                   multi_class='auto', n_jobs=None, penalty='none',\n",
              "                   random_state=None, solver='lbfgs', tol=0.001, verbose=0,\n",
              "                   warm_start=False)"
            ]
          },
          "metadata": {
            "tags": []
          },
          "execution_count": 149
        },
        {
          "output_type": "stream",
          "text": [
            "\n",
            "\n",
            "Totals [NoPurchase Purchase]: [132  67] \n",
            "Confusion Matrix:\n",
            " [[107  25]\n",
            " [ 22  45]]\n",
            "\n",
            "Recall:\t\t [0.81060606 0.67164179] \n",
            "Precision:\t [0.82945736 0.64285714] \n",
            "fbeta:\t\t [0.81992337 0.65693431]\n",
            "\n"
          ],
          "name": "stdout"
        },
        {
          "output_type": "execute_result",
          "data": {
            "text/html": [
              "<div>\n",
              "<style scoped>\n",
              "    .dataframe tbody tr th:only-of-type {\n",
              "        vertical-align: middle;\n",
              "    }\n",
              "\n",
              "    .dataframe tbody tr th {\n",
              "        vertical-align: top;\n",
              "    }\n",
              "\n",
              "    .dataframe thead th {\n",
              "        text-align: right;\n",
              "    }\n",
              "</style>\n",
              "<table border=\"1\" class=\"dataframe\">\n",
              "  <thead>\n",
              "    <tr style=\"text-align: right;\">\n",
              "      <th></th>\n",
              "      <th>Model Description</th>\n",
              "      <th>Vector Type</th>\n",
              "      <th>Recall</th>\n",
              "      <th>Precision</th>\n",
              "      <th>fbeta</th>\n",
              "    </tr>\n",
              "  </thead>\n",
              "  <tbody>\n",
              "    <tr>\n",
              "      <th>0</th>\n",
              "      <td>MNB with class priors</td>\n",
              "      <td>Count</td>\n",
              "      <td>0.537</td>\n",
              "      <td>0.735</td>\n",
              "      <td>0.621</td>\n",
              "    </tr>\n",
              "    <tr>\n",
              "      <th>1</th>\n",
              "      <td>MNB with class priors</td>\n",
              "      <td>TfIdf</td>\n",
              "      <td>0.239</td>\n",
              "      <td>0.889</td>\n",
              "      <td>0.376</td>\n",
              "    </tr>\n",
              "    <tr>\n",
              "      <th>2</th>\n",
              "      <td>MNB with boost train set</td>\n",
              "      <td>Count</td>\n",
              "      <td>0.791</td>\n",
              "      <td>0.662</td>\n",
              "      <td>0.721</td>\n",
              "    </tr>\n",
              "    <tr>\n",
              "      <th>3</th>\n",
              "      <td>MNB with boost train set</td>\n",
              "      <td>TfIdf</td>\n",
              "      <td>0.791</td>\n",
              "      <td>0.646</td>\n",
              "      <td>0.711</td>\n",
              "    </tr>\n",
              "    <tr>\n",
              "      <th>4</th>\n",
              "      <td>Logistic Regression</td>\n",
              "      <td>Count</td>\n",
              "      <td>0.672</td>\n",
              "      <td>0.643</td>\n",
              "      <td>0.657</td>\n",
              "    </tr>\n",
              "  </tbody>\n",
              "</table>\n",
              "</div>"
            ],
            "text/plain": [
              "          Model Description Vector Type  Recall  Precision  fbeta\n",
              "0     MNB with class priors       Count   0.537      0.735  0.621\n",
              "1     MNB with class priors       TfIdf   0.239      0.889  0.376\n",
              "2  MNB with boost train set       Count   0.791      0.662  0.721\n",
              "3  MNB with boost train set       TfIdf   0.791      0.646  0.711\n",
              "4       Logistic Regression       Count   0.672      0.643  0.657"
            ]
          },
          "metadata": {
            "tags": []
          },
          "execution_count": 149
        }
      ]
    },
    {
      "cell_type": "code",
      "metadata": {
        "colab": {
          "base_uri": "https://localhost:8080/"
        },
        "id": "KH08NsxFPoF8",
        "outputId": "5ffed206-4ea0-4a09-a790-0ae18eef984c"
      },
      "source": [
        "# APPROACH 3B : Logistic Regression, fit using TfIdf vectors\r\n",
        "\r\n",
        "# Fit model with grid search\r\n",
        "grid_lr_tfv = grid_lr_search.fit(train_boost_tfv, y_train_boost)\r\n",
        "\r\n",
        "# Show best result\r\n",
        "print(f\"Best Recall: {grid_lr_tfv.best_score_} using {grid_lr_tfv.best_params_}\")"
      ],
      "execution_count": 150,
      "outputs": [
        {
          "output_type": "stream",
          "text": [
            "Fitting 5 folds for each of 8 candidates, totalling 40 fits\n"
          ],
          "name": "stdout"
        },
        {
          "output_type": "stream",
          "text": [
            "[Parallel(n_jobs=1)]: Using backend SequentialBackend with 1 concurrent workers.\n"
          ],
          "name": "stderr"
        },
        {
          "output_type": "stream",
          "text": [
            "Best Recall: 0.9454211843202669 using {'penalty': 'none', 'solver': 'lbfgs'}\n"
          ],
          "name": "stdout"
        },
        {
          "output_type": "stream",
          "text": [
            "[Parallel(n_jobs=1)]: Done  40 out of  40 | elapsed:    1.9s finished\n"
          ],
          "name": "stderr"
        }
      ]
    },
    {
      "cell_type": "code",
      "metadata": {
        "colab": {
          "base_uri": "https://localhost:8080/",
          "height": 494
        },
        "id": "cGwwlKBWNr4f",
        "outputId": "8705ec01-6588-4033-c018-fa8a5cce3ba3"
      },
      "source": [
        "# Evaluate the model with best parameters\r\n",
        "best_lr_tfv = LogisticRegression(tol = 0.001, max_iter=1000, \r\n",
        "                                solver='lbfgs', penalty='none')\r\n",
        "\r\n",
        "# Fit and predict with Count vectors \r\n",
        "best_lr_tfv.fit(train_boost_tfv, y_train_boost)\r\n",
        "lr_tfv_pred = best_lr_tfv.predict(test_tfv)\r\n",
        "\r\n",
        "# Show results with test set\r\n",
        "results(y_test, lr_tfv_pred)\r\n",
        "\r\n",
        "# Update model summary\r\n",
        "print(\"\")\r\n",
        "update_summary(y_test, lr_tfv_pred, 'TfIdf', 'Logistic Regression')"
      ],
      "execution_count": 151,
      "outputs": [
        {
          "output_type": "execute_result",
          "data": {
            "text/plain": [
              "LogisticRegression(C=1.0, class_weight=None, dual=False, fit_intercept=True,\n",
              "                   intercept_scaling=1, l1_ratio=None, max_iter=1000,\n",
              "                   multi_class='auto', n_jobs=None, penalty='none',\n",
              "                   random_state=None, solver='lbfgs', tol=0.001, verbose=0,\n",
              "                   warm_start=False)"
            ]
          },
          "metadata": {
            "tags": []
          },
          "execution_count": 151
        },
        {
          "output_type": "stream",
          "text": [
            "\n",
            "\n",
            "Totals [NoPurchase Purchase]: [132  67] \n",
            "Confusion Matrix:\n",
            " [[104  28]\n",
            " [ 18  49]]\n",
            "\n",
            "Recall:\t\t [0.78787879 0.73134328] \n",
            "Precision:\t [0.85245902 0.63636364] \n",
            "fbeta:\t\t [0.81889764 0.68055556]\n",
            "\n"
          ],
          "name": "stdout"
        },
        {
          "output_type": "execute_result",
          "data": {
            "text/html": [
              "<div>\n",
              "<style scoped>\n",
              "    .dataframe tbody tr th:only-of-type {\n",
              "        vertical-align: middle;\n",
              "    }\n",
              "\n",
              "    .dataframe tbody tr th {\n",
              "        vertical-align: top;\n",
              "    }\n",
              "\n",
              "    .dataframe thead th {\n",
              "        text-align: right;\n",
              "    }\n",
              "</style>\n",
              "<table border=\"1\" class=\"dataframe\">\n",
              "  <thead>\n",
              "    <tr style=\"text-align: right;\">\n",
              "      <th></th>\n",
              "      <th>Model Description</th>\n",
              "      <th>Vector Type</th>\n",
              "      <th>Recall</th>\n",
              "      <th>Precision</th>\n",
              "      <th>fbeta</th>\n",
              "    </tr>\n",
              "  </thead>\n",
              "  <tbody>\n",
              "    <tr>\n",
              "      <th>0</th>\n",
              "      <td>MNB with class priors</td>\n",
              "      <td>Count</td>\n",
              "      <td>0.537</td>\n",
              "      <td>0.735</td>\n",
              "      <td>0.621</td>\n",
              "    </tr>\n",
              "    <tr>\n",
              "      <th>1</th>\n",
              "      <td>MNB with class priors</td>\n",
              "      <td>TfIdf</td>\n",
              "      <td>0.239</td>\n",
              "      <td>0.889</td>\n",
              "      <td>0.376</td>\n",
              "    </tr>\n",
              "    <tr>\n",
              "      <th>2</th>\n",
              "      <td>MNB with boost train set</td>\n",
              "      <td>Count</td>\n",
              "      <td>0.791</td>\n",
              "      <td>0.662</td>\n",
              "      <td>0.721</td>\n",
              "    </tr>\n",
              "    <tr>\n",
              "      <th>3</th>\n",
              "      <td>MNB with boost train set</td>\n",
              "      <td>TfIdf</td>\n",
              "      <td>0.791</td>\n",
              "      <td>0.646</td>\n",
              "      <td>0.711</td>\n",
              "    </tr>\n",
              "    <tr>\n",
              "      <th>4</th>\n",
              "      <td>Logistic Regression</td>\n",
              "      <td>Count</td>\n",
              "      <td>0.672</td>\n",
              "      <td>0.643</td>\n",
              "      <td>0.657</td>\n",
              "    </tr>\n",
              "    <tr>\n",
              "      <th>5</th>\n",
              "      <td>Logistic Regression</td>\n",
              "      <td>TfIdf</td>\n",
              "      <td>0.731</td>\n",
              "      <td>0.636</td>\n",
              "      <td>0.681</td>\n",
              "    </tr>\n",
              "  </tbody>\n",
              "</table>\n",
              "</div>"
            ],
            "text/plain": [
              "          Model Description Vector Type  Recall  Precision  fbeta\n",
              "0     MNB with class priors       Count   0.537      0.735  0.621\n",
              "1     MNB with class priors       TfIdf   0.239      0.889  0.376\n",
              "2  MNB with boost train set       Count   0.791      0.662  0.721\n",
              "3  MNB with boost train set       TfIdf   0.791      0.646  0.711\n",
              "4       Logistic Regression       Count   0.672      0.643  0.657\n",
              "5       Logistic Regression       TfIdf   0.731      0.636  0.681"
            ]
          },
          "metadata": {
            "tags": []
          },
          "execution_count": 151
        }
      ]
    },
    {
      "cell_type": "markdown",
      "metadata": {
        "id": "UDMb_e_vAnE6"
      },
      "source": [
        "### *Comments on LR*\r\n",
        "For this dataset, the MNB approach yielded better results. The highest Recall of purchase cases with Logistic Regression was 71.6% using TfIdf vectors, lower than the 79.1% achieved with MNB using either Count or TfIdf vectors. "
      ]
    },
    {
      "cell_type": "markdown",
      "metadata": {
        "id": "ElV6Zx54eqel"
      },
      "source": [
        "## 2.3 Support Vector Machine\r\n",
        "*See documentation on [SVM for classification](https://scikit-learn.org/stable/modules/svm.html#classification), and the [SVC](https://scikit-learn.org/stable/modules/generated/sklearn.svm.SVC.html#sklearn.svm.SVC) algorithm in particular.* \r\n",
        "\r\n",
        "*Hyperparameter tuning is done using [GridSearchCV](https://scikit-learn.org/stable/modules/generated/sklearn.model_selection.GridSearchCV.html?highlight=gridsearchcv#sklearn.model_selection.GridSearchCV) to try out different kernels, polynomial degrees (for non-linear fit), .* "
      ]
    },
    {
      "cell_type": "code",
      "metadata": {
        "id": "d9Kqmq-tDPqD"
      },
      "source": [
        "# APPROACH 4: Support Vector Machine, with hyperparameter tuning as first step\r\n",
        "\r\n",
        "# Instantiate model, define hyperparameters\r\n",
        "svm = SVC(tol = 0.001, max_iter=-1)\r\n",
        "cvalues = [1.0, 10.0, 100.0]\r\n",
        "kernels = ['linear', 'poly', 'rbf', 'sigmoid']\r\n",
        "degrees = [2, 3]    # relevant for 'poly' only; ignored by other kernels\r\n",
        "\r\n",
        "# Define grid search\r\n",
        "grid_svm = dict(C=cvalues, kernel=kernels, degree=degrees)\r\n",
        "grid_svm_search = GridSearchCV(estimator=svm, param_grid=grid_svm, \r\n",
        "                                scoring= 'recall', error_score=0, verbose=1)"
      ],
      "execution_count": 152,
      "outputs": []
    },
    {
      "cell_type": "code",
      "metadata": {
        "colab": {
          "base_uri": "https://localhost:8080/"
        },
        "id": "Y5mAOmd6iwOf",
        "outputId": "a099bd2a-1ea6-4ba2-9ae9-c90149d6efc3"
      },
      "source": [
        "# APPROACH 4A : SVM, fit using Count vectors\r\n",
        "\r\n",
        "# Fit model with grid search\r\n",
        "grid_svm_ctv = grid_svm_search.fit(train_boost_ctv, y_train_boost)\r\n",
        "\r\n",
        "# Show best result\r\n",
        "print(f\"Best Recall: {grid_svm_ctv.best_score_} using {grid_svm_ctv.best_params_}\")"
      ],
      "execution_count": 153,
      "outputs": [
        {
          "output_type": "stream",
          "text": [
            "Fitting 5 folds for each of 24 candidates, totalling 120 fits\n"
          ],
          "name": "stdout"
        },
        {
          "output_type": "stream",
          "text": [
            "[Parallel(n_jobs=1)]: Using backend SequentialBackend with 1 concurrent workers.\n",
            "[Parallel(n_jobs=1)]: Done 120 out of 120 | elapsed:   12.1s finished\n"
          ],
          "name": "stderr"
        },
        {
          "output_type": "stream",
          "text": [
            "Best Recall: 0.9289741451209341 using {'C': 100.0, 'degree': 2, 'kernel': 'linear'}\n"
          ],
          "name": "stdout"
        }
      ]
    },
    {
      "cell_type": "code",
      "metadata": {
        "colab": {
          "base_uri": "https://localhost:8080/",
          "height": 506
        },
        "id": "77p0J5KqRHC7",
        "outputId": "4400a599-5328-43f5-9a9d-5b6718a430b8"
      },
      "source": [
        "# Evaluate the model with best parameters\r\n",
        "best_svm_ctv = SVC(tol = 0.001, max_iter=-1, C=100.0, kernel='linear')\r\n",
        "\r\n",
        "# Fit and predict with Count vectors \r\n",
        "best_svm_ctv.fit(train_boost_ctv, y_train_boost)\r\n",
        "svm_ctv_pred = best_svm_ctv.predict(test_ctv)\r\n",
        "\r\n",
        "# Show results with test set\r\n",
        "results(y_test, svm_ctv_pred)\r\n",
        "\r\n",
        "# Update model summary\r\n",
        "print(\"\")\r\n",
        "update_summary(y_test, svm_ctv_pred, 'Count', 'Support Vector Machine')"
      ],
      "execution_count": 154,
      "outputs": [
        {
          "output_type": "execute_result",
          "data": {
            "text/plain": [
              "SVC(C=100.0, break_ties=False, cache_size=200, class_weight=None, coef0=0.0,\n",
              "    decision_function_shape='ovr', degree=3, gamma='scale', kernel='linear',\n",
              "    max_iter=-1, probability=False, random_state=None, shrinking=True,\n",
              "    tol=0.001, verbose=False)"
            ]
          },
          "metadata": {
            "tags": []
          },
          "execution_count": 154
        },
        {
          "output_type": "stream",
          "text": [
            "\n",
            "\n",
            "Totals [NoPurchase Purchase]: [132  67] \n",
            "Confusion Matrix:\n",
            " [[107  25]\n",
            " [ 18  49]]\n",
            "\n",
            "Recall:\t\t [0.81060606 0.73134328] \n",
            "Precision:\t [0.856      0.66216216] \n",
            "fbeta:\t\t [0.83268482 0.69503546]\n",
            "\n"
          ],
          "name": "stdout"
        },
        {
          "output_type": "execute_result",
          "data": {
            "text/html": [
              "<div>\n",
              "<style scoped>\n",
              "    .dataframe tbody tr th:only-of-type {\n",
              "        vertical-align: middle;\n",
              "    }\n",
              "\n",
              "    .dataframe tbody tr th {\n",
              "        vertical-align: top;\n",
              "    }\n",
              "\n",
              "    .dataframe thead th {\n",
              "        text-align: right;\n",
              "    }\n",
              "</style>\n",
              "<table border=\"1\" class=\"dataframe\">\n",
              "  <thead>\n",
              "    <tr style=\"text-align: right;\">\n",
              "      <th></th>\n",
              "      <th>Model Description</th>\n",
              "      <th>Vector Type</th>\n",
              "      <th>Recall</th>\n",
              "      <th>Precision</th>\n",
              "      <th>fbeta</th>\n",
              "    </tr>\n",
              "  </thead>\n",
              "  <tbody>\n",
              "    <tr>\n",
              "      <th>0</th>\n",
              "      <td>MNB with class priors</td>\n",
              "      <td>Count</td>\n",
              "      <td>0.537</td>\n",
              "      <td>0.735</td>\n",
              "      <td>0.621</td>\n",
              "    </tr>\n",
              "    <tr>\n",
              "      <th>1</th>\n",
              "      <td>MNB with class priors</td>\n",
              "      <td>TfIdf</td>\n",
              "      <td>0.239</td>\n",
              "      <td>0.889</td>\n",
              "      <td>0.376</td>\n",
              "    </tr>\n",
              "    <tr>\n",
              "      <th>2</th>\n",
              "      <td>MNB with boost train set</td>\n",
              "      <td>Count</td>\n",
              "      <td>0.791</td>\n",
              "      <td>0.662</td>\n",
              "      <td>0.721</td>\n",
              "    </tr>\n",
              "    <tr>\n",
              "      <th>3</th>\n",
              "      <td>MNB with boost train set</td>\n",
              "      <td>TfIdf</td>\n",
              "      <td>0.791</td>\n",
              "      <td>0.646</td>\n",
              "      <td>0.711</td>\n",
              "    </tr>\n",
              "    <tr>\n",
              "      <th>4</th>\n",
              "      <td>Logistic Regression</td>\n",
              "      <td>Count</td>\n",
              "      <td>0.672</td>\n",
              "      <td>0.643</td>\n",
              "      <td>0.657</td>\n",
              "    </tr>\n",
              "    <tr>\n",
              "      <th>5</th>\n",
              "      <td>Logistic Regression</td>\n",
              "      <td>TfIdf</td>\n",
              "      <td>0.731</td>\n",
              "      <td>0.636</td>\n",
              "      <td>0.681</td>\n",
              "    </tr>\n",
              "    <tr>\n",
              "      <th>6</th>\n",
              "      <td>Support Vector Machine</td>\n",
              "      <td>Count</td>\n",
              "      <td>0.731</td>\n",
              "      <td>0.662</td>\n",
              "      <td>0.695</td>\n",
              "    </tr>\n",
              "  </tbody>\n",
              "</table>\n",
              "</div>"
            ],
            "text/plain": [
              "          Model Description Vector Type  Recall  Precision  fbeta\n",
              "0     MNB with class priors       Count   0.537      0.735  0.621\n",
              "1     MNB with class priors       TfIdf   0.239      0.889  0.376\n",
              "2  MNB with boost train set       Count   0.791      0.662  0.721\n",
              "3  MNB with boost train set       TfIdf   0.791      0.646  0.711\n",
              "4       Logistic Regression       Count   0.672      0.643  0.657\n",
              "5       Logistic Regression       TfIdf   0.731      0.636  0.681\n",
              "6    Support Vector Machine       Count   0.731      0.662  0.695"
            ]
          },
          "metadata": {
            "tags": []
          },
          "execution_count": 154
        }
      ]
    },
    {
      "cell_type": "code",
      "metadata": {
        "colab": {
          "base_uri": "https://localhost:8080/"
        },
        "id": "Rrm1ZalXpSYD",
        "outputId": "3a37cdc3-f438-4957-efe9-e844d152b603"
      },
      "source": [
        "# APPROACH 4B : SVM, fit using TfIdf vectors\r\n",
        "\r\n",
        "# Fit model with grid search\r\n",
        "grid_svm_tfv = grid_svm_search.fit(train_boost_tfv, y_train_boost)\r\n",
        "\r\n",
        "# Show best result\r\n",
        "print(f\"Best Recall: {grid_svm_tfv.best_score_} using {grid_svm_tfv.best_params_}\")"
      ],
      "execution_count": 155,
      "outputs": [
        {
          "output_type": "stream",
          "text": [
            "Fitting 5 folds for each of 24 candidates, totalling 120 fits\n"
          ],
          "name": "stdout"
        },
        {
          "output_type": "stream",
          "text": [
            "[Parallel(n_jobs=1)]: Using backend SequentialBackend with 1 concurrent workers.\n"
          ],
          "name": "stderr"
        },
        {
          "output_type": "stream",
          "text": [
            "Best Recall: 0.9253878231859884 using {'C': 100.0, 'degree': 2, 'kernel': 'linear'}\n"
          ],
          "name": "stdout"
        },
        {
          "output_type": "stream",
          "text": [
            "[Parallel(n_jobs=1)]: Done 120 out of 120 | elapsed:   11.5s finished\n"
          ],
          "name": "stderr"
        }
      ]
    },
    {
      "cell_type": "code",
      "metadata": {
        "colab": {
          "base_uri": "https://localhost:8080/",
          "height": 536
        },
        "id": "KLcjtU0YVDLi",
        "outputId": "a32bb72a-30de-486a-a78d-405e449d0050"
      },
      "source": [
        "# Evaluate the model with best parameters\r\n",
        "best_svm_tfv = SVC(tol = 0.001, max_iter=-1, C=100.0, kernel='linear')\r\n",
        "\r\n",
        "# Fit and predict with TfIdf vectors \r\n",
        "best_svm_tfv.fit(train_boost_tfv, y_train_boost)\r\n",
        "svm_tfv_pred = best_svm_tfv.predict(test_tfv)\r\n",
        "\r\n",
        "# Show results with test set\r\n",
        "results(y_test, svm_tfv_pred)\r\n",
        "\r\n",
        "# Update model summary\r\n",
        "print(\"\")\r\n",
        "update_summary(y_test, svm_tfv_pred, 'TfIdf', 'Support Vector Machine')"
      ],
      "execution_count": 156,
      "outputs": [
        {
          "output_type": "execute_result",
          "data": {
            "text/plain": [
              "SVC(C=100.0, break_ties=False, cache_size=200, class_weight=None, coef0=0.0,\n",
              "    decision_function_shape='ovr', degree=3, gamma='scale', kernel='linear',\n",
              "    max_iter=-1, probability=False, random_state=None, shrinking=True,\n",
              "    tol=0.001, verbose=False)"
            ]
          },
          "metadata": {
            "tags": []
          },
          "execution_count": 156
        },
        {
          "output_type": "stream",
          "text": [
            "\n",
            "\n",
            "Totals [NoPurchase Purchase]: [132  67] \n",
            "Confusion Matrix:\n",
            " [[114  18]\n",
            " [ 23  44]]\n",
            "\n",
            "Recall:\t\t [0.86363636 0.65671642] \n",
            "Precision:\t [0.83211679 0.70967742] \n",
            "fbeta:\t\t [0.84758364 0.68217054]\n",
            "\n"
          ],
          "name": "stdout"
        },
        {
          "output_type": "execute_result",
          "data": {
            "text/html": [
              "<div>\n",
              "<style scoped>\n",
              "    .dataframe tbody tr th:only-of-type {\n",
              "        vertical-align: middle;\n",
              "    }\n",
              "\n",
              "    .dataframe tbody tr th {\n",
              "        vertical-align: top;\n",
              "    }\n",
              "\n",
              "    .dataframe thead th {\n",
              "        text-align: right;\n",
              "    }\n",
              "</style>\n",
              "<table border=\"1\" class=\"dataframe\">\n",
              "  <thead>\n",
              "    <tr style=\"text-align: right;\">\n",
              "      <th></th>\n",
              "      <th>Model Description</th>\n",
              "      <th>Vector Type</th>\n",
              "      <th>Recall</th>\n",
              "      <th>Precision</th>\n",
              "      <th>fbeta</th>\n",
              "    </tr>\n",
              "  </thead>\n",
              "  <tbody>\n",
              "    <tr>\n",
              "      <th>0</th>\n",
              "      <td>MNB with class priors</td>\n",
              "      <td>Count</td>\n",
              "      <td>0.537</td>\n",
              "      <td>0.735</td>\n",
              "      <td>0.621</td>\n",
              "    </tr>\n",
              "    <tr>\n",
              "      <th>1</th>\n",
              "      <td>MNB with class priors</td>\n",
              "      <td>TfIdf</td>\n",
              "      <td>0.239</td>\n",
              "      <td>0.889</td>\n",
              "      <td>0.376</td>\n",
              "    </tr>\n",
              "    <tr>\n",
              "      <th>2</th>\n",
              "      <td>MNB with boost train set</td>\n",
              "      <td>Count</td>\n",
              "      <td>0.791</td>\n",
              "      <td>0.662</td>\n",
              "      <td>0.721</td>\n",
              "    </tr>\n",
              "    <tr>\n",
              "      <th>3</th>\n",
              "      <td>MNB with boost train set</td>\n",
              "      <td>TfIdf</td>\n",
              "      <td>0.791</td>\n",
              "      <td>0.646</td>\n",
              "      <td>0.711</td>\n",
              "    </tr>\n",
              "    <tr>\n",
              "      <th>4</th>\n",
              "      <td>Logistic Regression</td>\n",
              "      <td>Count</td>\n",
              "      <td>0.672</td>\n",
              "      <td>0.643</td>\n",
              "      <td>0.657</td>\n",
              "    </tr>\n",
              "    <tr>\n",
              "      <th>5</th>\n",
              "      <td>Logistic Regression</td>\n",
              "      <td>TfIdf</td>\n",
              "      <td>0.731</td>\n",
              "      <td>0.636</td>\n",
              "      <td>0.681</td>\n",
              "    </tr>\n",
              "    <tr>\n",
              "      <th>6</th>\n",
              "      <td>Support Vector Machine</td>\n",
              "      <td>Count</td>\n",
              "      <td>0.731</td>\n",
              "      <td>0.662</td>\n",
              "      <td>0.695</td>\n",
              "    </tr>\n",
              "    <tr>\n",
              "      <th>7</th>\n",
              "      <td>Support Vector Machine</td>\n",
              "      <td>TfIdf</td>\n",
              "      <td>0.657</td>\n",
              "      <td>0.710</td>\n",
              "      <td>0.682</td>\n",
              "    </tr>\n",
              "  </tbody>\n",
              "</table>\n",
              "</div>"
            ],
            "text/plain": [
              "          Model Description Vector Type  Recall  Precision  fbeta\n",
              "0     MNB with class priors       Count   0.537      0.735  0.621\n",
              "1     MNB with class priors       TfIdf   0.239      0.889  0.376\n",
              "2  MNB with boost train set       Count   0.791      0.662  0.721\n",
              "3  MNB with boost train set       TfIdf   0.791      0.646  0.711\n",
              "4       Logistic Regression       Count   0.672      0.643  0.657\n",
              "5       Logistic Regression       TfIdf   0.731      0.636  0.681\n",
              "6    Support Vector Machine       Count   0.731      0.662  0.695\n",
              "7    Support Vector Machine       TfIdf   0.657      0.710  0.682"
            ]
          },
          "metadata": {
            "tags": []
          },
          "execution_count": 156
        }
      ]
    },
    {
      "cell_type": "markdown",
      "metadata": {
        "id": "gkat3D2vBY65"
      },
      "source": [
        "### *Comments on SVM*\r\n",
        "For this dataset, the MNB approach also yielded better results than SVM. The highest Recall of purchase cases with SVM was 73.1% using Count vectors, lower than the 79.1% achieved with MNB using either Count or TfIdf vectors. "
      ]
    },
    {
      "cell_type": "markdown",
      "metadata": {
        "id": "5oG7pyAMx9O_"
      },
      "source": [
        "#3 Pipeline \r\n",
        "*Create a simple pipeline:*\r\n",
        "* *Vectorize with custom tokenizer and bag of words / count method*\r\n",
        "* *Classify (predict purchase/ non purchase) with the best model i.e. Multinomial Naive Bayes* "
      ]
    },
    {
      "cell_type": "code",
      "metadata": {
        "id": "akBXIrjoErb_",
        "colab": {
          "base_uri": "https://localhost:8080/"
        },
        "outputId": "6530efec-4385-4ad1-dabf-05475c10c016"
      },
      "source": [
        "# Create pipeline with Count vectorizer (including a custom tokenizer) and MNB classifier \r\n",
        "from sklearn.pipeline import Pipeline\r\n",
        "my_pipe = Pipeline([('vectorizer', ctv),('classifier', mnb)], verbose=True)\r\n",
        "\r\n",
        "# Train the model in the pipeline\r\n",
        "my_pipe.fit(X_train_boost, y_train_boost)"
      ],
      "execution_count": 29,
      "outputs": [
        {
          "output_type": "stream",
          "text": [
            "[Pipeline] ........ (step 1 of 2) Processing vectorizer, total=  10.1s\n",
            "[Pipeline] ........ (step 2 of 2) Processing classifier, total=   0.0s\n"
          ],
          "name": "stdout"
        },
        {
          "output_type": "execute_result",
          "data": {
            "text/plain": [
              "Pipeline(memory=None,\n",
              "         steps=[('vectorizer',\n",
              "                 CountVectorizer(analyzer='word', binary=False,\n",
              "                                 decode_error='strict',\n",
              "                                 dtype=<class 'numpy.int64'>, encoding='utf-8',\n",
              "                                 input='content', lowercase=True, max_df=1.0,\n",
              "                                 max_features=None, min_df=1,\n",
              "                                 ngram_range=(1, 1), preprocessor=None,\n",
              "                                 stop_words=None, strip_accents=None,\n",
              "                                 token_pattern='(?u)\\\\b\\\\w\\\\w+\\\\b',\n",
              "                                 tokenizer=<function my_tokenizer at 0x7f6cedb8c510>,\n",
              "                                 vocabulary=None)),\n",
              "                ('classifier',\n",
              "                 MultinomialNB(alpha=1.0, class_prior=None, fit_prior=True))],\n",
              "         verbose=True)"
            ]
          },
          "metadata": {
            "tags": []
          },
          "execution_count": 29
        }
      ]
    },
    {
      "cell_type": "markdown",
      "metadata": {
        "id": "8JQOIMI6n9NH"
      },
      "source": [
        "#4 Visualizing Classification"
      ]
    },
    {
      "cell_type": "code",
      "metadata": {
        "colab": {
          "base_uri": "https://localhost:8080/"
        },
        "id": "xglQZuoAogN7",
        "outputId": "76ea181b-8dd6-4597-ca64-528e952cad0b"
      },
      "source": [
        "# Use our pipeline to predict purchase (yes/no)\r\n",
        "to_model['prediction'] = to_model.apply(lambda row: bool(my_pipe.predict([row['reviews']])), axis=1)"
      ],
      "execution_count": 30,
      "outputs": [
        {
          "output_type": "stream",
          "text": [
            "/usr/local/lib/python3.6/dist-packages/ipykernel_launcher.py:2: SettingWithCopyWarning: \n",
            "A value is trying to be set on a copy of a slice from a DataFrame.\n",
            "Try using .loc[row_indexer,col_indexer] = value instead\n",
            "\n",
            "See the caveats in the documentation: https://pandas.pydata.org/pandas-docs/stable/user_guide/indexing.html#returning-a-view-versus-a-copy\n",
            "  \n"
          ],
          "name": "stderr"
        }
      ]
    },
    {
      "cell_type": "code",
      "metadata": {
        "colab": {
          "base_uri": "https://localhost:8080/"
        },
        "id": "yylD_NRmtWHQ",
        "outputId": "20de0ee6-5f76-48fd-cd1b-b65e3585d139"
      },
      "source": [
        "# Use our pipeline to predict purchase probabilities\r\n",
        "to_model['pur_prob'] = to_model.apply(lambda row: my_pipe.predict_proba([row['reviews']])[0][1], axis=1)"
      ],
      "execution_count": 42,
      "outputs": [
        {
          "output_type": "stream",
          "text": [
            "/usr/local/lib/python3.6/dist-packages/ipykernel_launcher.py:2: SettingWithCopyWarning: \n",
            "A value is trying to be set on a copy of a slice from a DataFrame.\n",
            "Try using .loc[row_indexer,col_indexer] = value instead\n",
            "\n",
            "See the caveats in the documentation: https://pandas.pydata.org/pandas-docs/stable/user_guide/indexing.html#returning-a-view-versus-a-copy\n",
            "  \n"
          ],
          "name": "stderr"
        }
      ]
    },
    {
      "cell_type": "code",
      "metadata": {
        "colab": {
          "base_uri": "https://localhost:8080/",
          "height": 347
        },
        "id": "JCl_uRsNzMBk",
        "outputId": "9d80cf42-f4f5-46f0-fa5e-f27efc93284f"
      },
      "source": [
        "to_model[to_model.purchased == True].head(10)"
      ],
      "execution_count": 43,
      "outputs": [
        {
          "output_type": "execute_result",
          "data": {
            "text/html": [
              "<div>\n",
              "<style scoped>\n",
              "    .dataframe tbody tr th:only-of-type {\n",
              "        vertical-align: middle;\n",
              "    }\n",
              "\n",
              "    .dataframe tbody tr th {\n",
              "        vertical-align: top;\n",
              "    }\n",
              "\n",
              "    .dataframe thead th {\n",
              "        text-align: right;\n",
              "    }\n",
              "</style>\n",
              "<table border=\"1\" class=\"dataframe\">\n",
              "  <thead>\n",
              "    <tr style=\"text-align: right;\">\n",
              "      <th></th>\n",
              "      <th>reviews</th>\n",
              "      <th>purchased</th>\n",
              "      <th>prediction</th>\n",
              "      <th>pur_prob</th>\n",
              "    </tr>\n",
              "  </thead>\n",
              "  <tbody>\n",
              "    <tr>\n",
              "      <th>90</th>\n",
              "      <td>Best price : This is our favorite mixed drink ...</td>\n",
              "      <td>True</td>\n",
              "      <td>True</td>\n",
              "      <td>0.693962</td>\n",
              "    </tr>\n",
              "    <tr>\n",
              "      <th>91</th>\n",
              "      <td>Great product : Best whiskey around and a pric...</td>\n",
              "      <td>True</td>\n",
              "      <td>True</td>\n",
              "      <td>0.599346</td>\n",
              "    </tr>\n",
              "    <tr>\n",
              "      <th>95</th>\n",
              "      <td>Love : I always buy this item at Walmart cause...</td>\n",
              "      <td>True</td>\n",
              "      <td>True</td>\n",
              "      <td>0.646494</td>\n",
              "    </tr>\n",
              "    <tr>\n",
              "      <th>116</th>\n",
              "      <td>seagrams escapes : love all of the flavors. wi...</td>\n",
              "      <td>True</td>\n",
              "      <td>True</td>\n",
              "      <td>0.950155</td>\n",
              "    </tr>\n",
              "    <tr>\n",
              "      <th>117</th>\n",
              "      <td>Variety Value : I bought this pack on a whim a...</td>\n",
              "      <td>True</td>\n",
              "      <td>False</td>\n",
              "      <td>0.366058</td>\n",
              "    </tr>\n",
              "    <tr>\n",
              "      <th>118</th>\n",
              "      <td>Line : Vrty good</td>\n",
              "      <td>True</td>\n",
              "      <td>True</td>\n",
              "      <td>0.935072</td>\n",
              "    </tr>\n",
              "    <tr>\n",
              "      <th>119</th>\n",
              "      <td>Enjoy there flavors : Jamaican me happy</td>\n",
              "      <td>True</td>\n",
              "      <td>True</td>\n",
              "      <td>0.927111</td>\n",
              "    </tr>\n",
              "    <tr>\n",
              "      <th>148</th>\n",
              "      <td>Best beer out of Colorado : Battle ground walm...</td>\n",
              "      <td>True</td>\n",
              "      <td>True</td>\n",
              "      <td>0.971845</td>\n",
              "    </tr>\n",
              "    <tr>\n",
              "      <th>173</th>\n",
              "      <td>Fresh and cheap : It was very fresh and cheape...</td>\n",
              "      <td>True</td>\n",
              "      <td>True</td>\n",
              "      <td>0.856199</td>\n",
              "    </tr>\n",
              "    <tr>\n",
              "      <th>174</th>\n",
              "      <td>Great beer! : I bought this, best price and gr...</td>\n",
              "      <td>True</td>\n",
              "      <td>True</td>\n",
              "      <td>0.993260</td>\n",
              "    </tr>\n",
              "  </tbody>\n",
              "</table>\n",
              "</div>"
            ],
            "text/plain": [
              "                                               reviews  ...  pur_prob\n",
              "90   Best price : This is our favorite mixed drink ...  ...  0.693962\n",
              "91   Great product : Best whiskey around and a pric...  ...  0.599346\n",
              "95   Love : I always buy this item at Walmart cause...  ...  0.646494\n",
              "116  seagrams escapes : love all of the flavors. wi...  ...  0.950155\n",
              "117  Variety Value : I bought this pack on a whim a...  ...  0.366058\n",
              "118                                   Line : Vrty good  ...  0.935072\n",
              "119            Enjoy there flavors : Jamaican me happy  ...  0.927111\n",
              "148  Best beer out of Colorado : Battle ground walm...  ...  0.971845\n",
              "173  Fresh and cheap : It was very fresh and cheape...  ...  0.856199\n",
              "174  Great beer! : I bought this, best price and gr...  ...  0.993260\n",
              "\n",
              "[10 rows x 4 columns]"
            ]
          },
          "metadata": {
            "tags": []
          },
          "execution_count": 43
        }
      ]
    },
    {
      "cell_type": "code",
      "metadata": {
        "colab": {
          "base_uri": "https://localhost:8080/",
          "height": 286
        },
        "id": "hZLS6BNV0blV",
        "outputId": "95a97644-5059-4886-c839-c40d26b1e30a"
      },
      "source": [
        "# Create a confusion matrix of recorded purchase vs. predicted\r\n",
        "# Note : this CM represents all modeled data, including both train and test sets\r\n",
        "cf_matrix = metrics.confusion_matrix(to_model.purchased.astype(int), to_model.prediction.astype(int), normalize = 'true')\r\n",
        "\r\n",
        "# Visualize the matrix\r\n",
        "sns.heatmap(cf_matrix, annot=True, fmt='.1%', cmap = 'binary', vmin = 0, vmax = 1)"
      ],
      "execution_count": 90,
      "outputs": [
        {
          "output_type": "execute_result",
          "data": {
            "text/plain": [
              "<matplotlib.axes._subplots.AxesSubplot at 0x7fa4d2432470>"
            ]
          },
          "metadata": {
            "tags": []
          },
          "execution_count": 90
        },
        {
          "output_type": "display_data",
          "data": {
            "image/png": "[encoded data removed]",
            "text/plain": [
              "<Figure size 432x288 with 2 Axes>"
            ]
          },
          "metadata": {
            "tags": []
          }
        }
      ]
    },
    {
      "cell_type": "code",
      "metadata": {
        "colab": {
          "base_uri": "https://localhost:8080/",
          "height": 297
        },
        "id": "BkxK3g_tsjrr",
        "outputId": "5c8be696-3cd8-4741-9b96-bfb17698d167"
      },
      "source": [
        "# Distribution of probabilities\r\n",
        "sns.histplot(to_model.pur_prob)"
      ],
      "execution_count": 48,
      "outputs": [
        {
          "output_type": "execute_result",
          "data": {
            "text/plain": [
              "<matplotlib.axes._subplots.AxesSubplot at 0x7f6ce40978d0>"
            ]
          },
          "metadata": {
            "tags": []
          },
          "execution_count": 48
        },
        {
          "output_type": "display_data",
          "data": {
            "image/png": "[encoded data removed]",
            "text/plain": [
              "<Figure size 432x288 with 1 Axes>"
            ]
          },
          "metadata": {
            "tags": []
          }
        }
      ]
    },
    {
      "cell_type": "markdown",
      "metadata": {
        "id": "jpyY2s935mqf"
      },
      "source": [
        "# 5 Try Your Product Pitch"
      ]
    },
    {
      "cell_type": "code",
      "metadata": {
        "id": "_vejyUIhrj4F"
      },
      "source": [
        "# Will people buy your product? \r\n",
        "\r\n",
        "def buy_or_not():\r\n",
        "  '''Function to see if someone may buy your product based on your pitch'''\r\n",
        "  \r\n",
        "  your_pitch = [input('If you were to sell your product to someone, how would you describe it?: ')]\r\n",
        "\r\n",
        "  pur_prob = my_pipe.predict_proba(your_pitch)[0][1]\r\n",
        "\r\n",
        "  if pur_prob > 0.6:\r\n",
        "    print(\"\\n**\", \"Congrats, I probably will buy it!\")\r\n",
        "  elif pur_prob > 0.4:\r\n",
        "    print(\"\\n**\", \"I may or may not buy it\")\r\n",
        "  else:\r\n",
        "    print(\"\\n**\", \"Sorry, I probably won't buy it\")"
      ],
      "execution_count": 75,
      "outputs": []
    },
    {
      "cell_type": "code",
      "metadata": {
        "colab": {
          "base_uri": "https://localhost:8080/"
        },
        "id": "F1vyFwbxxhA0",
        "outputId": "40bbbe84-ccf4-4546-8e34-4dcf4860056c"
      },
      "source": [
        "# Good pitch\r\n",
        "buy_or_not()"
      ],
      "execution_count": 76,
      "outputs": [
        {
          "output_type": "stream",
          "text": [
            "If you were to sell your product to someone, how would you describe it?: Tastes great\n",
            "\n",
            "** Congrats, I probably will buy it!\n"
          ],
          "name": "stdout"
        }
      ]
    },
    {
      "cell_type": "code",
      "metadata": {
        "colab": {
          "base_uri": "https://localhost:8080/"
        },
        "id": "1hF6ineCyVg-",
        "outputId": "e63765a9-9358-44cf-805a-883db51efb78"
      },
      "source": [
        "# Not so good pitch\r\n",
        "buy_or_not()"
      ],
      "execution_count": 81,
      "outputs": [
        {
          "output_type": "stream",
          "text": [
            "If you were to sell your product to someone, how would you describe it?: We know not everyone loves it\n",
            "\n",
            "** I may or may not buy it\n"
          ],
          "name": "stdout"
        }
      ]
    },
    {
      "cell_type": "markdown",
      "metadata": {
        "id": "8d3XBXXug9w4"
      },
      "source": [
        "# Appendix : Detours\r\n",
        "*Some experiments that failed or not followed up when working on this project -- would be glad to receive ideas or feedback on whether these could have improved the modeling process or result*"
      ]
    },
    {
      "cell_type": "markdown",
      "metadata": {
        "id": "K5Jtgx9wCkNE"
      },
      "source": [
        "## Check words\r\n",
        "*Trying to see what types of words are mostly used in reviews, and see if they might be useful to predict purchase*"
      ]
    },
    {
      "cell_type": "code",
      "metadata": {
        "id": "aSLykVidhty-"
      },
      "source": [
        "# Import stop words and punctuations\r\n",
        "from spacy.lang.en.stop_words import STOP_WORDS\r\n",
        "import string\r\n",
        "punctuations = string.punctuation"
      ],
      "execution_count": null,
      "outputs": []
    },
    {
      "cell_type": "code",
      "metadata": {
        "id": "83454Z5ONPbF"
      },
      "source": [
        "from collections import Counter\r\n",
        "\r\n",
        "adj_counter = Counter()\r\n",
        "for token in reviews_doc:\r\n",
        "    if token.pos_ == 'ADJ' and (token.lemma_ not in STOP_WORDS):\r\n",
        "        adj_counter[token.lower_] += 1\r\n",
        "\r\n",
        "adv_counter = Counter()\r\n",
        "for token in reviews_doc:\r\n",
        "    if token.pos_ == 'ADV' and (token.lemma_ not in STOP_WORDS):\r\n",
        "        adv_counter[token.lower_] += 1\r\n",
        "\r\n",
        "noun_counter = Counter()\r\n",
        "for token in reviews_doc:\r\n",
        "    if token.pos_ == 'NOUN' and (token.lemma_ not in STOP_WORDS):\r\n",
        "        noun_counter[token.lower_] += 1\r\n",
        "\r\n",
        "verb_counter = Counter()\r\n",
        "for token in reviews_doc:\r\n",
        "    if token.pos_ == 'VERB' and (token.lemma_ not in STOP_WORDS):\r\n",
        "        verb_counter[token.lower_] += 1\r\n",
        "\r\n",
        "intj_counter = Counter()\r\n",
        "for token in reviews_doc:\r\n",
        "    if token.pos_ == 'INTJ' and (token.lemma_ not in STOP_WORDS):\r\n",
        "        intj_counter[token.lower_] += 1"
      ],
      "execution_count": null,
      "outputs": []
    },
    {
      "cell_type": "code",
      "metadata": {
        "id": "BKpooSfx6Hmd"
      },
      "source": [
        "adj, adj_count = zip(*adj_counter.most_common(10))\r\n",
        "adv, adv_count = zip(*adv_counter.most_common(10))\r\n",
        "noun, noun_count = zip(*noun_counter.most_common(10))\r\n",
        "verb, verb_count = zip(*verb_counter.most_common(10))\r\n",
        "intj, intj_count = zip(*intj_counter.most_common(10))"
      ],
      "execution_count": null,
      "outputs": []
    },
    {
      "cell_type": "code",
      "metadata": {
        "id": "y5Ha0o7v2eov"
      },
      "source": [
        "import matplotlib.pyplot as plt\r\n",
        "%matplotlib inline"
      ],
      "execution_count": null,
      "outputs": []
    },
    {
      "cell_type": "code",
      "metadata": {
        "colab": {
          "base_uri": "https://localhost:8080/",
          "height": 424
        },
        "id": "_vXm8uqr6SGW",
        "outputId": "f4002fac-483c-47e8-e9af-c336b237d447"
      },
      "source": [
        "fig, axes = plt.subplots(1,5, figsize=(20,5))\r\n",
        "\r\n",
        "plt.subplot(161)\r\n",
        "plt.title('ADJECTIVES')\r\n",
        "plt.barh(width=adj_count, y=adj, color= 'red')\r\n",
        "\r\n",
        "plt.subplot(162)\r\n",
        "plt.title('ADVERBS')\r\n",
        "plt.barh(width=adv_count, y=adv, color= 'orange')\r\n",
        "\r\n",
        "plt.subplot(163)\r\n",
        "plt.title('NOUNS')\r\n",
        "plt.barh(width=noun_count, y=noun, color= 'green')\r\n",
        "\r\n",
        "plt.subplot(164)\r\n",
        "plt.title('VERBS')\r\n",
        "plt.barh(width=verb_count, y=verb, color= 'blue')\r\n",
        "\r\n",
        "plt.subplot(165)\r\n",
        "plt.title('INTERJECTIONS')\r\n",
        "plt.barh(width=intj_count, y=intj, color= 'purple')"
      ],
      "execution_count": null,
      "outputs": [
        {
          "output_type": "execute_result",
          "data": {
            "text/plain": [
              "<matplotlib.axes._subplots.AxesSubplot at 0x7f299671de48>"
            ]
          },
          "metadata": {
            "tags": []
          },
          "execution_count": 167
        },
        {
          "output_type": "execute_result",
          "data": {
            "text/plain": [
              "Text(0.5, 1.0, 'ADJECTIVES')"
            ]
          },
          "metadata": {
            "tags": []
          },
          "execution_count": 167
        },
        {
          "output_type": "execute_result",
          "data": {
            "text/plain": [
              "<BarContainer object of 10 artists>"
            ]
          },
          "metadata": {
            "tags": []
          },
          "execution_count": 167
        },
        {
          "output_type": "execute_result",
          "data": {
            "text/plain": [
              "<matplotlib.axes._subplots.AxesSubplot at 0x7f2998004c88>"
            ]
          },
          "metadata": {
            "tags": []
          },
          "execution_count": 167
        },
        {
          "output_type": "execute_result",
          "data": {
            "text/plain": [
              "Text(0.5, 1.0, 'ADVERBS')"
            ]
          },
          "metadata": {
            "tags": []
          },
          "execution_count": 167
        },
        {
          "output_type": "execute_result",
          "data": {
            "text/plain": [
              "<BarContainer object of 10 artists>"
            ]
          },
          "metadata": {
            "tags": []
          },
          "execution_count": 167
        },
        {
          "output_type": "execute_result",
          "data": {
            "text/plain": [
              "<matplotlib.axes._subplots.AxesSubplot at 0x7f2996b5e3c8>"
            ]
          },
          "metadata": {
            "tags": []
          },
          "execution_count": 167
        },
        {
          "output_type": "execute_result",
          "data": {
            "text/plain": [
              "Text(0.5, 1.0, 'NOUNS')"
            ]
          },
          "metadata": {
            "tags": []
          },
          "execution_count": 167
        },
        {
          "output_type": "execute_result",
          "data": {
            "text/plain": [
              "<BarContainer object of 10 artists>"
            ]
          },
          "metadata": {
            "tags": []
          },
          "execution_count": 167
        },
        {
          "output_type": "execute_result",
          "data": {
            "text/plain": [
              "<matplotlib.axes._subplots.AxesSubplot at 0x7f2997103978>"
            ]
          },
          "metadata": {
            "tags": []
          },
          "execution_count": 167
        },
        {
          "output_type": "execute_result",
          "data": {
            "text/plain": [
              "Text(0.5, 1.0, 'VERBS')"
            ]
          },
          "metadata": {
            "tags": []
          },
          "execution_count": 167
        },
        {
          "output_type": "execute_result",
          "data": {
            "text/plain": [
              "<BarContainer object of 10 artists>"
            ]
          },
          "metadata": {
            "tags": []
          },
          "execution_count": 167
        },
        {
          "output_type": "execute_result",
          "data": {
            "text/plain": [
              "<matplotlib.axes._subplots.AxesSubplot at 0x7f2996e55eb8>"
            ]
          },
          "metadata": {
            "tags": []
          },
          "execution_count": 167
        },
        {
          "output_type": "execute_result",
          "data": {
            "text/plain": [
              "Text(0.5, 1.0, 'INTERJECTIONS')"
            ]
          },
          "metadata": {
            "tags": []
          },
          "execution_count": 167
        },
        {
          "output_type": "execute_result",
          "data": {
            "text/plain": [
              "<BarContainer object of 10 artists>"
            ]
          },
          "metadata": {
            "tags": []
          },
          "execution_count": 167
        },
        {
          "output_type": "display_data",
          "data": {
            "image/png": "[encoded data removed]",
            "text/plain": [
              "<Figure size 1440x360 with 5 Axes>"
            ]
          },
          "metadata": {
            "tags": [],
            "needs_background": "light"
          }
        }
      ]
    },
    {
      "cell_type": "markdown",
      "metadata": {
        "id": "IFJLxJmKt_WN"
      },
      "source": [
        "## Check phrases\r\n",
        "*I was considering to vectorize not just individual words, but meaningful phrases (instead of indiscriminate bigrams). In the end I decided against this as there may be too many unique phrases that only appear once in the data.*"
      ]
    },
    {
      "cell_type": "code",
      "metadata": {
        "colab": {
          "base_uri": "https://localhost:8080/"
        },
        "id": "uNCkWeWAqnz7",
        "outputId": "5adb8669-8931-4557-e67e-8af36fe416b2"
      },
      "source": [
        "small_list = [to_model.iloc[:20,0]]\r\n",
        "small_list"
      ],
      "execution_count": 88,
      "outputs": [
        {
          "output_type": "execute_result",
          "data": {
            "text/plain": [
              "[67    delicious : This wine is full-bodied and delic...\n",
              " 68    Great wine for price : Super wine with fruity ...\n",
              " 69    Not worth the money! : Had a taste of either b...\n",
              " 70    Nice Red : This is our go-to wine for dinner p...\n",
              " 76    It is the first drink I check everytime : The ...\n",
              " 77       Yes I would buy again : Best Drink you can get\n",
              " 78          very reasonally priced : to make manhattens\n",
              " 79    One fine bourbon : Best bourbon I have found.....\n",
              " 80    Red Stag stands alone : Red Stag and Coke Zero...\n",
              " 81    Good taste : I like it with dr.peper to sip an...\n",
              " 82    The only whiskey I drink : Better than the oth...\n",
              " 83    Priced right and great quality : Drank it for ...\n",
              " 84    Best bourbon on earth. : I keep Jim Beam on ha...\n",
              " 85    A Bourbon Legend : I typically have this neat ...\n",
              " 86    I would buy this drink over and over. : It's d...\n",
              " 87    Smooth : I had a neat 2 finger glass two weeks...\n",
              " 88    smoothy : Best tasteing and defenetly the smoo...\n",
              " 89    Always in my liquor cabinet : I always keep a ...\n",
              " 90    Best price : This is our favorite mixed drink ...\n",
              " 91    Great product : Best whiskey around and a pric...\n",
              " Name: reviews, dtype: object]"
            ]
          },
          "metadata": {
            "tags": []
          },
          "execution_count": 88
        }
      ]
    },
    {
      "cell_type": "code",
      "metadata": {
        "id": "D1Nyiv20tZbJ"
      },
      "source": [
        "# Get spaCy Matcher\r\n",
        "from spacy.matcher import Matcher\r\n",
        "matcher = Matcher(nlp.vocab)\r\n",
        "\r\n",
        "# Create patterns\r\n",
        "pattern1 = [{\"POS\": \"ADJ\"}, {\"POS\": \"NOUN\"}]\r\n",
        "pattern2 = [{\"POS\": \"ADV\"}, {\"POS\": \"NOUN\"}]\r\n",
        "pattern3 = [{\"POS\": \"ADJ\"}, {\"POS\": \"PROPN\"}]\r\n",
        "pattern4 = [{\"POS\": \"ADV\"}, {\"POS\": \"PROPN\"}]\r\n",
        "\r\n",
        "# Add new patterns\r\n",
        "matcher.add(\"ADJ_NOUN\", None, pattern1)\r\n",
        "matcher.add(\"ADV_NOUN\", None, pattern2)\r\n",
        "matcher.add(\"ADJ_PROPN\", None, pattern3)\r\n",
        "matcher.add(\"ADV_PROPN\", None, pattern4)"
      ],
      "execution_count": 89,
      "outputs": []
    },
    {
      "cell_type": "code",
      "metadata": {
        "id": "6Zz3tPYZr6YP"
      },
      "source": [
        "# Get phrases with matcher\r\n",
        "small_doc = nlp(str(small_list))\r\n",
        "phrases = matcher(small_doc)"
      ],
      "execution_count": 90,
      "outputs": []
    },
    {
      "cell_type": "code",
      "metadata": {
        "colab": {
          "base_uri": "https://localhost:8080/"
        },
        "id": "I2xYDv3zsvNW",
        "outputId": "c4fca1dd-e18a-4773-cd20-f570f58a246f"
      },
      "source": [
        "for match_id, start, end in phrases:\r\n",
        "    phrase_span = small_doc[start:end]\r\n",
        "    print(phrase_span.lower_)"
      ],
      "execution_count": 91,
      "outputs": [
        {
          "output_type": "stream",
          "text": [
            "great wine\n",
            "super wine\n",
            "first drink\n",
            "fine bourbon\n",
            "best bourbon\n",
            "good taste\n",
            "only whiskey\n",
            "great quality\n",
            "best bourbon\n",
            "best tasteing\n",
            "best price\n",
            "mixed drink\n",
            "great product\n",
            "best whiskey\n"
          ],
          "name": "stdout"
        }
      ]
    },
    {
      "cell_type": "markdown",
      "metadata": {
        "id": "RQmw1uqHb-2t"
      },
      "source": [
        "## Visualizing vectors\r\n",
        "*I was curious how the vectors will look like. However reducing 1800+ features to two dimensions result in the visualization being all over the place*"
      ]
    },
    {
      "cell_type": "code",
      "metadata": {
        "colab": {
          "base_uri": "https://localhost:8080/",
          "height": 347
        },
        "id": "sYexbNqscLQS",
        "outputId": "5cfde44c-db31-4f1e-fb2d-c4effb65549b"
      },
      "source": [
        "# Check the vectors we have\r\n",
        "vectors_summary"
      ],
      "execution_count": 31,
      "outputs": [
        {
          "output_type": "execute_result",
          "data": {
            "text/html": [
              "<div>\n",
              "<style scoped>\n",
              "    .dataframe tbody tr th:only-of-type {\n",
              "        vertical-align: middle;\n",
              "    }\n",
              "\n",
              "    .dataframe tbody tr th {\n",
              "        vertical-align: top;\n",
              "    }\n",
              "\n",
              "    .dataframe thead th {\n",
              "        text-align: right;\n",
              "    }\n",
              "</style>\n",
              "<table border=\"1\" class=\"dataframe\">\n",
              "  <thead>\n",
              "    <tr style=\"text-align: right;\">\n",
              "      <th></th>\n",
              "      <th>Shape</th>\n",
              "      <th>Non-zeros</th>\n",
              "      <th>Sum</th>\n",
              "    </tr>\n",
              "  </thead>\n",
              "  <tbody>\n",
              "    <tr>\n",
              "      <th>COUNT VECTORS</th>\n",
              "      <td></td>\n",
              "      <td></td>\n",
              "      <td></td>\n",
              "    </tr>\n",
              "    <tr>\n",
              "      <th>train_boost_ctv</th>\n",
              "      <td>(1098, 1881)</td>\n",
              "      <td>12460</td>\n",
              "      <td>14472</td>\n",
              "    </tr>\n",
              "    <tr>\n",
              "      <th>train_ctv</th>\n",
              "      <td>(796, 1881)</td>\n",
              "      <td>9145</td>\n",
              "      <td>10464</td>\n",
              "    </tr>\n",
              "    <tr>\n",
              "      <th>test_ctv</th>\n",
              "      <td>(199, 1881)</td>\n",
              "      <td>2023</td>\n",
              "      <td>2385</td>\n",
              "    </tr>\n",
              "    <tr>\n",
              "      <th>new_ctv</th>\n",
              "      <td>(799, 1881)</td>\n",
              "      <td>11404</td>\n",
              "      <td>14159</td>\n",
              "    </tr>\n",
              "    <tr>\n",
              "      <th>TFIDF VECTORS</th>\n",
              "      <td></td>\n",
              "      <td></td>\n",
              "      <td></td>\n",
              "    </tr>\n",
              "    <tr>\n",
              "      <th>train_boost_tfv</th>\n",
              "      <td>(1098, 1881)</td>\n",
              "      <td>12460</td>\n",
              "      <td>3229.97</td>\n",
              "    </tr>\n",
              "    <tr>\n",
              "      <th>train_tfv</th>\n",
              "      <td>(796, 1881)</td>\n",
              "      <td>9145</td>\n",
              "      <td>2362</td>\n",
              "    </tr>\n",
              "    <tr>\n",
              "      <th>test_tfv</th>\n",
              "      <td>(199, 1881)</td>\n",
              "      <td>2023</td>\n",
              "      <td>555.535</td>\n",
              "    </tr>\n",
              "    <tr>\n",
              "      <th>new_tfv</th>\n",
              "      <td>(799, 1881)</td>\n",
              "      <td>11404</td>\n",
              "      <td>2564.19</td>\n",
              "    </tr>\n",
              "  </tbody>\n",
              "</table>\n",
              "</div>"
            ],
            "text/plain": [
              "                        Shape Non-zeros      Sum\n",
              "COUNT VECTORS                                   \n",
              "train_boost_ctv  (1098, 1881)     12460    14472\n",
              "train_ctv         (796, 1881)      9145    10464\n",
              "test_ctv          (199, 1881)      2023     2385\n",
              "new_ctv           (799, 1881)     11404    14159\n",
              "TFIDF VECTORS                                   \n",
              "train_boost_tfv  (1098, 1881)     12460  3229.97\n",
              "train_tfv         (796, 1881)      9145     2362\n",
              "test_tfv          (199, 1881)      2023  555.535\n",
              "new_tfv           (799, 1881)     11404  2564.19"
            ]
          },
          "metadata": {
            "tags": []
          },
          "execution_count": 31
        }
      ]
    },
    {
      "cell_type": "code",
      "metadata": {
        "id": "w6YGPhBpf5Nt"
      },
      "source": [
        "# Initiate TSNE for dimension reduction\r\n",
        "from sklearn.manifold import TSNE\r\n",
        "tsne = TSNE(n_components=2, init='random', random_state=20, perplexity=10)"
      ],
      "execution_count": 43,
      "outputs": []
    },
    {
      "cell_type": "code",
      "metadata": {
        "colab": {
          "base_uri": "https://localhost:8080/"
        },
        "id": "FiKGY_gIjtH4",
        "outputId": "23ed4e9d-c320-4fa4-dd64-5fb3d2412045"
      },
      "source": [
        "train_ctv_tsne = tsne.fit_transform(train_ctv)\r\n",
        "train_ctv_tsne.shape"
      ],
      "execution_count": 44,
      "outputs": [
        {
          "output_type": "execute_result",
          "data": {
            "text/plain": [
              "(796, 2)"
            ]
          },
          "metadata": {
            "tags": []
          },
          "execution_count": 44
        }
      ]
    },
    {
      "cell_type": "code",
      "metadata": {
        "colab": {
          "base_uri": "https://localhost:8080/"
        },
        "id": "qN_lTUfikB82",
        "outputId": "459c6894-ba16-4676-d90b-73ac1676606a"
      },
      "source": [
        "train_ctv_tsne"
      ],
      "execution_count": 45,
      "outputs": [
        {
          "output_type": "execute_result",
          "data": {
            "text/plain": [
              "array([[ 16.521143 ,   9.021049 ],\n",
              "       [  6.3968596,   1.3541888],\n",
              "       [-54.9573   , -18.636875 ],\n",
              "       ...,\n",
              "       [ 62.267727 ,  10.171315 ],\n",
              "       [ 17.449022 ,  21.354225 ],\n",
              "       [-23.6984   , -14.597283 ]], dtype=float32)"
            ]
          },
          "metadata": {
            "tags": []
          },
          "execution_count": 45
        }
      ]
    },
    {
      "cell_type": "code",
      "metadata": {
        "colab": {
          "base_uri": "https://localhost:8080/"
        },
        "id": "0yh92OkDkQVk",
        "outputId": "0275d1d1-4830-4e07-c144-8161df0544ef"
      },
      "source": [
        "train_ctv_tsne = np.c_[y_train, train_ctv_tsne]\r\n",
        "train_ctv_tsne"
      ],
      "execution_count": 46,
      "outputs": [
        {
          "output_type": "execute_result",
          "data": {
            "text/plain": [
              "array([[  0.        ,  16.52114296,   9.02104855],\n",
              "       [  0.        ,   6.39685965,   1.3541888 ],\n",
              "       [  0.        , -54.95729828, -18.63687515],\n",
              "       ...,\n",
              "       [  0.        ,  62.2677269 ,  10.17131519],\n",
              "       [  0.        ,  17.44902229,  21.35422516],\n",
              "       [  0.        , -23.6984005 , -14.59728336]])"
            ]
          },
          "metadata": {
            "tags": []
          },
          "execution_count": 46
        }
      ]
    },
    {
      "cell_type": "code",
      "metadata": {
        "id": "RxzPh9kblCdY"
      },
      "source": [
        "train_ctv_obs = [int(observed) for observed in train_ctv_tsne[:, 0]]\r\n",
        "train_ctv_dim1 = [float(x) for x in train_ctv_tsne[:, 1]]\r\n",
        "train_ctv_dim2 = [float(y) for y in train_ctv_tsne[:, 2]]"
      ],
      "execution_count": 47,
      "outputs": []
    },
    {
      "cell_type": "code",
      "metadata": {
        "colab": {
          "base_uri": "https://localhost:8080/",
          "height": 627
        },
        "id": "cG9-qxZmmPDp",
        "outputId": "eb016e2f-cdb7-4223-ac06-197fb1e7ea39"
      },
      "source": [
        "plt.subplots(1, 1, figsize=(10,10))\r\n",
        "\r\n",
        "plt.subplot(111)\r\n",
        "plt.scatter(train_ctv_dim1, train_ctv_dim2, c=train_ctv_obs, cmap='viridis')"
      ],
      "execution_count": 48,
      "outputs": [
        {
          "output_type": "execute_result",
          "data": {
            "text/plain": [
              "(<Figure size 720x720 with 1 Axes>,\n",
              " <matplotlib.axes._subplots.AxesSubplot at 0x7fa4d24a5e10>)"
            ]
          },
          "metadata": {
            "tags": []
          },
          "execution_count": 48
        },
        {
          "output_type": "execute_result",
          "data": {
            "text/plain": [
              "<matplotlib.axes._subplots.AxesSubplot at 0x7fa4d24f2be0>"
            ]
          },
          "metadata": {
            "tags": []
          },
          "execution_count": 48
        },
        {
          "output_type": "execute_result",
          "data": {
            "text/plain": [
              "<matplotlib.collections.PathCollection at 0x7fa4d247ccc0>"
            ]
          },
          "metadata": {
            "tags": []
          },
          "execution_count": 48
        },
        {
          "output_type": "display_data",
          "data": {
            "image/png": "[encoded data removed]",
            "text/plain": [
              "<Figure size 720x720 with 1 Axes>"
            ]
          },
          "metadata": {
            "tags": []
          }
        }
      ]
    }
  ]
}